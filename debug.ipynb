{
 "cells": [
  {
   "cell_type": "code",
   "execution_count": 1,
   "id": "1edcd694-22d9-4b57-ad01-cb116d586a64",
   "metadata": {},
   "outputs": [],
   "source": [
    "# import shelve\n",
    "\n",
    "# filename = \"/tmp/shelve.out\"\n",
    "# my_shelf = shelve.open(filename)\n",
    "# for key in my_shelf:\n",
    "#     globals()[key]=my_shelf[key]\n",
    "# my_shelf.close()"
   ]
  },
  {
   "cell_type": "code",
   "execution_count": 2,
   "id": "4300af19-b9cb-4adb-b0d0-e684751e73f9",
   "metadata": {},
   "outputs": [],
   "source": [
    "# # Linear scaling to [-2^n, 2^n]\n",
    "# a, b = -11, 77\n",
    "# target_bit_width = 18\n",
    "\n",
    "# range_size = b - a\n",
    "# b_prime = np.floor(a + range_size / 2)\n",
    "# a_prime = np.floor(2**(target_bit_width-1) / (max((a-b_prime), (b-b_prime)) / 2))\n",
    "\n",
    "# print(np.log2(np.abs((a-b_prime)*a_prime)), np.log2(np.abs((b-b_prime)*a_prime)))"
   ]
  },
  {
   "cell_type": "code",
   "execution_count": 3,
   "id": "e2a7ccd6-4ed2-4f34-ac5f-fa50343550ee",
   "metadata": {},
   "outputs": [],
   "source": [
    "# Integer.that_can_represent([a-b_prime, b-b_prime]).bit_width"
   ]
  },
  {
   "cell_type": "code",
   "execution_count": 4,
   "id": "067e7b48-891d-45a9-a355-abea5828feae",
   "metadata": {},
   "outputs": [],
   "source": [
    "# OLD STUFF\n",
    "# %reset\n",
    "# # Imports\n",
    "# from concrete.fhe import round_bit_pattern, truncate_bit_pattern\n",
    "# import numpy as np\n",
    "# from concrete.fhe.dtypes import Integer\n",
    "# import matplotlib.pyplot as plt\n",
    "\n",
    "# def linear_up_scaling(x: np.ndarray, a=1, b=0):\n",
    "#     assert x.dtype == np.int64\n",
    "#     assert isinstance(a, (int, np.int64)), f\"{a=}, {type(a)=}\"\n",
    "#     assert isinstance(b, (int, np.int64)), f\"{b=}, {type(b)=}\"\n",
    "#     return (x * a) + b\n",
    "    \n",
    "# def linear_down_scaling(x:np.ndarray, a=1, b=0):\n",
    "#     return (x.astype(np.float64) - float(b)) / float(a)\n",
    "\n",
    "# # Hypothesis:\n",
    "# # * all steps are the same size\n",
    "# # * they aren't too many of them?\n",
    "\n",
    "# # Some parameters\n",
    "# # We could do a linear/binary search on the n-round-bits to use\n",
    "\n",
    "    \n",
    "# # Function thresholds\n",
    "# step_size = 7  # Constant step size assumption\n",
    "# th1 = 21\n",
    "# th2 = th1 + step_size\n",
    "# th3 = th2 + step_size\n",
    "\n",
    "# # Bounds\n",
    "# a, b = -11, 79\n",
    "\n",
    "# rounding_threshold = int(np.ceil(np.log2((b-a)/step_size)))\n",
    "\n",
    "# print(\"MINIMUM n-round:\", rounding_threshold)\n",
    "# print(\"##################################\")\n",
    "# print(f\"ROUNDING TO: {rounding_threshold}\")\n",
    "# print(\"##################################\")\n",
    "\n",
    "# # Step size function to optimize\n",
    "# def f(x, thresholds=(th1, th2, th3)):\n",
    "#     res = np.zeros_like(x)\n",
    "#     for threshold in thresholds:\n",
    "#         res += (x >= threshold).astype(np.int64)\n",
    "#     return res\n",
    "\n",
    "# # Inputs\n",
    "# x = np.arange(a, b, 1)  # Inputs\n",
    "# x_acc_size = Integer.that_can_represent(x).bit_width\n",
    "# print(\"acc size\", x_acc_size)\n",
    "\n",
    "# # Naive rounding\n",
    "# lsbs = x_acc_size - rounding_threshold\n",
    "# x_rounded = truncate_bit_pattern(x, lsbs)\n",
    "\n",
    "# # Compute baseline\n",
    "# y = f(x)\n",
    "# y_rounded = f(x_rounded)\n",
    "\n",
    "# y_bit_width = Integer.that_can_represent(y).bit_width\n",
    "# print(\"tlu output bit width\", y_bit_width)\n",
    "# # Plot baseline\n",
    "# fig, axes = plt.subplots(ncols=3, figsize=(15, 5))\n",
    "\n",
    "# ax = axes[0]\n",
    "# ax.step(x, y)\n",
    "# ax.step(x, y_rounded, linestyle=\"dashed\")\n",
    "# delta_y = y.max() - y.min()\n",
    "# epsilon_y = 0.01 * delta_y\n",
    "# ax.vlines(\n",
    "#     x[np.concatenate([np.diff(x_rounded).astype(bool), [False]])],\n",
    "#     y.min()-epsilon_y, y.max()+epsilon_y, color=\"grey\", linestyle=\"dashed\", alpha=.5\n",
    "# )\n",
    "\n",
    "# new_b = th1 + ((b - th1) // step_size ) * step_size + bool(b % step_size)*step_size\n",
    "# new_a = th1 - ((th1 - a) // step_size ) * step_size - bool(a % step_size)*step_size\n",
    "\n",
    "# # Find a first\n",
    "# jump_a = np.diff(y) > 0\n",
    "# jump_index_a = np.arange(0, len(jump_a))[jump_a]  # Compute where jumps are\n",
    "# print(\"jump index a\", jump_index_a)\n",
    "# step_size_a = np.diff(jump_index_a)\n",
    "# assert (step_size_a == step_size).all()\n",
    "# print(\"step size a\", step_size_a)\n",
    "# # I need random value to be such that a_prime >> 0\n",
    "\n",
    "# some_value = rounding_threshold\n",
    "# print(f\"{some_value}=\")\n",
    "# a_prime = np.rint((2**some_value)/(step_size_a.min())).astype(np.int64)\n",
    "# x_a = linear_up_scaling(x, a=a_prime)\n",
    "# acc_a = Integer.that_can_represent(x_a).bit_width\n",
    "# print(\"acc size a\", acc_a)\n",
    "# lsbs_a = acc_a - rounding_threshold\n",
    "# print(f\"{lsbs_a=}\")\n",
    "# x_a_rounded = linear_down_scaling(truncate_bit_pattern(x_a, lsbs_a).astype(np.float64), a=float(a_prime))\n",
    "# y_a_rounded = f(x_a_rounded)\n",
    "\n",
    "# # Plot\n",
    "# ax = axes[1]\n",
    "# ax.step(x, y)\n",
    "# ax.step(x, y_a_rounded, linestyle=\"dashed\")\n",
    "# ax.vlines(\n",
    "#     x[np.concatenate([np.diff(x_a_rounded).astype(bool), [False]])], \n",
    "#     y.min()-epsilon_y, y.max()+epsilon_y, color=\"grey\", linestyle=\"dashed\", alpha=.5)\n",
    "\n",
    "# jump_b = np.diff(y_a_rounded)\n",
    "# steps_index_b = np.arange(0, len(jump_b))[jump_b.astype(bool)]\n",
    "# steps_size_b = np.diff(steps_index_b)\n",
    "# diffs = (x_a_rounded - x_a[np.diff(y_a_rounded).argmax()])\n",
    "# b_prime = diffs[np.abs(diffs).argmin()].astype(np.int64)\n",
    "\n",
    "# print(f\"{a_prime=}, {b_prime=}\")\n",
    "\n",
    "\n",
    "# x_a_b = linear_up_scaling(x, a=a_prime, b=b_prime)\n",
    "# acc_a_b = Integer.that_can_represent(x_a_b).bit_width\n",
    "# print(\"acc size a b\", acc_a_b)\n",
    "# lsbs_a_b = acc_a_b - rounding_threshold\n",
    "# print(f\"{lsbs_a_b=}\")\n",
    "# x_a_b_rounded = linear_down_scaling(\n",
    "#     truncate_bit_pattern(x_a_b, lsbs_a_b).astype(np.float64), b=float(b_prime), a=float(a_prime))\n",
    "# print(\"rounded values a b\", np.diff(x[np.concatenate([np.diff(x_a_b_rounded).astype(bool), [False]])]))\n",
    "# y_calib_rounded = f(x_a_b_rounded)\n",
    "\n",
    "# # Plot\n",
    "# ax = axes[2]\n",
    "# ax.step(x, y)\n",
    "# ax.step(x, y_calib_rounded, linestyle=\"dashed\")\n",
    "# ax.vlines(x[np.concatenate([np.diff(x_a_b_rounded).astype(bool), [False]])], y.min()-epsilon_y, y.max()+epsilon_y, color=\"grey\", linestyle=\"dashed\", alpha=.5)\n",
    "\n",
    "# plt.show()\n",
    "# plt.close(fig)"
   ]
  },
  {
   "cell_type": "code",
   "execution_count": 5,
   "id": "6a2267d7-2e76-479b-ba3f-d37e79a4b12a",
   "metadata": {},
   "outputs": [],
   "source": [
    "# new_b = th1 + ((b - th1) // step_size ) * step_size + bool(b % step_size)*step_size\n",
    "# new_a = th1 - ((th1 - a) // step_size ) * step_size - bool(a % step_size)*step_size\n",
    "# new_a, a, b, new_b"
   ]
  },
  {
   "cell_type": "code",
   "execution_count": 6,
   "id": "43371591-6aa0-4afb-9d27-b30590eb64b0",
   "metadata": {},
   "outputs": [],
   "source": [
    "# find c, d s.t. new_a * c + d = - 2^(n-1) and new_b * c + d = 2^(n-1) - 1"
   ]
  },
  {
   "cell_type": "code",
   "execution_count": 7,
   "id": "385176e6-e3c1-4ac8-9378-100a1a271cd6",
   "metadata": {},
   "outputs": [],
   "source": [
    "# n = 20\n",
    "# coef = ((2**n) - 1)/(new_b - new_a)\n",
    "# intercept = -2**(n-1) - (new_a * ((2**n - 1)/(new_b - new_a)))"
   ]
  },
  {
   "cell_type": "code",
   "execution_count": 8,
   "id": "2768ead1-20fc-46ef-981d-13bbc1ef690d",
   "metadata": {},
   "outputs": [],
   "source": [
    "# np.log2(np.abs(new_a * coef + intercept)), np.log2(np.abs(new_b * coef + intercept))"
   ]
  },
  {
   "cell_type": "code",
   "execution_count": 9,
   "id": "751a7699-e027-41ad-aa65-171661d2425c",
   "metadata": {},
   "outputs": [],
   "source": [
    "# from concrete.fhe import truncate_bit_pattern\n",
    "# truncate_bit_pattern(list(range(8)), lsbs_to_remove=1)"
   ]
  },
  {
   "cell_type": "markdown",
   "id": "824ac87a-013c-46e1-a031-42882ec926a1",
   "metadata": {},
   "source": [
    "# MAGIC HERE"
   ]
  },
  {
   "cell_type": "code",
   "execution_count": 36,
   "id": "54e12547-40e5-4c64-be56-07c5148bd051",
   "metadata": {},
   "outputs": [
    {
     "name": "stdin",
     "output_type": "stream",
     "text": [
      "Once deleted, variables cannot be recovered. Proceed (y/[n])?  y\n"
     ]
    },
    {
     "name": "stdout",
     "output_type": "stream",
     "text": [
      "MINIMUM n-bits-rounding: 4\n",
      "acc size 8\n",
      "TLU output bit width 2\n",
      "-21 133\n",
      "n_parts=11.0, n_round=4\n",
      "3 2\n",
      "DEBUG:  4.0\n",
      "x_delta_min-middle=-112.0, x_delta_max-middle=112.0\n",
      "x_delta_min=-63, x_delta_max=161\n",
      "a_prime=37449, b_prime=49.0\n",
      "a_prime=37449, b_prime=49\n",
      "acc size a b 23\n",
      "lsbs_a_b=19\n",
      "rounded values a b [14 14 14 14 15 14 14 14 14]\n",
      "All values are exactly equal!\n"
     ]
    },
    {
     "data": {
      "image/png": "[encoded data removed]",
      "text/plain": [
       "<Figure size 1500x500 with 2 Axes>"
      ]
     },
     "metadata": {},
     "output_type": "display_data"
    },
    {
     "name": "stdout",
     "output_type": "stream",
     "text": [
      "MINIMUM n-bits-rounding: 4\n",
      "acc size 8\n",
      "TLU output bit width 2\n",
      "-21 133\n",
      "n_parts=11.0, n_round=4\n",
      "3 2\n",
      "DEBUG:  4.0\n",
      "x_delta_min-middle=-112.0, x_delta_max-middle=112.0\n",
      "x_delta_min=-63, x_delta_max=161\n",
      "a_prime=37449, b_prime=56.0\n",
      "a_prime=37449, b_prime=56\n",
      "acc size a b 23\n",
      "lsbs_a_b=19\n",
      "rounded values a b [14 14 14 14 15 14 14 14 14]\n",
      "All values are exactly equal!\n"
     ]
    },
    {
     "data": {
      "image/png": "[encoded data removed]",
      "text/plain": [
       "<Figure size 1500x500 with 2 Axes>"
      ]
     },
     "metadata": {},
     "output_type": "display_data"
    }
   ],
   "source": [
    "%reset\n",
    "# Imports\n",
    "from concrete.fhe import round_bit_pattern, truncate_bit_pattern\n",
    "import numpy as np\n",
    "from concrete.fhe.dtypes import Integer\n",
    "import matplotlib.pyplot as plt\n",
    "\n",
    "mult_first = False\n",
    "if mult_first:    \n",
    "    def linear_up_scaling(x: np.ndarray, a=1, b=0):\n",
    "        assert x.dtype == np.int64\n",
    "        assert isinstance(a, (int, np.int64)), f\"{a=}, {type(a)=}\"\n",
    "        assert isinstance(b, (int, np.int64)), f\"{b=}, {type(b)=}\"\n",
    "        return (x * a) + b\n",
    "        \n",
    "    def linear_down_scaling(x:np.ndarray, a=1, b=0):\n",
    "        return (x.astype(np.float64) - float(b)) / float(a)\n",
    "else:\n",
    "    def linear_up_scaling(x: np.ndarray, a=1, b=0):\n",
    "        assert x.dtype == np.int64\n",
    "        assert isinstance(a, (int, np.int64)), f\"{a=}, {type(a)=}\"\n",
    "        assert isinstance(b, (int, np.int64)), f\"{b=}, {type(b)=}\"\n",
    "        return (x - b) * a\n",
    "        \n",
    "    def linear_down_scaling(x:np.ndarray, a=1, b=0):\n",
    "        return (x.astype(np.float64) / float(a)) + float(b)\n",
    "\n",
    "# Hypothesis:\n",
    "# * all steps are the same size\n",
    "# * they aren't too many of them\n",
    "\n",
    "# Some parameters\n",
    "# We could do a linear/binary search on the n-round-bits to use\n",
    "\n",
    "# Function thresholds\n",
    "step_size = 14  # Constant step size assumption\n",
    "th1 = 21  # First threshold\n",
    "th2 = th1 + step_size\n",
    "th3 = th2 + step_size\n",
    "\n",
    "thresholds = (th1, th2, th3)\n",
    "# Function definition bounds\n",
    "a, b = -11, 120\n",
    "\n",
    "# Step size function to optimize\n",
    "def f(x, thresholds=thresholds):\n",
    "    res = np.zeros_like(x)\n",
    "    for threshold in thresholds:\n",
    "        res += (x >= threshold).astype(np.int64)\n",
    "    return res\n",
    "\n",
    "for rounding_function in [truncate_bit_pattern, round_bit_pattern]:\n",
    "    # Comparison figure\n",
    "    fig, axes = plt.subplots(ncols=2, figsize=(15, 5))\n",
    "    \n",
    "    # Minimum n-bits required\n",
    "    rounding_threshold = int(np.ceil(np.log2((b-a)/step_size)))\n",
    "    \n",
    "    print(\"MINIMUM n-bits-rounding:\", rounding_threshold)\n",
    "    \n",
    "    # Inputs\n",
    "    x = np.arange(a, b+1, 1)  # Inputs\n",
    "    x_acc_size = Integer.that_can_represent(x).bit_width\n",
    "    print(\"acc size\", x_acc_size)\n",
    "    \n",
    "    # Naive rounding baseline\n",
    "    lsbs = x_acc_size - rounding_threshold\n",
    "    x_rounded = rounding_function(x, lsbs)\n",
    "    y = f(x)\n",
    "    y_rounded = f(x_rounded)\n",
    "    y_bit_width = Integer.that_can_represent(y).bit_width\n",
    "    print(\"TLU output bit width\", y_bit_width)\n",
    "    \n",
    "    # Plot baseline\n",
    "    ax = axes[0]\n",
    "    ax.step(x, y, where=\"post\")\n",
    "    ax.step(x, y_rounded, linestyle=\"dashed\", where=\"post\")\n",
    "    # Add brackets to indicate inclusion\n",
    "\n",
    "    delta_y = y.max() - y.min()\n",
    "    epsilon_y = 0.01 * delta_y\n",
    "    ax.vlines(\n",
    "        x[np.concatenate([[False], np.diff(x_rounded).astype(bool),])],\n",
    "        y.min()-epsilon_y, y.max()+epsilon_y, color=\"grey\", linestyle=\"dashed\", alpha=.5\n",
    "    )\n",
    "    ax.vlines(\n",
    "        [a, b],\n",
    "        y.min()-epsilon_y, y.max()+epsilon_y, color=\"red\", linestyle=\"dashed\", alpha=.5, label=\"data bounds\",\n",
    "    )\n",
    "    # Mark where the threshold is\n",
    "    for threshold in thresholds:\n",
    "        ax.axvline(x=threshold, color='r', linestyle='--')\n",
    "    \n",
    "    # Add markers to indicate inclusion only on step changes\n",
    "    for i in range(1, len(x)):\n",
    "        if y[i] != y[i-1]:\n",
    "            ax.scatter(x[i], y[i], marker=\"4\", color='b', s=100)     \n",
    "\n",
    "    # Find optimal a and b\n",
    "    delta = step_size\n",
    "\n",
    "    # Find new limits such that we have smallest bounds that include actual bounds as t_0 + (k * step_size)\n",
    "    x_delta_min = th1 - ((th1 - a) // step_size ) * step_size - bool(a % step_size)*step_size\n",
    "    x_delta_max = th1 + ((b - th1) // step_size ) * step_size + bool(b % step_size)*step_size\n",
    "\n",
    "    print(x_delta_min, x_delta_max)\n",
    "    \n",
    "    # Number of elements in the new range for the given step size\n",
    "    n_parts = ((x_delta_max - x_delta_min) / delta)\n",
    "    n_round = np.ceil(np.log2(n_parts)).astype(np.int64)\n",
    "    assert n_round <= rounding_threshold, f\"{n_round=} > {rounding_threshold=}\"\n",
    "    print(f\"{n_parts=}, {n_round=}\")\n",
    "    \n",
    "    exceed = ((2**n_round)) - n_parts\n",
    "    left_bound_add = np.ceil(exceed/2).astype(np.int64)\n",
    "    right_bound_add = np.floor(exceed/2).astype(np.int64)\n",
    "    assert left_bound_add + right_bound_add == exceed\n",
    "    print(left_bound_add, right_bound_add)\n",
    "\n",
    "    x_delta_min -= left_bound_add * step_size\n",
    "    x_delta_max += right_bound_add * step_size\n",
    "    print(\"DEBUG: \", np.log2(((x_delta_max - x_delta_min) / step_size)))\n",
    "\n",
    "    middle = (x_delta_max - x_delta_min)/2\n",
    "    middle = np.median(np.arange(x_delta_min, x_delta_max+1, step_size))\n",
    "    print(f\"{x_delta_min-middle=}, {x_delta_max-middle=}\")\n",
    "    print(f\"{x_delta_min=}, {x_delta_max=}\")\n",
    "\n",
    "    # Find the proper n\n",
    "    if mult_first:\n",
    "        # n = x_acc_size+1\n",
    "        n = 23\n",
    "        a_prime = ((2**n) - step_size)/(x_delta_max - x_delta_min)\n",
    "\n",
    "        b_prime = -2**(n-1) - (x_delta_min * ((2**n - 1)/(x_delta_max - x_delta_min)))\n",
    "        \n",
    "        print(f\"{a_prime=}, {b_prime=}\")\n",
    "        \n",
    "        a_prime = np.floor(a_prime).astype(np.int64)\n",
    "        b_prime = np.floor(b_prime).astype(np.int64)\n",
    "    else:\n",
    "        #n = x_acc_size+1\n",
    "        n = 23\n",
    "        a_prime = (2**n - 1) / (x_delta_max - x_delta_min)\n",
    "        a_prime = np.floor(a_prime).astype(np.int64)\n",
    "\n",
    "        # b_prime = (2**(n-1)) + (x_delta_min * a_prime)\n",
    "        b_prime = middle\n",
    "        if rounding_function == round_bit_pattern:\n",
    "            b_prime += (delta/2)\n",
    "        else:\n",
    "            b_prime += 0\n",
    "        print(f\"{a_prime=}, {b_prime=}\")\n",
    "\n",
    "        a_prime = np.floor(a_prime).astype(np.int64)\n",
    "        b_prime = np.floor(b_prime).astype(np.int64)\n",
    "\n",
    "    print(f\"{a_prime=}, {b_prime=}\")\n",
    "    \n",
    "    # Evaluation with calibrated values\n",
    "    x_a_b = linear_up_scaling(x, a=a_prime, b=b_prime)\n",
    "    acc_a_b = Integer.that_can_represent(x_a_b).bit_width\n",
    "    print(\"acc size a b\", acc_a_b)\n",
    "    lsbs_a_b = int(acc_a_b - rounding_threshold)\n",
    "    print(f\"{lsbs_a_b=}\")\n",
    "    x_a_b_rounded = linear_down_scaling(\n",
    "        rounding_function(x_a_b, lsbs_a_b).astype(np.float64),\n",
    "        b=float(b_prime)+1, a=float(a_prime)\n",
    "    )\n",
    "    print(\"rounded values a b\", np.diff(x[np.concatenate([np.diff(x_a_b_rounded).astype(bool), [False]])]))\n",
    "    y_calib_rounded = f(x_a_b_rounded)\n",
    "    \n",
    "    # Plot\n",
    "    ax = axes[1]\n",
    "    ax.step(x, y, where=\"post\")\n",
    "    ax.step(x, y_calib_rounded, linestyle=\"dashed\", where=\"post\")\n",
    "    ax.vlines(x[ np.concatenate([[False], np.diff(x_a_b_rounded).astype(bool), ])], y.min()-epsilon_y, y.max()+epsilon_y, color=\"grey\", linestyle=\"dashed\", alpha=.5)\n",
    "    ax.vlines(\n",
    "        [a, b],\n",
    "        y.min()-epsilon_y, y.max()+epsilon_y, color=\"red\", linestyle=\"dashed\", alpha=.5, label=\"data bounds\",\n",
    "    )\n",
    "    \n",
    "    # ax.vlines(\n",
    "    #     [new_a, new_b],\n",
    "    #     y.min()-epsilon_y, y.max()+epsilon_y, color=\"green\", linestyle=\"dashed\", alpha=.5, label=\"new artifical bounds\",\n",
    "    # )\n",
    "    if (y == y_calib_rounded).all():\n",
    "        print(\"All values are exactly equal!\")\n",
    "    plt.show()\n",
    "    plt.close(fig)"
   ]
  },
  {
   "cell_type": "code",
   "execution_count": 27,
   "id": "fcc6d98e-23ac-4db4-b5b8-c3d3b4724aa2",
   "metadata": {},
   "outputs": [
    {
     "name": "stdout",
     "output_type": "stream",
     "text": [
      "[21 34] [13]\n"
     ]
    }
   ],
   "source": [
    "steps_indexes = x[np.concatenate([[False], np.diff(y).astype(bool)])]\n",
    "delta = np.diff(steps_indexes)\n",
    "print(steps_indexes, delta)"
   ]
  },
  {
   "cell_type": "code",
   "execution_count": 28,
   "id": "cf5c601a-b23a-445c-9a58-185ad0be7ee6",
   "metadata": {},
   "outputs": [
    {
     "name": "stdout",
     "output_type": "stream",
     "text": [
      "8\n"
     ]
    },
    {
     "data": {
      "image/png": "[encoded data removed]",
      "text/plain": [
       "<Figure size 640x480 with 1 Axes>"
      ]
     },
     "metadata": {},
     "output_type": "display_data"
    },
    {
     "data": {
      "text/plain": [
       "[<matplotlib.lines.Line2D at 0x295fa3e80>]"
      ]
     },
     "execution_count": 28,
     "metadata": {},
     "output_type": "execute_result"
    },
    {
     "data": {
      "image/png": "[encoded data removed]",
      "text/plain": [
       "<Figure size 640x480 with 1 Axes>"
      ]
     },
     "metadata": {},
     "output_type": "display_data"
    }
   ],
   "source": [
    "round_to = 3\n",
    "\n",
    "if True:\n",
    "    # Full n-bits range\n",
    "    n_bits = 6\n",
    "    min_value, max_value = -2**(n_bits-1), 2**(n_bits-1)-1\n",
    "    assert n_bits == Integer.that_can_represent([min_value, max_value]).bit_width\n",
    "else:\n",
    "    # Manual range, not taking the full n-bits into account\n",
    "    min_value, max_value = -20, 80\n",
    "    n_bits = Integer.that_can_represent([min_value, max_value]).bit_width\n",
    "\n",
    "sub_div_limit = 2 **(n_bits - round_to)\n",
    "print(sub_div_limit)\n",
    "\n",
    "x = np.arange(min_value, max_value)\n",
    "subset_size = []\n",
    "step_size = []\n",
    "a_max = 1_000\n",
    "\n",
    "for a in range(1, a_max):\n",
    "    x_a = x*a\n",
    "    x_a_acc_size = Integer.that_can_represent(x_a).bit_width\n",
    "    lsbs = x_a_acc_size - round_to\n",
    "    x_a_round = round_bit_pattern(x_a, lsbs).astype(np.float64) / a\n",
    "    \n",
    "    diff = np.diff(x_a_round)\n",
    "    diff = diff[diff>0]\n",
    "    assert np.isclose(diff, diff.max()).all(), diff\n",
    "    step_size.append(diff.max())\n",
    "    subset_size.append(len(diff)) \n",
    "\n",
    "    # fig, ax = plt.subplots()\n",
    "    # ax.vlines(x_a_round, -1, 1, )\n",
    "    # ax.set_xlim(min_value, max_value)\n",
    "    # plt.show(fig)\n",
    "    # plt.close(fig)\n",
    "\n",
    "plt.step(list(range(1, a_max)), step_size)\n",
    "\n",
    "for i in range(int(np.ceil(np.log2(a_max)))):\n",
    "    plt.vlines(2**i, min(step_size), max(step_size)*1.1, linestyle=\"dotted\")\n",
    "    \n",
    "plt.step(list(range(1, a_max)), step_size)\n",
    "# These bounds are only true if scaled to [-2**(n-1)+1, 2**(n-1)-1]\n",
    "plt.hlines(sub_div_limit, 1, a_max, linestyle=\"dashed\", color=\"grey\")\n",
    "plt.hlines(2*sub_div_limit, 1, a_max, linestyle=\"dashed\", color=\"grey\")\n",
    "plt.show() \n",
    "plt.close()\n",
    "\n",
    "plt.step(list(range(1, a_max)), subset_size)"
   ]
  },
  {
   "cell_type": "code",
   "execution_count": null,
   "id": "70d151c6-4d99-42b9-a411-80d7b4203746",
   "metadata": {},
   "outputs": [],
   "source": []
  },
  {
   "cell_type": "code",
   "execution_count": null,
   "id": "c9c436ad-702d-4119-81ab-952522e7e1c8",
   "metadata": {},
   "outputs": [],
   "source": []
  },
  {
   "cell_type": "code",
   "execution_count": null,
   "id": "8e560012-75c7-4fb1-8eda-385e9557e1f1",
   "metadata": {},
   "outputs": [],
   "source": []
  },
  {
   "cell_type": "code",
   "execution_count": null,
   "id": "64d182f9-70b7-4bac-a3a2-e3b674b36a9d",
   "metadata": {},
   "outputs": [],
   "source": []
  },
  {
   "cell_type": "code",
   "execution_count": null,
   "id": "80af022d-42f5-4fa2-9ccb-83b005211d54",
   "metadata": {},
   "outputs": [],
   "source": []
  },
  {
   "cell_type": "code",
   "execution_count": null,
   "id": "667a9c76-98bc-4af8-b66d-de27159d86c0",
   "metadata": {},
   "outputs": [],
   "source": []
  },
  {
   "cell_type": "code",
   "execution_count": null,
   "id": "9de4dcea-5cdf-442a-8752-25c1ff754a72",
   "metadata": {},
   "outputs": [],
   "source": []
  },
  {
   "cell_type": "code",
   "execution_count": null,
   "id": "e0f6ba29-3c31-4116-b88b-d07f647134ba",
   "metadata": {},
   "outputs": [],
   "source": []
  },
  {
   "cell_type": "code",
   "execution_count": null,
   "id": "28767813-9f87-4487-a7c4-d34c2504c4cc",
   "metadata": {},
   "outputs": [],
   "source": []
  },
  {
   "cell_type": "code",
   "execution_count": null,
   "id": "d36145f1-e3df-42f6-beac-aebffd53abe0",
   "metadata": {},
   "outputs": [],
   "source": []
  },
  {
   "cell_type": "code",
   "execution_count": null,
   "id": "78c79a18-1ce3-47e6-815b-55d8c7819642",
   "metadata": {},
   "outputs": [],
   "source": []
  },
  {
   "cell_type": "code",
   "execution_count": null,
   "id": "a8cbccf0-93e8-4d40-a0fa-fc6aafb61da7",
   "metadata": {},
   "outputs": [],
   "source": []
  },
  {
   "cell_type": "code",
   "execution_count": null,
   "id": "fe38b16f-49ce-482e-887b-4627e4fd93dd",
   "metadata": {},
   "outputs": [],
   "source": []
  },
  {
   "cell_type": "code",
   "execution_count": null,
   "id": "2aadc614-07fc-4547-bf7a-77112be60e3a",
   "metadata": {},
   "outputs": [],
   "source": [
    "(x_rounded==0).sum(), (y_rounded==0).sum()"
   ]
  },
  {
   "cell_type": "code",
   "execution_count": null,
   "id": "06465d24-2375-4b67-920e-20c19ad1d433",
   "metadata": {},
   "outputs": [],
   "source": []
  },
  {
   "cell_type": "code",
   "execution_count": null,
   "id": "182c87bf-68c1-41f2-ab43-e123e413e774",
   "metadata": {},
   "outputs": [],
   "source": [
    "# Snippet to dump all variables\n",
    "# import shelve\n",
    "# import sys\n",
    "# from dill import Pickler, Unpickler\n",
    "# shelve.Pickler = Pickler\n",
    "# shelve.Unpickler = Unpickler\n",
    "\n",
    "# filename='/tmp/shelve.out'\n",
    "# my_shelf = shelve.open(filename,'n') # 'n' for new\n",
    "# for key in dir():\n",
    "#     try:\n",
    "#         if key in globals():\n",
    "#             my_shelf[key] = globals()[key]\n",
    "#         if key in locals():\n",
    "#             my_shelf[key] = locals()[key]\n",
    "#     except Exception:\n",
    "#         print('ERROR shelving: {0}'.format(key))\n",
    "# my_shelf.close()\n",
    "# sys.exit(0)"
   ]
  },
  {
   "cell_type": "code",
   "execution_count": null,
   "id": "e93b7a72-af12-493a-aeb1-62e571528846",
   "metadata": {},
   "outputs": [],
   "source": [
    "rounding_threshold = 3"
   ]
  },
  {
   "cell_type": "code",
   "execution_count": null,
   "id": "65bdf7a0-cae1-48d4-a435-6b32e8bf3ccf",
   "metadata": {},
   "outputs": [],
   "source": [
    "import numpy as np\n",
    "from concrete.fhe.dtypes import Integer\n",
    "from concrete.fhe import round_bit_pattern\n",
    "from concrete.ml.common.preprocessors import vectorized_graph_eval\n",
    "\n",
    "best_a = np.ones_like(subgraph_inputs)\n",
    "best_b = np.zeros_like(subgraph_inputs)\n",
    "x = (subgraph_inputs + best_b) * best_a\n",
    "accumulator_bit_width = Integer.that_can_represent(x).bit_width\n",
    "lsbs_to_remove = (\n",
    "    accumulator_bit_width - rounding_threshold\n",
    ")\n",
    "if lsbs_to_remove > 0:\n",
    "    x = round_bit_pattern(x, lsbs_to_remove=lsbs_to_remove)\n",
    "    \n",
    "assert isinstance(x, np.ndarray)\n",
    "print(\"acc-size after rounding\", Integer.that_can_represent(x).bit_width)\n",
    "\n",
    "x = (x.astype(np.float64) / best_a.astype(np.float64)) - best_b.astype(np.float64)\n",
    "approximated_no_calib = vectorized_graph_eval(\n",
    "    tlu_subgraph,\n",
    "    x,\n",
    ")"
   ]
  },
  {
   "cell_type": "code",
   "execution_count": null,
   "id": "4a191d1c-7608-4d98-b087-f591c795f3c0",
   "metadata": {},
   "outputs": [],
   "source": [
    "best_a = np.ones_like(subgraph_inputs)\n",
    "best_b = np.zeros_like(subgraph_inputs)+100\n",
    "x = (subgraph_inputs + best_b) * best_a\n",
    "accumulator_bit_width = Integer.that_can_represent(x).bit_width\n",
    "lsbs_to_remove = (\n",
    "    accumulator_bit_width - rounding_threshold\n",
    ")\n",
    "if lsbs_to_remove > 0:\n",
    "    x = round_bit_pattern(x, lsbs_to_remove=lsbs_to_remove)\n",
    "    \n",
    "assert isinstance(x, np.ndarray)\n",
    "print(\"acc-size after rounding\", Integer.that_can_represent(x).bit_width)\n",
    "x = (x.astype(np.float64) / best_a.astype(np.float64)) - best_b.astype(np.float64)\n",
    "approximated_calib = vectorized_graph_eval(\n",
    "    tlu_subgraph,\n",
    "    x,\n",
    ")"
   ]
  },
  {
   "cell_type": "code",
   "execution_count": null,
   "id": "b29a2238-671d-412b-9696-aff8df0e3010",
   "metadata": {},
   "outputs": [],
   "source": [
    "from sklearn.linear_model import LinearRegression"
   ]
  },
  {
   "cell_type": "code",
   "execution_count": null,
   "id": "dd26c4d8-5b6a-4871-9b23-e0555786ef41",
   "metadata": {},
   "outputs": [],
   "source": [
    "model = LinearRegression()\n",
    "model.fit(X=subgraph_inputs[:, 0:1], y=reference[:, 0])"
   ]
  },
  {
   "cell_type": "code",
   "execution_count": null,
   "id": "c9a12d7a-35cb-44aa-8311-4c9165388302",
   "metadata": {},
   "outputs": [],
   "source": [
    "model.coef_, model.intercept_"
   ]
  },
  {
   "cell_type": "code",
   "execution_count": null,
   "id": "f4efe929-b9dc-404c-bc8e-df4c97eeca67",
   "metadata": {},
   "outputs": [],
   "source": [
    "# This last TLU probably needs a lot of bit-width, decreasing the bit-width of it fucks us up\n",
    "# We probably shouldn't try to optimize this last one\n",
    "# We could maybe have something that does a {tlu-output-bit-width -> rounding-n-bit}"
   ]
  },
  {
   "cell_type": "code",
   "execution_count": null,
   "id": "ab9cd346-0a98-4668-b207-c09e398a9a88",
   "metadata": {},
   "outputs": [],
   "source": [
    "import matplotlib.pyplot as plt\n",
    "plt.step(subgraph_inputs[:, 0], reference[:, 0])\n",
    "plt.step(subgraph_inputs[:, 0], approximated_no_calib[:, 0])\n",
    "plt.step(subgraph_inputs[:, 0], approximated_calib[:, 0])"
   ]
  },
  {
   "cell_type": "code",
   "execution_count": null,
   "id": "0164f447-36ed-4e54-bbdf-a8ffa517b94b",
   "metadata": {},
   "outputs": [],
   "source": [
    "# This TLU is really weird to me\n",
    "# We should probably detect if a TLU only applies a linear transformation on the bounds\n",
    "print(tlu_subgraph.format())"
   ]
  },
  {
   "cell_type": "code",
   "execution_count": null,
   "id": "f68d8e41-76ba-49de-9e92-e7061708a5b0",
   "metadata": {},
   "outputs": [],
   "source": [
    "list(locals().keys())"
   ]
  },
  {
   "cell_type": "code",
   "execution_count": null,
   "id": "95e3ed59-81a0-4075-b133-c9eacd62443f",
   "metadata": {},
   "outputs": [],
   "source": []
  },
  {
   "cell_type": "code",
   "execution_count": null,
   "id": "f76d729e-2265-4773-a223-d4c6d24df700",
   "metadata": {},
   "outputs": [],
   "source": []
  }
 ],
 "metadata": {
  "kernelspec": {
   "display_name": "Python 3 (ipykernel)",
   "language": "python",
   "name": "python3"
  },
  "language_info": {
   "codemirror_mode": {
    "name": "ipython",
    "version": 3
   },
   "file_extension": ".py",
   "mimetype": "text/x-python",
   "name": "python",
   "nbconvert_exporter": "python",
   "pygments_lexer": "ipython3",
   "version": "3.8.13"
  }
 },
 "nbformat": 4,
 "nbformat_minor": 5
}
