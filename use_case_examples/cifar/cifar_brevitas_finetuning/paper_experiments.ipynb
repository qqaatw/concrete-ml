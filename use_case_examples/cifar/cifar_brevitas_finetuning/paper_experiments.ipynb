{
 "cells": [
  {
   "cell_type": "code",
   "execution_count": 1,
   "metadata": {},
   "outputs": [
    {
     "name": "stderr",
     "output_type": "stream",
     "text": [
      "/home/celia/Desktop/Zama/concrete-internal/.venv/lib/python3.10/site-packages/torch/cuda/__init__.py:88: UserWarning: CUDA initialization: CUDA unknown error - this may be due to an incorrectly set up environment, e.g. changing env variable CUDA_VISIBLE_DEVICES after program start. Setting the available devices to be zero. (Triggered internally at ../c10/cuda/CUDAFunctions.cpp:109.)\n",
      "  return torch._C._cuda_getDeviceCount() > 0\n",
      "No CUDA runtime is found, using CUDA_HOME='/usr/local/cuda'\n"
     ]
    }
   ],
   "source": [
    "import pickle as pkl\n",
    "import random\n",
    "import sys\n",
    "import warnings\n",
    "from collections import OrderedDict\n",
    "from glob import glob\n",
    "from pathlib import Path\n",
    "from time import time\n",
    "from typing import Callable, Dict, Optional, Tuple\n",
    "\n",
    "import brevitas\n",
    "import brevitas.nn as qnn\n",
    "import matplotlib.pyplot as plt\n",
    "import numpy as np\n",
    "import torch\n",
    "import torch.nn as nn\n",
    "from brevitas import config\n",
    "from brevitas.quant import Int8ActPerTensorFloat, Int8WeightPerTensorFloat\n",
    "from concrete.fhe.compilation import Configuration\n",
    "from sklearn.metrics import top_k_accuracy_score\n",
    "from torch.utils.data import DataLoader\n",
    "from torch.utils.data.dataloader import DataLoader\n",
    "from torchvision import datasets, transforms\n",
    "from torchvision.utils import make_grid\n",
    "from tqdm import tqdm\n",
    "\n",
    "from concrete.ml.torch.compile import compile_brevitas_qat_model, compile_torch_model\n",
    "\n",
    "warnings.filterwarnings(\"ignore\", category=UserWarning)\n",
    "\n",
    "\n",
    "from cifar_utils import (\n",
    "    fhe_compatibility,\n",
    "    get_dataloader,\n",
    "    mapping_keys,\n",
    "    plot_baseline,\n",
    "    plot_dataset,\n",
    "    torch_inference,\n",
    "    train,\n",
    ")"
   ]
  },
  {
   "cell_type": "code",
   "execution_count": 18,
   "metadata": {},
   "outputs": [],
   "source": [
    "INPUT_IMG_SIZE = 28\n",
    "NB_LAYER       = 100"
   ]
  },
  {
   "cell_type": "markdown",
   "metadata": {},
   "source": [
    "<!> Since MNIST is a relatively simple task, training a floating-point model and then fine-tuning the quantized model yields the same results as training the quantized model from scratch.\n",
    "\n",
    "- If we train first the FP32, then assign the weights to the Brevitas model, and finally finetune it, we save like  10 epochs \n",
    "\n",
    "<!> That's why the following cell is disabled."
   ]
  },
  {
   "cell_type": "code",
   "execution_count": 19,
   "metadata": {},
   "outputs": [],
   "source": [
    "FEATURES_MAPS = [\n",
    "    (\"I\",),\n",
    "    # Layer 1: INPUT_IMG_SIZE, out_size, kernel_size=t[3], stride=t[4], padding=t[5], padding_mode=\"replicate\")\n",
    "    (\"C\", 1, 1, 3, 0, 1, \"replicate\"),\n",
    "]\n",
    "\n",
    "LINEAR_LAYERS = (\n",
    "    [(\"R\",), (\"L\", INPUT_IMG_SIZE * INPUT_IMG_SIZE, 92),  (\"I\",), (\"B\", 92), (\"I\",),] + \\\n",
    "    [(\"R\",), (\"L\", 92, 92),  (\"I\",), (\"B\", 92), (\"I\",),] * (NB_LAYER - 2) + [(\"L\", 92, 10)]\n",
    ")\n",
    "\n",
    "\n",
    "class ReplicatePad2d(nn.Module):\n",
    "    def __init__(self, padding, mode):\n",
    "        super(ReplicatePad2d, self).__init__()\n",
    "        self.padding = padding  # padding is expected as a tuple (left, right, top, bottom)\n",
    "        self.mode = mode\n",
    "\n",
    "    def forward(self, x):\n",
    "        return nn.functional.pad(x, self.padding, mode=self.mode)"
   ]
  },
  {
   "cell_type": "code",
   "execution_count": 20,
   "metadata": {},
   "outputs": [],
   "source": [
    "class Fp32MNIST(nn.Module):\n",
    "    def __init__(self, output_size: int):\n",
    "        super(Fp32MNIST, self).__init__()\n",
    "        \"\"\" Torch model.\n",
    "\n",
    "        Args:\n",
    "            output_size (int): Number of classes.\n",
    "        \"\"\"\n",
    "        self.output_size = output_size\n",
    "\n",
    "        def make_layers(t):\n",
    "\n",
    "            if t[0] == \"P\":\n",
    "                return ReplicatePad2d(t[1], t[2])\n",
    "            elif t[0] == \"C\":\n",
    "                return nn.Conv2d(1, 1, kernel_size=3, stride=1)\n",
    "            elif t[0] == \"L\":\n",
    "                return nn.Linear(in_features=t[1], out_features=t[2])\n",
    "            elif t[0] == \"R\":\n",
    "                return nn.ReLU()\n",
    "            elif t[0] == \"F\":\n",
    "                return nn.Flatten(1, -1)\n",
    "            elif t[0]:\n",
    "                return nn.BatchNorm1d(t[1])\n",
    "            else:\n",
    "                raise NameError(f\"{t} not defined\")\n",
    "\n",
    "        self.features_maps = nn.Sequential(*[make_layers(t) for t in FEATURES_MAPS if t[0] != \"I\"])\n",
    "        self.linears = nn.Sequential(*[make_layers(t) for t in LINEAR_LAYERS if t[0] != \"I\"])\n",
    "\n",
    "    def forward(self, x):\n",
    "        x = self.features_maps(x)\n",
    "        x = nn.Flatten()(x)\n",
    "        x = self.linears(x)\n",
    "        return x"
   ]
  },
  {
   "cell_type": "code",
   "execution_count": 21,
   "metadata": {},
   "outputs": [],
   "source": [
    "class QuantMNIST(nn.Module):\n",
    "    def __init__(\n",
    "        self,\n",
    "        bit: int,\n",
    "        output_size: int = 10,\n",
    "        act_quant: brevitas.quant = Int8ActPerTensorFloat,\n",
    "        weight_quant: brevitas.quant = Int8WeightPerTensorFloat,\n",
    "    ):\n",
    "        \"\"\"A quantized network with Brevitas.\n",
    "\n",
    "        Args:\n",
    "            bit (int): Bit of quantization.\n",
    "            output_size (int): Number of classes.\n",
    "            act_quant (brevitas.quant): Quantization protocol of activations.\n",
    "            weight_quant (brevitas.quant): Quantization protocol of the weights.\n",
    "\n",
    "        \"\"\"\n",
    "        super(QuantMNIST, self).__init__()\n",
    "        self.bit = bit\n",
    "\n",
    "        def tuple2quantlayer(t):\n",
    "            if t[0] == \"R\":\n",
    "                return qnn.QuantReLU(return_quant_tensor=True, bit_width=bit, act_quant=act_quant)\n",
    "            if t[0] == \"C\":\n",
    "                return qnn.QuantConv2d(\n",
    "                    t[1],\n",
    "                    t[2],\n",
    "                    kernel_size=t[3],\n",
    "                    #stride=t[4],\n",
    "                    weight_bit_width=2,\n",
    "                    weight_quant=weight_quant,\n",
    "                    return_quant_tensor=True,\n",
    "                )\n",
    "            if t[0] == \"L\":\n",
    "                return qnn.QuantLinear(\n",
    "                    in_features=t[1],\n",
    "                    out_features=t[2],\n",
    "                    weight_bit_width=bit,\n",
    "                    weight_quant=weight_quant,\n",
    "                    bias=True,\n",
    "                    return_quant_tensor=True,\n",
    "                )\n",
    "            if t[0] == \"I\":\n",
    "                identity_quant = t[1] if len(t) == 2 else bit\n",
    "                return qnn.QuantIdentity(\n",
    "                    bit_width=identity_quant, act_quant=act_quant, return_quant_tensor=True\n",
    "                )\n",
    "            if t[0] == \"B\":\n",
    "                return nn.BatchNorm1d(t[1])\n",
    "\n",
    "        self.features_maps = nn.Sequential(\n",
    "            *[tuple2quantlayer(t) for t in FEATURES_MAPS if t[0] != \"I\"]\n",
    "        )\n",
    "\n",
    "        # self.identity1 and self.identity2 are used to encapsulate the `torch.flatten`.\n",
    "        self.identity1 = qnn.QuantIdentity(\n",
    "            bit_width=bit, act_quant=act_quant, return_quant_tensor=True\n",
    "        )\n",
    "\n",
    "        self.identity2 = qnn.QuantIdentity(\n",
    "            bit_width=bit, act_quant=act_quant, return_quant_tensor=True\n",
    "        )\n",
    "\n",
    "        self.linears = nn.Sequential(*[tuple2quantlayer(t) for t in LINEAR_LAYERS if t[0] != \"I\"])\n",
    "\n",
    "    def forward(self, x):\n",
    "        x = self.features_maps(x)\n",
    "        x = self.identity1(x)\n",
    "        x = torch.flatten(x, 1)\n",
    "        x = self.identity2(x)\n",
    "        x = self.linears(x)\n",
    "        return x.value"
   ]
  },
  {
   "cell_type": "markdown",
   "metadata": {},
   "source": [
    "Train the model"
   ]
  },
  {
   "cell_type": "code",
   "execution_count": 22,
   "metadata": {},
   "outputs": [
    {
     "data": {
      "image/png": "[encoded data removed]",
      "text/plain": [
       "<Figure size 1200x600 with 1 Axes>"
      ]
     },
     "metadata": {},
     "output_type": "display_data"
    },
    {
     "data": {
      "text/plain": [
       "(torch.Size([64, 1, 30, 30]), './checkpoints/MNIST/NLP_100')"
      ]
     },
     "execution_count": 22,
     "metadata": {},
     "output_type": "execute_result"
    }
   ],
   "source": [
    "param = {\n",
    "    \"output_size\": 10,\n",
    "    \"batch_size\": 64,\n",
    "    \"dataset_name\": \"MNIST\",\n",
    "    \"dataset\": datasets.MNIST,\n",
    "    \"dir\": f\"./checkpoints/MNIST/NLP_{NB_LAYER}\",\n",
    "    \"training\": \"fp32\",\n",
    "    \"criterion\": torch.nn.CrossEntropyLoss(),\n",
    "    \"accuracy_test\": [],\n",
    "    \"accuracy_train\": [],\n",
    "    \"loss_test_history\": [],\n",
    "    \"loss_train_history\": [],\n",
    "    \"seed\": 42,\n",
    "}\n",
    "\n",
    "device =  \"cpu\"\n",
    "\n",
    "train_loader, test_loader = get_dataloader(param=param)\n",
    "\n",
    "data_calibration = next(iter(train_loader))[0]\n",
    "\n",
    "plot_dataset(test_loader, param)\n",
    "\n",
    "data_calibration.shape, param['dir']"
   ]
  },
  {
   "cell_type": "code",
   "execution_count": 50,
   "metadata": {},
   "outputs": [],
   "source": [
    "fp32_mnist = Fp32MNIST(param['output_size']).to(device)\n",
    "\n",
    "checkpoint = torch.load(\n",
    "        f\"./checkpoints/MNIST/NLP_50/fp32/MNIST_fp32_state_dict.pt\",\n",
    "        map_location=device\n",
    "        )\n",
    "\n",
    "new_dict = fp32_mnist.state_dict()\n",
    "\n",
    "for name in checkpoint:\n",
    "    if name in new_dict and checkpoint[name].size() == new_dict[name].size():\n",
    "        new_dict[name].copy_(checkpoint[name])\n",
    "\n",
    "for n, p in list(fp32_mnist.named_parameters())[0: 98]:\n",
    "        p.requires_grad = False\n",
    "\n",
    "#torch_inference(fp32_mnist, test_loader, device=device), torch_inference(fp32_mnist, train_loader, device=device)"
   ]
  },
  {
   "cell_type": "code",
   "execution_count": 51,
   "metadata": {},
   "outputs": [
    {
     "name": "stdout",
     "output_type": "stream",
     "text": [
      "Epoch  0: Train loss = 1.6092 VS Test loss = 1.3931 - Accuracy train: 0.4291 VS Accuracy test: 0.5961\n",
      "100%|██████████| 1/1 [00:41<00:00, 41.27s/it]\n",
      "Save in: checkpoints/MNIST/NLP_100/fp32/MNIST_fp32_state_dict.pt\n"
     ]
    }
   ],
   "source": [
    "# Instantiation of the custom VGG-11 network.\n",
    "\n",
    "run = 1\n",
    "\n",
    "\n",
    "if run:\n",
    "    param[\"training\"] = \"fp32\"\n",
    "    param[\"epochs\"] = 1\n",
    "    param[\"lr\"] = 0.001\n",
    "    param[\"milestones\"] = [2]\n",
    "    param[\"gamma\"] = 0.1\n",
    "\n",
    "    fp32_mnist = train(fp32_mnist, train_loader, test_loader, param, device=device)"
   ]
  },
  {
   "cell_type": "code",
   "execution_count": null,
   "metadata": {},
   "outputs": [],
   "source": []
  },
  {
   "cell_type": "code",
   "execution_count": null,
   "metadata": {},
   "outputs": [],
   "source": []
  },
  {
   "cell_type": "code",
   "execution_count": null,
   "metadata": {},
   "outputs": [],
   "source": []
  },
  {
   "cell_type": "code",
   "execution_count": null,
   "metadata": {},
   "outputs": [],
   "source": []
  },
  {
   "cell_type": "code",
   "execution_count": null,
   "metadata": {},
   "outputs": [],
   "source": []
  },
  {
   "cell_type": "code",
   "execution_count": null,
   "metadata": {},
   "outputs": [],
   "source": []
  },
  {
   "cell_type": "code",
   "execution_count": null,
   "metadata": {},
   "outputs": [],
   "source": []
  },
  {
   "cell_type": "code",
   "execution_count": 17,
   "metadata": {},
   "outputs": [
    {
     "data": {
      "text/plain": [
       "(0.9685496794871795, 0.980739727854856)"
      ]
     },
     "execution_count": 17,
     "metadata": {},
     "output_type": "execute_result"
    }
   ],
   "source": [
    "# Instantiation of the custom VGG-11 network.\n",
    "fp32_mnist = Fp32MNIST(param['output_size']).to(device)\n",
    "\n",
    "# Sanity check\n",
    "checkpoint = torch.load(f\"./checkpoints/MNIST/NLP_50/fp32/MNIST_fp32_state_dict.pt\", map_location=device)\n",
    "\n",
    "fp32_mnist.load_state_dict(checkpoint)\n",
    "\n",
    "# for name in mnist_nlp20:\n",
    "#     if name in mnist_nlp50 and mnist_nlp20[name].size() == mnist_nlp50[name].size():\n",
    "#         mnist_nlp50[name].copy_(mnist_nlp20[name])\n",
    "\n",
    "# fp32_mnist.load_state_dict(checkpoint)\n",
    "\n",
    "# for n, p in list(fp32_mnist.named_parameters())[0: 47]:\n",
    "#         p.requires_grad = False\n",
    "\n",
    "torch_inference(fp32_mnist, test_loader, device=device), torch_inference(fp32_mnist, train_loader, device=device)"
   ]
  },
  {
   "cell_type": "code",
   "execution_count": null,
   "metadata": {},
   "outputs": [],
   "source": []
  },
  {
   "cell_type": "code",
   "execution_count": null,
   "metadata": {},
   "outputs": [],
   "source": []
  },
  {
   "cell_type": "code",
   "execution_count": null,
   "metadata": {},
   "outputs": [],
   "source": []
  },
  {
   "cell_type": "code",
   "execution_count": null,
   "metadata": {},
   "outputs": [],
   "source": []
  },
  {
   "cell_type": "code",
   "execution_count": null,
   "metadata": {},
   "outputs": [],
   "source": []
  },
  {
   "cell_type": "code",
   "execution_count": 8,
   "metadata": {},
   "outputs": [
    {
     "name": "stdout",
     "output_type": "stream",
     "text": [
      "Epoch  0: Train loss = 0.6650 VS Test loss = 0.5419 - Accuracy train: 0.7971 VS Accuracy test: 0.8859\n",
      "Epoch  1: Train loss = 0.3863 VS Test loss = 0.3187 - Accuracy train: 0.9059 VS Accuracy test: 0.9206\n",
      "Epoch  2: Train loss = 0.2996 VS Test loss = 0.4548 - Accuracy train: 0.9283 VS Accuracy test: 0.9050\n",
      "Epoch  3: Train loss = 0.2683 VS Test loss = 0.5307 - Accuracy train: 0.9369 VS Accuracy test: 0.8632\n",
      "Epoch  4: Train loss = 0.2703 VS Test loss = 0.2626 - Accuracy train: 0.9358 VS Accuracy test: 0.9562\n",
      "Epoch  5: Train loss = 0.2228 VS Test loss = 0.2361 - Accuracy train: 0.9484 VS Accuracy test: 0.9625\n",
      "Epoch  6: Train loss = 0.2047 VS Test loss = 0.2350 - Accuracy train: 0.9521 VS Accuracy test: 0.9642\n",
      "Epoch  7: Train loss = 0.2016 VS Test loss = 0.1999 - Accuracy train: 0.9522 VS Accuracy test: 0.9585\n",
      "Epoch  8: Train loss = 0.1762 VS Test loss = 0.1687 - Accuracy train: 0.9576 VS Accuracy test: 0.9690\n",
      "Epoch  9: Train loss = 0.1819 VS Test loss = 0.1779 - Accuracy train: 0.9567 VS Accuracy test: 0.9618\n",
      "Epoch 10: Train loss = 0.1603 VS Test loss = 0.1711 - Accuracy train: 0.9607 VS Accuracy test: 0.9634\n",
      "Epoch 11: Train loss = 0.1444 VS Test loss = 0.1570 - Accuracy train: 0.9654 VS Accuracy test: 0.9751\n",
      "Epoch 12: Train loss = 0.1374 VS Test loss = 0.1525 - Accuracy train: 0.9667 VS Accuracy test: 0.9706\n",
      "Epoch 13: Train loss = 0.1307 VS Test loss = 0.1625 - Accuracy train: 0.9674 VS Accuracy test: 0.9712\n",
      "Epoch 14: Train loss = 0.1126 VS Test loss = 0.1189 - Accuracy train: 0.9720 VS Accuracy test: 0.9758\n",
      "Epoch 15: Train loss = 0.0761 VS Test loss = 0.1047 - Accuracy train: 0.9806 VS Accuracy test: 0.9799\n",
      "Epoch 16: Train loss = 0.0645 VS Test loss = 0.1127 - Accuracy train: 0.9833 VS Accuracy test: 0.9797\n",
      "Epoch 17: Train loss = 0.0575 VS Test loss = 0.1138 - Accuracy train: 0.9848 VS Accuracy test: 0.9806\n",
      "Epoch 18: Train loss = 0.0541 VS Test loss = 0.0957 - Accuracy train: 0.9863 VS Accuracy test: 0.9811\n",
      "Epoch 19: Train loss = 0.0500 VS Test loss = 0.0959 - Accuracy train: 0.9867 VS Accuracy test: 0.9821\n",
      "Epoch 20: Train loss = 0.0510 VS Test loss = 0.0849 - Accuracy train: 0.9865 VS Accuracy test: 0.9824\n",
      "Epoch 21: Train loss = 0.0480 VS Test loss = 0.0857 - Accuracy train: 0.9873 VS Accuracy test: 0.9814\n",
      "Epoch 22: Train loss = 0.0479 VS Test loss = 0.0977 - Accuracy train: 0.9870 VS Accuracy test: 0.9797\n",
      "Epoch 23: Train loss = 0.0442 VS Test loss = 0.0863 - Accuracy train: 0.9882 VS Accuracy test: 0.9801\n",
      "Epoch 24: Train loss = 0.0399 VS Test loss = 0.0830 - Accuracy train: 0.9893 VS Accuracy test: 0.9799\n",
      "Epoch 25: Train loss = 0.0392 VS Test loss = 0.0830 - Accuracy train: 0.9893 VS Accuracy test: 0.9810\n",
      "Epoch 26: Train loss = 0.0400 VS Test loss = 0.0829 - Accuracy train: 0.9894 VS Accuracy test: 0.9816\n",
      "Epoch 27: Train loss = 0.0395 VS Test loss = 0.0834 - Accuracy train: 0.9891 VS Accuracy test: 0.9818\n",
      "Epoch 28: Train loss = 0.0384 VS Test loss = 0.0771 - Accuracy train: 0.9900 VS Accuracy test: 0.9815\n",
      "Epoch 29: Train loss = 0.0391 VS Test loss = 0.0837 - Accuracy train: 0.9891 VS Accuracy test: 0.9814\n",
      "100%|██████████| 30/30 [27:21<00:00, 54.72s/it]\n"
     ]
    }
   ],
   "source": [
    "# Instantiation of the custom VGG-11 network.\n",
    "\n",
    "run = False\n",
    "\n",
    "fp32_mnist = Fp32MNIST(param['output_size']).to(device)\n",
    "\n",
    "if run:\n",
    "    param[\"training\"] = \"fp32\"\n",
    "    param[\"epochs\"] = 30\n",
    "    param[\"lr\"] = 0.01\n",
    "    param[\"milestones\"] = [15, 24]\n",
    "    param[\"gamma\"] = 0.1\n",
    "\n",
    "    fp32_mnist = train(fp32_mnist, train_loader, test_loader, param, device=device)"
   ]
  },
  {
   "cell_type": "code",
   "execution_count": 78,
   "metadata": {},
   "outputs": [
    {
     "data": {
      "text/plain": [
       "(0.9685496794871795,\n",
       " 0.9802561366061899,\n",
       " ['features_maps.0.weight',\n",
       "  'features_maps.0.bias',\n",
       "  'linears.1.weight',\n",
       "  'linears.1.bias',\n",
       "  'linears.2.weight',\n",
       "  'linears.2.bias',\n",
       "  'linears.2.running_mean',\n",
       "  'linears.2.running_var',\n",
       "  'linears.2.num_batches_tracked',\n",
       "  'linears.4.weight'])"
      ]
     },
     "execution_count": 78,
     "metadata": {},
     "output_type": "execute_result"
    }
   ],
   "source": [
    "# Sanity check\n",
    "checkpoint_fp32 = torch.load(f\"{param['dir']}/fp32/MNIST_fp32_state_dict.pt\", map_location=device)\n",
    "\n",
    "fp32_mnist = Fp32MNIST(param['output_size']).to(device)\n",
    "\n",
    "fp32_mnist.load_state_dict(checkpoint_fp32)\n",
    "\n",
    "torch_inference(fp32_mnist, test_loader, device=device), torch_inference(fp32_mnist, train_loader, device=device), list(checkpoint_fp32.keys())[:10]"
   ]
  },
  {
   "cell_type": "code",
   "execution_count": null,
   "metadata": {},
   "outputs": [],
   "source": [
    "bits = 4\n",
    "run = False\n",
    "\n",
    "quant_mnist = QuantMNIST(bit=bits, output_size=param[\"output_size\"]).to(\"cpu\")\n",
    "\n",
    "quant_mnist = mapping_keys(checkpoint_fp32, quant_mnist, device=\"cpu\")\n",
    "\n",
    "acc_before_ft = torch_inference(quant_mnist, test_loader, device=device)\n",
    "\n",
    "print(f\"Top 1 accuracy before fine-tuning = {acc_before_ft * 100:.4f}%\")\n",
    "\n",
    "qmodel = fhe_compatibility(quant_mnist, data_calibration, rounding_threshold_bits=bits)\n",
    "\n",
    "print(f\"Maximum bit-width in the circuit: {qmodel.fhe_circuit.graph.maximum_integer_bit_width()}\")\n",
    "\n",
    "if run:\n",
    "    param[\"training\"] = f\"quant_mnist_{bits=}\"\n",
    "    param[\"epochs\"] = 5\n",
    "    param[\"lr\"] = 0.1\n",
    "    param[\"milestones\"] = [1, 3]\n",
    "    param[\"gamma\"] = 0.1\n",
    "\n",
    "    quant_mnist = train(quant_mnist, train_loader, test_loader, param, device=device)\n",
    "\n",
    "\n",
    "\n",
    "# Sanity check\n",
    "quant_path = f\"checkpoints/MNIST/NLP_20/quant_mnist_{bits=}/MNIST_quant_mnist_{bits=}_state_dict.pt\"\n",
    "checkpoint_quant = torch.load(quant_path, map_location=device)\n",
    "\n",
    "quant_mnist = QuantMNIST(bit=bits, output_size=param[\"output_size\"]).to(\"cpu\")\n",
    "\n",
    "quant_mnist.load_state_dict(checkpoint_quant)\n",
    "\n",
    "torch_inference(quant_mnist, test_loader, device=device), torch_inference(quant_mnist, train_loader, device=device), list(checkpoint_quant.keys())[:10]"
   ]
  },
  {
   "cell_type": "code",
   "execution_count": 25,
   "metadata": {},
   "outputs": [
    {
     "name": "stdout",
     "output_type": "stream",
     "text": [
      "Top 1 accuracy before fine-tuning = 9.7456%\n",
      "Maximum bit-width in the circuit: 10\n",
      "Epoch  0: Train loss = 0.8962 VS Test loss = 0.5770 - Accuracy train: 0.7766 VS Accuracy test: 0.8733\n",
      "Epoch  1: Train loss = 0.6572 VS Test loss = 0.3646 - Accuracy train: 0.8556 VS Accuracy test: 0.9231\n",
      "Epoch  2: Train loss = 0.6336 VS Test loss = 0.3999 - Accuracy train: 0.8639 VS Accuracy test: 0.9060\n",
      "Epoch  3: Train loss = 0.3389 VS Test loss = 0.1920 - Accuracy train: 0.9243 VS Accuracy test: 0.9558\n",
      "Epoch  4: Train loss = 0.2886 VS Test loss = 0.1941 - Accuracy train: 0.9343 VS Accuracy test: 0.9549\n",
      "Epoch  5: Train loss = 0.2752 VS Test loss = 0.1743 - Accuracy train: 0.9378 VS Accuracy test: 0.9615\n",
      "Epoch  6: Train loss = 0.2557 VS Test loss = 0.1648 - Accuracy train: 0.9404 VS Accuracy test: 0.9627\n",
      "Epoch  7: Train loss = 0.2404 VS Test loss = 0.1630 - Accuracy train: 0.9445 VS Accuracy test: 0.9625\n",
      "Epoch  8: Train loss = 0.2296 VS Test loss = 0.1699 - Accuracy train: 0.9468 VS Accuracy test: 0.9601\n",
      "100%|██████████| 9/9 [09:05<00:00, 60.64s/it]\n",
      "Save in: checkpoints/MNIST/NLP_20/quant_mnist_bits=3/MNIST_quant_mnist_bits=3_state_dict.pt\n"
     ]
    },
    {
     "data": {
      "text/plain": [
       "(0.960136217948718,\n",
       " 0.9626800960512273,\n",
       " ['features_maps.0.weight',\n",
       "  'features_maps.0.bias',\n",
       "  'identity1.act_quant.fused_activation_quant_proxy.tensor_quant.scaling_impl.value',\n",
       "  'identity2.act_quant.fused_activation_quant_proxy.tensor_quant.scaling_impl.value',\n",
       "  'linears.0.act_quant.fused_activation_quant_proxy.tensor_quant.scaling_impl.value',\n",
       "  'linears.1.weight',\n",
       "  'linears.1.bias',\n",
       "  'linears.2.weight',\n",
       "  'linears.2.bias',\n",
       "  'linears.2.running_mean'])"
      ]
     },
     "execution_count": 25,
     "metadata": {},
     "output_type": "execute_result"
    }
   ],
   "source": [
    "bits = 3\n",
    "run = True\n",
    "\n",
    "quant_mnist = QuantMNIST(bit=bits, output_size=param[\"output_size\"]).to(\"cpu\")\n",
    "\n",
    "quant_mnist = mapping_keys(checkpoint_fp32, quant_mnist, device=\"cpu\")\n",
    "\n",
    "acc_before_ft = torch_inference(quant_mnist, test_loader, device=device)\n",
    "\n",
    "print(f\"Top 1 accuracy before fine-tuning = {acc_before_ft * 100:.4f}%\")\n",
    "\n",
    "qmodel = fhe_compatibility(quant_mnist, data_calibration, rounding_threshold_bits=bits)\n",
    "\n",
    "print(f\"Maximum bit-width in the circuit: {qmodel.fhe_circuit.graph.maximum_integer_bit_width()}\")\n",
    "\n",
    "if run:\n",
    "    param[\"training\"] = f\"quant_mnist_{bits=}\"\n",
    "    param[\"epochs\"] = 9\n",
    "    param[\"lr\"] = 0.1\n",
    "    param[\"milestones\"] = [3]\n",
    "    param[\"gamma\"] = 0.1\n",
    "    quant_mnist = train(quant_mnist, train_loader, test_loader, param, device=device)\n",
    "\n",
    "# Sanity check\n",
    "quant_path = f\"checkpoints/MNIST/NLP_20/quant_mnist_{bits=}/MNIST_quant_mnist_{bits=}_state_dict.pt\"\n",
    "checkpoint_quant = torch.load(quant_path, map_location=device)\n",
    "\n",
    "mnist_q3 = QuantMNIST(bit=bits, output_size=param[\"output_size\"]).to(\"cpu\")\n",
    "mnist_q3.load_state_dict(checkpoint_quant)\n",
    "torch_inference(mnist_q3, test_loader, device=device), torch_inference(mnist_q3, train_loader, device=device), list(checkpoint_quant.keys())[:10]"
   ]
  },
  {
   "cell_type": "code",
   "execution_count": 21,
   "metadata": {},
   "outputs": [
    {
     "data": {
      "text/plain": [
       "(0.9772636217948718, 0.9802728121664888)"
      ]
     },
     "execution_count": 21,
     "metadata": {},
     "output_type": "execute_result"
    }
   ],
   "source": [
    "bits = 5\n",
    "# Sanity check\n",
    "quant_path = f\"checkpoints/MNIST/NLP_20/quant_mnist_{bits=}/MNIST_quant_mnist_{bits=}_state_dict.pt\"\n",
    "checkpoint_quant = torch.load(quant_path, map_location=device)\n",
    "mnist_q5 = QuantMNIST(bit=bits, output_size=param[\"output_size\"]).to(\"cpu\")\n",
    "mnist_q5.load_state_dict(checkpoint_quant)\n",
    "torch_inference(mnist_q5, test_loader, device=device), torch_inference(mnist_q5, train_loader, device=device)"
   ]
  },
  {
   "cell_type": "code",
   "execution_count": 17,
   "metadata": {},
   "outputs": [
    {
     "name": "stdout",
     "output_type": "stream",
     "text": [
      "With PTQ: n_bits=3 - max_bits=10\n",
      "With QAT: n_bits=3 - max_bits=13\n",
      "\n",
      "With PTQ: n_bits=4 - max_bits=13\n",
      "With QAT: n_bits=4 - max_bits=13\n",
      "\n",
      "With PTQ: n_bits=5 - max_bits=15\n",
      "With QAT: n_bits=5 - max_bits=14\n",
      "\n",
      "With PTQ: n_bits=6 - cannot compile\n",
      "With QAT: n_bits=6 - max_bits=14\n",
      "\n",
      "With PTQ: n_bits=7 - cannot compile\n",
      "With QAT: n_bits=7 - max_bits=14\n",
      "\n",
      "With PTQ: n_bits=8 - cannot compile\n",
      "With QAT: n_bits=8 - max_bits=14\n",
      "\n",
      "With PTQ: n_bits=9 - cannot compile\n",
      "With QAT: n_bits=9 - max_bits=14\n",
      "\n",
      "With PTQ: n_bits=10 - cannot compile\n",
      "With QAT: n_bits=10 - max_bits=13\n",
      "\n"
     ]
    }
   ],
   "source": [
    "for n_bits in [3, 4, 5, 6, 7, 8, 9, 10]:\n",
    "\n",
    "    # With PTQ\n",
    "    try:\n",
    "        ptq_qmodel = compile_torch_model(\n",
    "            fp32_mnist,\n",
    "            data_calibration,\n",
    "            n_bits=n_bits,\n",
    "        )\n",
    "        max_bits = ptq_qmodel.fhe_circuit.graph.maximum_integer_bit_width()\n",
    "        print(f\"With PTQ: {n_bits=} - {max_bits=}\")\n",
    "    except:\n",
    "        print(f\"With PTQ: {n_bits=} - cannot compile\")\n",
    "\n",
    "\n",
    "    # With QAT\n",
    "    try:\n",
    "        qat_qmodel = fhe_compatibility(quant_mnist, data_calibration, rounding_threshold_bits=n_bits)\n",
    "        max_bits = qat_qmodel.fhe_circuit.graph.maximum_integer_bit_width()\n",
    "        print(f\"With QAT: {n_bits=} - {max_bits=}\")\n",
    "    except:\n",
    "        print(f\"With QAT: {n_bits=} - cannot compile\")\n",
    "\n",
    "    print()\n"
   ]
  },
  {
   "cell_type": "code",
   "execution_count": 81,
   "metadata": {},
   "outputs": [
    {
     "ename": "RuntimeError",
     "evalue": "Error(s) in loading state_dict for QuantMNIST:\n\tMissing key(s) in state_dict: \"linears.58.weight\", \"linears.58.bias\", \"linears.59.weight\", \"linears.59.bias\", \"linears.59.running_mean\", \"linears.59.running_var\", \"linears.61.weight\", \"linears.61.bias\", \"linears.62.weight\", \"linears.62.bias\", \"linears.62.running_mean\", \"linears.62.running_var\", \"linears.64.weight\", \"linears.64.bias\", \"linears.65.weight\", \"linears.65.bias\", \"linears.65.running_mean\", \"linears.65.running_var\", \"linears.67.weight\", \"linears.67.bias\", \"linears.68.weight\", \"linears.68.bias\", \"linears.68.running_mean\", \"linears.68.running_var\", \"linears.70.weight\", \"linears.70.bias\", \"linears.71.weight\", \"linears.71.bias\", \"linears.71.running_mean\", \"linears.71.running_var\", \"linears.73.weight\", \"linears.73.bias\", \"linears.74.weight\", \"linears.74.bias\", \"linears.74.running_mean\", \"linears.74.running_var\", \"linears.76.weight\", \"linears.76.bias\", \"linears.77.weight\", \"linears.77.bias\", \"linears.77.running_mean\", \"linears.77.running_var\", \"linears.79.weight\", \"linears.79.bias\", \"linears.80.weight\", \"linears.80.bias\", \"linears.80.running_mean\", \"linears.80.running_var\", \"linears.82.weight\", \"linears.82.bias\", \"linears.83.weight\", \"linears.83.bias\", \"linears.83.running_mean\", \"linears.83.running_var\", \"linears.85.weight\", \"linears.85.bias\", \"linears.86.weight\", \"linears.86.bias\", \"linears.86.running_mean\", \"linears.86.running_var\", \"linears.88.weight\", \"linears.88.bias\", \"linears.89.weight\", \"linears.89.bias\", \"linears.89.running_mean\", \"linears.89.running_var\", \"linears.91.weight\", \"linears.91.bias\", \"linears.92.weight\", \"linears.92.bias\", \"linears.92.running_mean\", \"linears.92.running_var\", \"linears.94.weight\", \"linears.94.bias\", \"linears.95.weight\", \"linears.95.bias\", \"linears.95.running_mean\", \"linears.95.running_var\", \"linears.97.weight\", \"linears.97.bias\", \"linears.98.weight\", \"linears.98.bias\", \"linears.98.running_mean\", \"linears.98.running_var\", \"linears.100.weight\", \"linears.100.bias\", \"linears.101.weight\", \"linears.101.bias\", \"linears.101.running_mean\", \"linears.101.running_var\", \"linears.103.weight\", \"linears.103.bias\", \"linears.104.weight\", \"linears.104.bias\", \"linears.104.running_mean\", \"linears.104.running_var\", \"linears.106.weight\", \"linears.106.bias\", \"linears.107.weight\", \"linears.107.bias\", \"linears.107.running_mean\", \"linears.107.running_var\", \"linears.109.weight\", \"linears.109.bias\", \"linears.110.weight\", \"linears.110.bias\", \"linears.110.running_mean\", \"linears.110.running_var\", \"linears.112.weight\", \"linears.112.bias\", \"linears.113.weight\", \"linears.113.bias\", \"linears.113.running_mean\", \"linears.113.running_var\", \"linears.115.weight\", \"linears.115.bias\", \"linears.116.weight\", \"linears.116.bias\", \"linears.116.running_mean\", \"linears.116.running_var\", \"linears.118.weight\", \"linears.118.bias\", \"linears.119.weight\", \"linears.119.bias\", \"linears.119.running_mean\", \"linears.119.running_var\", \"linears.121.weight\", \"linears.121.bias\", \"linears.122.weight\", \"linears.122.bias\", \"linears.122.running_mean\", \"linears.122.running_var\", \"linears.124.weight\", \"linears.124.bias\", \"linears.125.weight\", \"linears.125.bias\", \"linears.125.running_mean\", \"linears.125.running_var\", \"linears.127.weight\", \"linears.127.bias\", \"linears.128.weight\", \"linears.128.bias\", \"linears.128.running_mean\", \"linears.128.running_var\", \"linears.130.weight\", \"linears.130.bias\", \"linears.131.weight\", \"linears.131.bias\", \"linears.131.running_mean\", \"linears.131.running_var\", \"linears.133.weight\", \"linears.133.bias\", \"linears.134.weight\", \"linears.134.bias\", \"linears.134.running_mean\", \"linears.134.running_var\", \"linears.136.weight\", \"linears.136.bias\", \"linears.137.weight\", \"linears.137.bias\", \"linears.137.running_mean\", \"linears.137.running_var\", \"linears.139.weight\", \"linears.139.bias\", \"linears.140.weight\", \"linears.140.bias\", \"linears.140.running_mean\", \"linears.140.running_var\", \"linears.142.weight\", \"linears.142.bias\", \"linears.143.weight\", \"linears.143.bias\", \"linears.143.running_mean\", \"linears.143.running_var\", \"linears.145.weight\", \"linears.145.bias\", \"linears.146.weight\", \"linears.146.bias\", \"linears.146.running_mean\", \"linears.146.running_var\", \"linears.147.weight\", \"linears.147.bias\". \n\tUnexpected key(s) in state_dict: \"linears.57.weight\", \"linears.57.bias\". ",
     "output_type": "error",
     "traceback": [
      "\u001b[0;31m---------------------------------------------------------------------------\u001b[0m",
      "\u001b[0;31mRuntimeError\u001b[0m                              Traceback (most recent call last)",
      "Cell \u001b[0;32mIn[81], line 7\u001b[0m\n\u001b[1;32m      4\u001b[0m checkpoint_quant \u001b[38;5;241m=\u001b[39m torch\u001b[38;5;241m.\u001b[39mload(quant_path, map_location\u001b[38;5;241m=\u001b[39mdevice)\n\u001b[1;32m      6\u001b[0m mnist_q3 \u001b[38;5;241m=\u001b[39m QuantMNIST(bit\u001b[38;5;241m=\u001b[39mbits, output_size\u001b[38;5;241m=\u001b[39mparam[\u001b[38;5;124m\"\u001b[39m\u001b[38;5;124moutput_size\u001b[39m\u001b[38;5;124m\"\u001b[39m])\u001b[38;5;241m.\u001b[39mto(\u001b[38;5;124m\"\u001b[39m\u001b[38;5;124mcpu\u001b[39m\u001b[38;5;124m\"\u001b[39m)\n\u001b[0;32m----> 7\u001b[0m \u001b[43mmnist_q3\u001b[49m\u001b[38;5;241;43m.\u001b[39;49m\u001b[43mload_state_dict\u001b[49m\u001b[43m(\u001b[49m\u001b[43mcheckpoint_quant\u001b[49m\u001b[43m)\u001b[49m\n\u001b[1;32m      8\u001b[0m torch_inference(mnist_q3, test_loader, device\u001b[38;5;241m=\u001b[39mdevice), torch_inference(mnist_q3, train_loader, device\u001b[38;5;241m=\u001b[39mdevice), \u001b[38;5;28mlist\u001b[39m(checkpoint_quant\u001b[38;5;241m.\u001b[39mkeys())[:\u001b[38;5;241m10\u001b[39m]\n",
      "File \u001b[0;32m~/Desktop/Zama/concrete-internal/.venv/lib/python3.10/site-packages/torch/nn/modules/module.py:1671\u001b[0m, in \u001b[0;36mModule.load_state_dict\u001b[0;34m(self, state_dict, strict)\u001b[0m\n\u001b[1;32m   1666\u001b[0m         error_msgs\u001b[39m.\u001b[39minsert(\n\u001b[1;32m   1667\u001b[0m             \u001b[39m0\u001b[39m, \u001b[39m'\u001b[39m\u001b[39mMissing key(s) in state_dict: \u001b[39m\u001b[39m{}\u001b[39;00m\u001b[39m. \u001b[39m\u001b[39m'\u001b[39m\u001b[39m.\u001b[39mformat(\n\u001b[1;32m   1668\u001b[0m                 \u001b[39m'\u001b[39m\u001b[39m, \u001b[39m\u001b[39m'\u001b[39m\u001b[39m.\u001b[39mjoin(\u001b[39m'\u001b[39m\u001b[39m\"\u001b[39m\u001b[39m{}\u001b[39;00m\u001b[39m\"\u001b[39m\u001b[39m'\u001b[39m\u001b[39m.\u001b[39mformat(k) \u001b[39mfor\u001b[39;00m k \u001b[39min\u001b[39;00m missing_keys)))\n\u001b[1;32m   1670\u001b[0m \u001b[39mif\u001b[39;00m \u001b[39mlen\u001b[39m(error_msgs) \u001b[39m>\u001b[39m \u001b[39m0\u001b[39m:\n\u001b[0;32m-> 1671\u001b[0m     \u001b[39mraise\u001b[39;00m \u001b[39mRuntimeError\u001b[39;00m(\u001b[39m'\u001b[39m\u001b[39mError(s) in loading state_dict for \u001b[39m\u001b[39m{}\u001b[39;00m\u001b[39m:\u001b[39m\u001b[39m\\n\u001b[39;00m\u001b[39m\\t\u001b[39;00m\u001b[39m{}\u001b[39;00m\u001b[39m'\u001b[39m\u001b[39m.\u001b[39mformat(\n\u001b[1;32m   1672\u001b[0m                        \u001b[39mself\u001b[39m\u001b[39m.\u001b[39m\u001b[39m__class__\u001b[39m\u001b[39m.\u001b[39m\u001b[39m__name__\u001b[39m, \u001b[39m\"\u001b[39m\u001b[39m\\n\u001b[39;00m\u001b[39m\\t\u001b[39;00m\u001b[39m\"\u001b[39m\u001b[39m.\u001b[39mjoin(error_msgs)))\n\u001b[1;32m   1673\u001b[0m \u001b[39mreturn\u001b[39;00m _IncompatibleKeys(missing_keys, unexpected_keys)\n",
      "\u001b[0;31mRuntimeError\u001b[0m: Error(s) in loading state_dict for QuantMNIST:\n\tMissing key(s) in state_dict: \"linears.58.weight\", \"linears.58.bias\", \"linears.59.weight\", \"linears.59.bias\", \"linears.59.running_mean\", \"linears.59.running_var\", \"linears.61.weight\", \"linears.61.bias\", \"linears.62.weight\", \"linears.62.bias\", \"linears.62.running_mean\", \"linears.62.running_var\", \"linears.64.weight\", \"linears.64.bias\", \"linears.65.weight\", \"linears.65.bias\", \"linears.65.running_mean\", \"linears.65.running_var\", \"linears.67.weight\", \"linears.67.bias\", \"linears.68.weight\", \"linears.68.bias\", \"linears.68.running_mean\", \"linears.68.running_var\", \"linears.70.weight\", \"linears.70.bias\", \"linears.71.weight\", \"linears.71.bias\", \"linears.71.running_mean\", \"linears.71.running_var\", \"linears.73.weight\", \"linears.73.bias\", \"linears.74.weight\", \"linears.74.bias\", \"linears.74.running_mean\", \"linears.74.running_var\", \"linears.76.weight\", \"linears.76.bias\", \"linears.77.weight\", \"linears.77.bias\", \"linears.77.running_mean\", \"linears.77.running_var\", \"linears.79.weight\", \"linears.79.bias\", \"linears.80.weight\", \"linears.80.bias\", \"linears.80.running_mean\", \"linears.80.running_var\", \"linears.82.weight\", \"linears.82.bias\", \"linears.83.weight\", \"linears.83.bias\", \"linears.83.running_mean\", \"linears.83.running_var\", \"linears.85.weight\", \"linears.85.bias\", \"linears.86.weight\", \"linears.86.bias\", \"linears.86.running_mean\", \"linears.86.running_var\", \"linears.88.weight\", \"linears.88.bias\", \"linears.89.weight\", \"linears.89.bias\", \"linears.89.running_mean\", \"linears.89.running_var\", \"linears.91.weight\", \"linears.91.bias\", \"linears.92.weight\", \"linears.92.bias\", \"linears.92.running_mean\", \"linears.92.running_var\", \"linears.94.weight\", \"linears.94.bias\", \"linears.95.weight\", \"linears.95.bias\", \"linears.95.running_mean\", \"linears.95.running_var\", \"linears.97.weight\", \"linears.97.bias\", \"linears.98.weight\", \"linears.98.bias\", \"linears.98.running_mean\", \"linears.98.running_var\", \"linears.100.weight\", \"linears.100.bias\", \"linears.101.weight\", \"linears.101.bias\", \"linears.101.running_mean\", \"linears.101.running_var\", \"linears.103.weight\", \"linears.103.bias\", \"linears.104.weight\", \"linears.104.bias\", \"linears.104.running_mean\", \"linears.104.running_var\", \"linears.106.weight\", \"linears.106.bias\", \"linears.107.weight\", \"linears.107.bias\", \"linears.107.running_mean\", \"linears.107.running_var\", \"linears.109.weight\", \"linears.109.bias\", \"linears.110.weight\", \"linears.110.bias\", \"linears.110.running_mean\", \"linears.110.running_var\", \"linears.112.weight\", \"linears.112.bias\", \"linears.113.weight\", \"linears.113.bias\", \"linears.113.running_mean\", \"linears.113.running_var\", \"linears.115.weight\", \"linears.115.bias\", \"linears.116.weight\", \"linears.116.bias\", \"linears.116.running_mean\", \"linears.116.running_var\", \"linears.118.weight\", \"linears.118.bias\", \"linears.119.weight\", \"linears.119.bias\", \"linears.119.running_mean\", \"linears.119.running_var\", \"linears.121.weight\", \"linears.121.bias\", \"linears.122.weight\", \"linears.122.bias\", \"linears.122.running_mean\", \"linears.122.running_var\", \"linears.124.weight\", \"linears.124.bias\", \"linears.125.weight\", \"linears.125.bias\", \"linears.125.running_mean\", \"linears.125.running_var\", \"linears.127.weight\", \"linears.127.bias\", \"linears.128.weight\", \"linears.128.bias\", \"linears.128.running_mean\", \"linears.128.running_var\", \"linears.130.weight\", \"linears.130.bias\", \"linears.131.weight\", \"linears.131.bias\", \"linears.131.running_mean\", \"linears.131.running_var\", \"linears.133.weight\", \"linears.133.bias\", \"linears.134.weight\", \"linears.134.bias\", \"linears.134.running_mean\", \"linears.134.running_var\", \"linears.136.weight\", \"linears.136.bias\", \"linears.137.weight\", \"linears.137.bias\", \"linears.137.running_mean\", \"linears.137.running_var\", \"linears.139.weight\", \"linears.139.bias\", \"linears.140.weight\", \"linears.140.bias\", \"linears.140.running_mean\", \"linears.140.running_var\", \"linears.142.weight\", \"linears.142.bias\", \"linears.143.weight\", \"linears.143.bias\", \"linears.143.running_mean\", \"linears.143.running_var\", \"linears.145.weight\", \"linears.145.bias\", \"linears.146.weight\", \"linears.146.bias\", \"linears.146.running_mean\", \"linears.146.running_var\", \"linears.147.weight\", \"linears.147.bias\". \n\tUnexpected key(s) in state_dict: \"linears.57.weight\", \"linears.57.bias\". "
     ]
    }
   ],
   "source": [
    "\n",
    "# Sanity check\n",
    "n_bits = 4\n",
    "quant_path = f\"checkpoints/MNIST/NLP_20/quant_mnist_{bits=}/MNIST_quant_mnist_{bits=}_state_dict.pt\"\n",
    "checkpoint_quant = torch.load(quant_path, map_location=device)\n",
    "\n",
    "mnist_q3 = QuantMNIST(bit=bits, output_size=param[\"output_size\"]).to(\"cpu\")\n",
    "mnist_q3.load_state_dict(checkpoint_quant)\n",
    "torch_inference(mnist_q3, test_loader, device=device), torch_inference(mnist_q3, train_loader, device=device), list(checkpoint_quant.keys())[:10]"
   ]
  },
  {
   "cell_type": "code",
   "execution_count": 80,
   "metadata": {},
   "outputs": [
    {
     "name": "stderr",
     "output_type": "stream",
     "text": [
      "  0%|          | 0/156 [00:04<?, ?it/s]\n",
      "  0%|          | 0/5 [00:04<?, ?it/s]\n"
     ]
    },
    {
     "ename": "KeyboardInterrupt",
     "evalue": "",
     "output_type": "error",
     "traceback": [
      "\u001b[0;31m---------------------------------------------------------------------------\u001b[0m",
      "\u001b[0;31mKeyboardInterrupt\u001b[0m                         Traceback (most recent call last)",
      "Cell \u001b[0;32mIn[80], line 13\u001b[0m\n\u001b[1;32m      9\u001b[0m data, labels \u001b[38;5;241m=\u001b[39m data\u001b[38;5;241m.\u001b[39mdetach()\u001b[38;5;241m.\u001b[39mcpu()\u001b[38;5;241m.\u001b[39mnumpy(), labels\u001b[38;5;241m.\u001b[39mdetach()\u001b[38;5;241m.\u001b[39mcpu()\u001b[38;5;241m.\u001b[39mnumpy()\n\u001b[1;32m     11\u001b[0m history[thresold] \u001b[38;5;241m=\u001b[39m []\n\u001b[0;32m---> 13\u001b[0m qat_qmodel \u001b[38;5;241m=\u001b[39m \u001b[43mcompile_brevitas_qat_model\u001b[49m\u001b[43m(\u001b[49m\n\u001b[1;32m     14\u001b[0m \u001b[43m    \u001b[49m\u001b[43mmnist_q3\u001b[49m\u001b[38;5;241;43m.\u001b[39;49m\u001b[43mto\u001b[49m\u001b[43m(\u001b[49m\u001b[38;5;124;43m\"\u001b[39;49m\u001b[38;5;124;43mcpu\u001b[39;49m\u001b[38;5;124;43m\"\u001b[39;49m\u001b[43m)\u001b[49m\u001b[43m,\u001b[49m\n\u001b[1;32m     15\u001b[0m \u001b[43m    \u001b[49m\u001b[43mtorch_inputset\u001b[49m\u001b[38;5;241;43m=\u001b[39;49m\u001b[43mdata_calibration\u001b[49m\u001b[43m,\u001b[49m\n\u001b[1;32m     16\u001b[0m \u001b[43m    \u001b[49m\u001b[43mrounding_threshold_bits\u001b[49m\u001b[38;5;241;43m=\u001b[39;49m\u001b[43mthresold\u001b[49m\u001b[43m,\u001b[49m\n\u001b[1;32m     17\u001b[0m \u001b[43m\u001b[49m\u001b[43m)\u001b[49m\n\u001b[1;32m     19\u001b[0m start_time \u001b[38;5;241m=\u001b[39m time()\n\u001b[1;32m     20\u001b[0m predictions \u001b[38;5;241m=\u001b[39m qat_qmodel\u001b[38;5;241m.\u001b[39mforward(data, fhe\u001b[38;5;241m=\u001b[39m\u001b[38;5;124m\"\u001b[39m\u001b[38;5;124msimulate\u001b[39m\u001b[38;5;124m\"\u001b[39m)\n",
      "File \u001b[0;32m~/Desktop/Zama/concrete-internal/src/concrete/ml/torch/compile.py:520\u001b[0m, in \u001b[0;36mcompile_brevitas_qat_model\u001b[0;34m(torch_model, torch_inputset, n_bits, configuration, artifacts, show_mlir, rounding_threshold_bits, p_error, global_p_error, output_onnx_file, verbose, inputs_encryption_status, reduce_sum_copy)\u001b[0m\n\u001b[1;32m    514\u001b[0m assert_true(\n\u001b[1;32m    515\u001b[0m     n_bits \u001b[39mis\u001b[39;00m \u001b[39mNone\u001b[39;00m \u001b[39mor\u001b[39;00m \u001b[39misinstance\u001b[39m(n_bits, (\u001b[39mint\u001b[39m, \u001b[39mdict\u001b[39m)),\n\u001b[1;32m    516\u001b[0m     \u001b[39m\"\u001b[39m\u001b[39mThe n_bits parameter must be either a dictionary, an integer or None\u001b[39m\u001b[39m\"\u001b[39m,\n\u001b[1;32m    517\u001b[0m )\n\u001b[1;32m    519\u001b[0m \u001b[39m# Compile using the ONNX conversion flow, in QAT mode\u001b[39;00m\n\u001b[0;32m--> 520\u001b[0m q_module \u001b[39m=\u001b[39m compile_onnx_model(\n\u001b[1;32m    521\u001b[0m     onnx_model,\n\u001b[1;32m    522\u001b[0m     torch_inputset,\n\u001b[1;32m    523\u001b[0m     n_bits\u001b[39m=\u001b[39;49mn_bits,\n\u001b[1;32m    524\u001b[0m     import_qat\u001b[39m=\u001b[39;49m\u001b[39mTrue\u001b[39;49;00m,\n\u001b[1;32m    525\u001b[0m     artifacts\u001b[39m=\u001b[39;49martifacts,\n\u001b[1;32m    526\u001b[0m     show_mlir\u001b[39m=\u001b[39;49mshow_mlir,\n\u001b[1;32m    527\u001b[0m     rounding_threshold_bits\u001b[39m=\u001b[39;49mrounding_threshold_bits,\n\u001b[1;32m    528\u001b[0m     configuration\u001b[39m=\u001b[39;49mconfiguration,\n\u001b[1;32m    529\u001b[0m     p_error\u001b[39m=\u001b[39;49mp_error,\n\u001b[1;32m    530\u001b[0m     global_p_error\u001b[39m=\u001b[39;49mglobal_p_error,\n\u001b[1;32m    531\u001b[0m     verbose\u001b[39m=\u001b[39;49mverbose,\n\u001b[1;32m    532\u001b[0m     inputs_encryption_status\u001b[39m=\u001b[39;49minputs_encryption_status,\n\u001b[1;32m    533\u001b[0m     reduce_sum_copy\u001b[39m=\u001b[39;49mreduce_sum_copy,\n\u001b[1;32m    534\u001b[0m )\n\u001b[1;32m    536\u001b[0m \u001b[39m# Remove the tempfile if we used one\u001b[39;00m\n\u001b[1;32m    537\u001b[0m \u001b[39mif\u001b[39;00m use_tempfile:\n",
      "File \u001b[0;32m~/Desktop/Zama/concrete-internal/src/concrete/ml/torch/compile.py:371\u001b[0m, in \u001b[0;36mcompile_onnx_model\u001b[0;34m(onnx_model, torch_inputset, import_qat, configuration, artifacts, show_mlir, n_bits, rounding_threshold_bits, p_error, global_p_error, verbose, inputs_encryption_status, reduce_sum_copy)\u001b[0m\n\u001b[1;32m    364\u001b[0m onnx_model_opset_version \u001b[39m=\u001b[39m get_onnx_opset_version(onnx_model)\n\u001b[1;32m    365\u001b[0m assert_true(\n\u001b[1;32m    366\u001b[0m     onnx_model_opset_version \u001b[39m==\u001b[39m OPSET_VERSION_FOR_ONNX_EXPORT,\n\u001b[1;32m    367\u001b[0m     \u001b[39mf\u001b[39m\u001b[39m\"\u001b[39m\u001b[39mONNX version must be \u001b[39m\u001b[39m{\u001b[39;00mOPSET_VERSION_FOR_ONNX_EXPORT\u001b[39m}\u001b[39;00m\u001b[39m \u001b[39m\u001b[39m\"\u001b[39m\n\u001b[1;32m    368\u001b[0m     \u001b[39mf\u001b[39m\u001b[39m\"\u001b[39m\u001b[39mbut it is \u001b[39m\u001b[39m{\u001b[39;00monnx_model_opset_version\u001b[39m}\u001b[39;00m\u001b[39m\"\u001b[39m,\n\u001b[1;32m    369\u001b[0m )\n\u001b[0;32m--> 371\u001b[0m \u001b[39mreturn\u001b[39;00m _compile_torch_or_onnx_model(\n\u001b[1;32m    372\u001b[0m     onnx_model,\n\u001b[1;32m    373\u001b[0m     torch_inputset,\n\u001b[1;32m    374\u001b[0m     import_qat,\n\u001b[1;32m    375\u001b[0m     configuration\u001b[39m=\u001b[39;49mconfiguration,\n\u001b[1;32m    376\u001b[0m     artifacts\u001b[39m=\u001b[39;49martifacts,\n\u001b[1;32m    377\u001b[0m     show_mlir\u001b[39m=\u001b[39;49mshow_mlir,\n\u001b[1;32m    378\u001b[0m     n_bits\u001b[39m=\u001b[39;49mn_bits,\n\u001b[1;32m    379\u001b[0m     rounding_threshold_bits\u001b[39m=\u001b[39;49mrounding_threshold_bits,\n\u001b[1;32m    380\u001b[0m     p_error\u001b[39m=\u001b[39;49mp_error,\n\u001b[1;32m    381\u001b[0m     global_p_error\u001b[39m=\u001b[39;49mglobal_p_error,\n\u001b[1;32m    382\u001b[0m     verbose\u001b[39m=\u001b[39;49mverbose,\n\u001b[1;32m    383\u001b[0m     inputs_encryption_status\u001b[39m=\u001b[39;49minputs_encryption_status,\n\u001b[1;32m    384\u001b[0m     reduce_sum_copy\u001b[39m=\u001b[39;49mreduce_sum_copy,\n\u001b[1;32m    385\u001b[0m )\n",
      "File \u001b[0;32m~/Desktop/Zama/concrete-internal/src/concrete/ml/torch/compile.py:214\u001b[0m, in \u001b[0;36m_compile_torch_or_onnx_model\u001b[0;34m(model, torch_inputset, import_qat, configuration, artifacts, show_mlir, n_bits, rounding_threshold_bits, p_error, global_p_error, verbose, inputs_encryption_status, reduce_sum_copy)\u001b[0m\n\u001b[1;32m    211\u001b[0m \u001b[39m# Find the right way to set parameters for compiler, depending on the way we want to default\u001b[39;00m\n\u001b[1;32m    212\u001b[0m p_error, global_p_error \u001b[39m=\u001b[39m manage_parameters_for_pbs_errors(p_error, global_p_error)\n\u001b[0;32m--> 214\u001b[0m quantized_module\u001b[39m.\u001b[39;49mcompile(\n\u001b[1;32m    215\u001b[0m     inputset_as_numpy_tuple,\n\u001b[1;32m    216\u001b[0m     configuration,\n\u001b[1;32m    217\u001b[0m     artifacts,\n\u001b[1;32m    218\u001b[0m     show_mlir\u001b[39m=\u001b[39;49mshow_mlir,\n\u001b[1;32m    219\u001b[0m     p_error\u001b[39m=\u001b[39;49mp_error,\n\u001b[1;32m    220\u001b[0m     global_p_error\u001b[39m=\u001b[39;49mglobal_p_error,\n\u001b[1;32m    221\u001b[0m     verbose\u001b[39m=\u001b[39;49mverbose,\n\u001b[1;32m    222\u001b[0m     inputs_encryption_status\u001b[39m=\u001b[39;49minputs_encryption_status,\n\u001b[1;32m    223\u001b[0m )\n\u001b[1;32m    225\u001b[0m \u001b[39mreturn\u001b[39;00m quantized_module\n",
      "File \u001b[0;32m~/Desktop/Zama/concrete-internal/src/concrete/ml/quantization/quantized_module.py:737\u001b[0m, in \u001b[0;36mQuantizedModule.compile\u001b[0;34m(self, inputs, configuration, artifacts, show_mlir, p_error, global_p_error, verbose, inputs_encryption_status)\u001b[0m\n\u001b[1;32m    733\u001b[0m p_error, global_p_error \u001b[39m=\u001b[39m manage_parameters_for_pbs_errors(p_error, global_p_error)\n\u001b[1;32m    735\u001b[0m \u001b[39m# Jit compiler is now deprecated and will soon be removed, it is thus forced to False\u001b[39;00m\n\u001b[1;32m    736\u001b[0m \u001b[39m# by default\u001b[39;00m\n\u001b[0;32m--> 737\u001b[0m \u001b[39mself\u001b[39m\u001b[39m.\u001b[39mfhe_circuit \u001b[39m=\u001b[39m compiler\u001b[39m.\u001b[39;49mcompile(\n\u001b[1;32m    738\u001b[0m     inputset,\n\u001b[1;32m    739\u001b[0m     configuration\u001b[39m=\u001b[39;49mconfiguration,\n\u001b[1;32m    740\u001b[0m     artifacts\u001b[39m=\u001b[39;49martifacts,\n\u001b[1;32m    741\u001b[0m     show_mlir\u001b[39m=\u001b[39;49mshow_mlir,\n\u001b[1;32m    742\u001b[0m     p_error\u001b[39m=\u001b[39;49mp_error,\n\u001b[1;32m    743\u001b[0m     global_p_error\u001b[39m=\u001b[39;49mglobal_p_error,\n\u001b[1;32m    744\u001b[0m     verbose\u001b[39m=\u001b[39;49mverbose,\n\u001b[1;32m    745\u001b[0m     single_precision\u001b[39m=\u001b[39;49m\u001b[39mFalse\u001b[39;49;00m,\n\u001b[1;32m    746\u001b[0m     fhe_simulation\u001b[39m=\u001b[39;49m\u001b[39mFalse\u001b[39;49;00m,\n\u001b[1;32m    747\u001b[0m     fhe_execution\u001b[39m=\u001b[39;49m\u001b[39mTrue\u001b[39;49;00m,\n\u001b[1;32m    748\u001b[0m )\n\u001b[1;32m    750\u001b[0m \u001b[39mself\u001b[39m\u001b[39m.\u001b[39m_is_compiled \u001b[39m=\u001b[39m \u001b[39mTrue\u001b[39;00m\n\u001b[1;32m    752\u001b[0m \u001b[39mreturn\u001b[39;00m \u001b[39mself\u001b[39m\u001b[39m.\u001b[39mfhe_circuit\n",
      "File \u001b[0;32m~/Desktop/Zama/concrete-internal/.venv/lib/python3.10/site-packages/concrete/fhe/compilation/compiler.py:456\u001b[0m, in \u001b[0;36mCompiler.compile\u001b[0;34m(self, inputset, configuration, artifacts, **kwargs)\u001b[0m\n\u001b[1;32m    447\u001b[0m \u001b[39mself\u001b[39m\u001b[39m.\u001b[39martifacts \u001b[39m=\u001b[39m (\n\u001b[1;32m    448\u001b[0m     artifacts\n\u001b[1;32m    449\u001b[0m     \u001b[39mif\u001b[39;00m artifacts \u001b[39mis\u001b[39;00m \u001b[39mnot\u001b[39;00m \u001b[39mNone\u001b[39;00m\n\u001b[0;32m   (...)\u001b[0m\n\u001b[1;32m    452\u001b[0m     \u001b[39melse\u001b[39;00m \u001b[39mNone\u001b[39;00m\n\u001b[1;32m    453\u001b[0m )\n\u001b[1;32m    455\u001b[0m \u001b[39mtry\u001b[39;00m:\n\u001b[0;32m--> 456\u001b[0m     \u001b[39mself\u001b[39;49m\u001b[39m.\u001b[39;49m_evaluate(\u001b[39m\"\u001b[39;49m\u001b[39mCompiling\u001b[39;49m\u001b[39m\"\u001b[39;49m, inputset)\n\u001b[1;32m    457\u001b[0m     \u001b[39massert\u001b[39;00m \u001b[39mself\u001b[39m\u001b[39m.\u001b[39mgraph \u001b[39mis\u001b[39;00m \u001b[39mnot\u001b[39;00m \u001b[39mNone\u001b[39;00m\n\u001b[1;32m    459\u001b[0m     show_graph \u001b[39m=\u001b[39m (\n\u001b[1;32m    460\u001b[0m         \u001b[39mself\u001b[39m\u001b[39m.\u001b[39mconfiguration\u001b[39m.\u001b[39mshow_graph\n\u001b[1;32m    461\u001b[0m         \u001b[39mif\u001b[39;00m \u001b[39mself\u001b[39m\u001b[39m.\u001b[39mconfiguration\u001b[39m.\u001b[39mshow_graph \u001b[39mis\u001b[39;00m \u001b[39mnot\u001b[39;00m \u001b[39mNone\u001b[39;00m\n\u001b[1;32m    462\u001b[0m         \u001b[39melse\u001b[39;00m \u001b[39mself\u001b[39m\u001b[39m.\u001b[39mconfiguration\u001b[39m.\u001b[39mverbose\n\u001b[1;32m    463\u001b[0m     )\n",
      "File \u001b[0;32m~/Desktop/Zama/concrete-internal/.venv/lib/python3.10/site-packages/concrete/fhe/compilation/compiler.py:301\u001b[0m, in \u001b[0;36mCompiler._evaluate\u001b[0;34m(self, action, inputset)\u001b[0m\n\u001b[1;32m    295\u001b[0m         message \u001b[39m=\u001b[39m (\n\u001b[1;32m    296\u001b[0m             \u001b[39mf\u001b[39m\u001b[39m\"\u001b[39m\u001b[39m{\u001b[39;00maction\u001b[39m}\u001b[39;00m\u001b[39m function \u001b[39m\u001b[39m'\u001b[39m\u001b[39m{\u001b[39;00m\u001b[39mself\u001b[39m\u001b[39m.\u001b[39mfunction\u001b[39m.\u001b[39m\u001b[39m__name__\u001b[39m\u001b[39m}\u001b[39;00m\u001b[39m'\u001b[39m\u001b[39m \u001b[39m\u001b[39m\"\u001b[39m\n\u001b[1;32m    297\u001b[0m             \u001b[39mf\u001b[39m\u001b[39m\"\u001b[39m\u001b[39mwithout an inputset is not supported\u001b[39m\u001b[39m\"\u001b[39m\n\u001b[1;32m    298\u001b[0m         )\n\u001b[1;32m    299\u001b[0m         \u001b[39mraise\u001b[39;00m \u001b[39mRuntimeError\u001b[39;00m(message) \u001b[39mfrom\u001b[39;00m \u001b[39merror\u001b[39;00m\n\u001b[0;32m--> 301\u001b[0m     \u001b[39mself\u001b[39;49m\u001b[39m.\u001b[39;49m_trace(first_sample)\n\u001b[1;32m    302\u001b[0m     \u001b[39massert\u001b[39;00m \u001b[39mself\u001b[39m\u001b[39m.\u001b[39mgraph \u001b[39mis\u001b[39;00m \u001b[39mnot\u001b[39;00m \u001b[39mNone\u001b[39;00m\n\u001b[1;32m    304\u001b[0m bounds \u001b[39m=\u001b[39m \u001b[39mself\u001b[39m\u001b[39m.\u001b[39mgraph\u001b[39m.\u001b[39mmeasure_bounds(\u001b[39mself\u001b[39m\u001b[39m.\u001b[39minputset)\n",
      "File \u001b[0;32m~/Desktop/Zama/concrete-internal/.venv/lib/python3.10/site-packages/concrete/fhe/compilation/compiler.py:223\u001b[0m, in \u001b[0;36mCompiler._trace\u001b[0;34m(self, sample)\u001b[0m\n\u001b[1;32m    221\u001b[0m \u001b[39mif\u001b[39;00m \u001b[39mself\u001b[39m\u001b[39m.\u001b[39martifacts \u001b[39mis\u001b[39;00m \u001b[39mnot\u001b[39;00m \u001b[39mNone\u001b[39;00m:\n\u001b[1;32m    222\u001b[0m     \u001b[39mself\u001b[39m\u001b[39m.\u001b[39martifacts\u001b[39m.\u001b[39madd_graph(\u001b[39m\"\u001b[39m\u001b[39minitial\u001b[39m\u001b[39m\"\u001b[39m, \u001b[39mself\u001b[39m\u001b[39m.\u001b[39mgraph)\n\u001b[0;32m--> 223\u001b[0m fuse(\n\u001b[1;32m    224\u001b[0m     \u001b[39mself\u001b[39;49m\u001b[39m.\u001b[39;49mgraph,\n\u001b[1;32m    225\u001b[0m     \u001b[39mself\u001b[39;49m\u001b[39m.\u001b[39;49martifacts\u001b[39m.\u001b[39;49mmodule_artifacts\u001b[39m.\u001b[39;49mfunctions[\u001b[39m\"\u001b[39;49m\u001b[39mmain\u001b[39;49m\u001b[39m\"\u001b[39;49m] \u001b[39mif\u001b[39;49;00m \u001b[39mself\u001b[39;49m\u001b[39m.\u001b[39;49martifacts \u001b[39melse\u001b[39;49;00m \u001b[39mNone\u001b[39;49;00m,\n\u001b[1;32m    226\u001b[0m )\n",
      "File \u001b[0;32m~/Desktop/Zama/concrete-internal/.venv/lib/python3.10/site-packages/concrete/fhe/compilation/utils.py:204\u001b[0m, in \u001b[0;36mfuse\u001b[0;34m(graph, artifacts)\u001b[0m\n\u001b[1;32m    201\u001b[0m all_nodes, start_nodes, terminal_node \u001b[39m=\u001b[39m subgraph_to_fuse\n\u001b[1;32m    202\u001b[0m processed_terminal_nodes\u001b[39m.\u001b[39madd(terminal_node)\n\u001b[0;32m--> 204\u001b[0m conversion_result \u001b[39m=\u001b[39m convert_subgraph_to_subgraph_node(\n\u001b[1;32m    205\u001b[0m     graph,\n\u001b[1;32m    206\u001b[0m     all_nodes,\n\u001b[1;32m    207\u001b[0m     start_nodes,\n\u001b[1;32m    208\u001b[0m     terminal_node,\n\u001b[1;32m    209\u001b[0m )\n\u001b[1;32m    210\u001b[0m \u001b[39mif\u001b[39;00m conversion_result \u001b[39mis\u001b[39;00m \u001b[39mNone\u001b[39;00m:\n\u001b[1;32m    211\u001b[0m     \u001b[39mcontinue\u001b[39;00m\n",
      "File \u001b[0;32m~/Desktop/Zama/concrete-internal/.venv/lib/python3.10/site-packages/concrete/fhe/compilation/utils.py:734\u001b[0m, in \u001b[0;36mconvert_subgraph_to_subgraph_node\u001b[0;34m(graph, all_nodes, start_nodes, terminal_node)\u001b[0m\n\u001b[1;32m    731\u001b[0m variable_input_node \u001b[39m=\u001b[39m variable_input_nodes[\u001b[39m0\u001b[39m]\n\u001b[1;32m    732\u001b[0m check_subgraph_fusibility(graph, all_nodes, variable_input_node)\n\u001b[0;32m--> 734\u001b[0m nx_subgraph \u001b[39m=\u001b[39m nx\u001b[39m.\u001b[39;49mMultiDiGraph(nx_graph)\n\u001b[1;32m    735\u001b[0m nodes_to_remove \u001b[39m=\u001b[39m [node \u001b[39mfor\u001b[39;00m node \u001b[39min\u001b[39;00m nx_subgraph\u001b[39m.\u001b[39mnodes() \u001b[39mif\u001b[39;00m node \u001b[39mnot\u001b[39;00m \u001b[39min\u001b[39;00m all_nodes]\n\u001b[1;32m    736\u001b[0m nx_subgraph\u001b[39m.\u001b[39mremove_nodes_from(nodes_to_remove)\n",
      "File \u001b[0;32m~/Desktop/Zama/concrete-internal/.venv/lib/python3.10/site-packages/networkx/classes/multidigraph.py:362\u001b[0m, in \u001b[0;36mMultiDiGraph.__init__\u001b[0;34m(self, incoming_graph_data, multigraph_input, **attr)\u001b[0m\n\u001b[1;32m    360\u001b[0m         DiGraph\u001b[39m.\u001b[39m\u001b[39m__init__\u001b[39m(\u001b[39mself\u001b[39m, incoming_graph_data, \u001b[39m*\u001b[39m\u001b[39m*\u001b[39mattr)\n\u001b[1;32m    361\u001b[0m \u001b[39melse\u001b[39;00m:\n\u001b[0;32m--> 362\u001b[0m     DiGraph\u001b[39m.\u001b[39;49m\u001b[39m__init__\u001b[39;49m(\u001b[39mself\u001b[39;49m, incoming_graph_data, \u001b[39m*\u001b[39;49m\u001b[39m*\u001b[39;49mattr)\n",
      "File \u001b[0;32m~/Desktop/Zama/concrete-internal/.venv/lib/python3.10/site-packages/networkx/classes/digraph.py:360\u001b[0m, in \u001b[0;36mDiGraph.__init__\u001b[0;34m(self, incoming_graph_data, **attr)\u001b[0m\n\u001b[1;32m    356\u001b[0m \u001b[39m# Note: self._succ = self._adj  # successor\u001b[39;00m\n\u001b[1;32m    357\u001b[0m \n\u001b[1;32m    358\u001b[0m \u001b[39m# attempt to load graph with data\u001b[39;00m\n\u001b[1;32m    359\u001b[0m \u001b[39mif\u001b[39;00m incoming_graph_data \u001b[39mis\u001b[39;00m \u001b[39mnot\u001b[39;00m \u001b[39mNone\u001b[39;00m:\n\u001b[0;32m--> 360\u001b[0m     convert\u001b[39m.\u001b[39;49mto_networkx_graph(incoming_graph_data, create_using\u001b[39m=\u001b[39;49m\u001b[39mself\u001b[39;49m)\n\u001b[1;32m    361\u001b[0m \u001b[39m# load graph attributes (must be after convert)\u001b[39;00m\n\u001b[1;32m    362\u001b[0m \u001b[39mself\u001b[39m\u001b[39m.\u001b[39mgraph\u001b[39m.\u001b[39mupdate(attr)\n",
      "File \u001b[0;32m~/Desktop/Zama/concrete-internal/.venv/lib/python3.10/site-packages/networkx/convert.py:76\u001b[0m, in \u001b[0;36mto_networkx_graph\u001b[0;34m(data, create_using, multigraph_input)\u001b[0m\n\u001b[1;32m     74\u001b[0m \u001b[39mif\u001b[39;00m \u001b[39mhasattr\u001b[39m(data, \u001b[39m\"\u001b[39m\u001b[39madj\u001b[39m\u001b[39m\"\u001b[39m):\n\u001b[1;32m     75\u001b[0m     \u001b[39mtry\u001b[39;00m:\n\u001b[0;32m---> 76\u001b[0m         result \u001b[39m=\u001b[39m from_dict_of_dicts(\n\u001b[1;32m     77\u001b[0m             data\u001b[39m.\u001b[39;49madj,\n\u001b[1;32m     78\u001b[0m             create_using\u001b[39m=\u001b[39;49mcreate_using,\n\u001b[1;32m     79\u001b[0m             multigraph_input\u001b[39m=\u001b[39;49mdata\u001b[39m.\u001b[39;49mis_multigraph(),\n\u001b[1;32m     80\u001b[0m         )\n\u001b[1;32m     81\u001b[0m         \u001b[39m# data.graph should be dict-like\u001b[39;00m\n\u001b[1;32m     82\u001b[0m         result\u001b[39m.\u001b[39mgraph\u001b[39m.\u001b[39mupdate(data\u001b[39m.\u001b[39mgraph)\n",
      "File \u001b[0;32m~/Desktop/Zama/concrete-internal/.venv/lib/python3.10/site-packages/networkx/convert.py:394\u001b[0m, in \u001b[0;36mfrom_dict_of_dicts\u001b[0;34m(d, create_using, multigraph_input)\u001b[0m\n\u001b[1;32m    366\u001b[0m \u001b[39m\u001b[39m\u001b[39m\"\"\"Returns a graph from a dictionary of dictionaries.\u001b[39;00m\n\u001b[1;32m    367\u001b[0m \n\u001b[1;32m    368\u001b[0m \u001b[39mParameters\u001b[39;00m\n\u001b[0;32m   (...)\u001b[0m\n\u001b[1;32m    391\u001b[0m \n\u001b[1;32m    392\u001b[0m \u001b[39m\"\"\"\u001b[39;00m\n\u001b[1;32m    393\u001b[0m G \u001b[39m=\u001b[39m nx\u001b[39m.\u001b[39mempty_graph(\u001b[39m0\u001b[39m, create_using)\n\u001b[0;32m--> 394\u001b[0m G\u001b[39m.\u001b[39;49madd_nodes_from(d)\n\u001b[1;32m    395\u001b[0m \u001b[39m# does dict d represent a MultiGraph or MultiDiGraph?\u001b[39;00m\n\u001b[1;32m    396\u001b[0m \u001b[39mif\u001b[39;00m multigraph_input:\n",
      "File \u001b[0;32m~/Desktop/Zama/concrete-internal/.venv/lib/python3.10/site-packages/networkx/classes/digraph.py:543\u001b[0m, in \u001b[0;36mDiGraph.add_nodes_from\u001b[0;34m(self, nodes_for_adding, **attr)\u001b[0m\n\u001b[1;32m    541\u001b[0m         \u001b[39mraise\u001b[39;00m \u001b[39mValueError\u001b[39;00m(\u001b[39m\"\u001b[39m\u001b[39mNone cannot be a node\u001b[39m\u001b[39m\"\u001b[39m)\n\u001b[1;32m    542\u001b[0m     \u001b[39mself\u001b[39m\u001b[39m.\u001b[39m_succ[n] \u001b[39m=\u001b[39m \u001b[39mself\u001b[39m\u001b[39m.\u001b[39madjlist_inner_dict_factory()\n\u001b[0;32m--> 543\u001b[0m     \u001b[39mself\u001b[39m\u001b[39m.\u001b[39m_pred[n] \u001b[39m=\u001b[39m \u001b[39mself\u001b[39;49m\u001b[39m.\u001b[39;49madjlist_inner_dict_factory()\n\u001b[1;32m    544\u001b[0m     \u001b[39mself\u001b[39m\u001b[39m.\u001b[39m_node[n] \u001b[39m=\u001b[39m \u001b[39mself\u001b[39m\u001b[39m.\u001b[39mnode_attr_dict_factory()\n\u001b[1;32m    545\u001b[0m \u001b[39mself\u001b[39m\u001b[39m.\u001b[39m_node[n]\u001b[39m.\u001b[39mupdate(newdict)\n",
      "\u001b[0;31mKeyboardInterrupt\u001b[0m: "
     ]
    }
   ],
   "source": [
    "\n",
    "history = {}\n",
    "\n",
    "for thresold in tqdm([8, 7, 6, 5, 4]):\n",
    "    history_yhats, history_timing = [], []\n",
    "    run_in_fhe = True\n",
    "\n",
    "    for data, labels in tqdm(test_loader):\n",
    "\n",
    "        data, labels = data.detach().cpu().numpy(), labels.detach().cpu().numpy()\n",
    "\n",
    "        history[thresold] = []\n",
    "\n",
    "        qat_qmodel = compile_brevitas_qat_model(\n",
    "            mnist_q3.to(\"cpu\"),\n",
    "            torch_inputset=data_calibration,\n",
    "            rounding_threshold_bits=thresold,\n",
    "        )\n",
    "\n",
    "        start_time = time()\n",
    "        predictions = qat_qmodel.forward(data, fhe=\"simulate\")\n",
    "        end_time = ((time() - start_time) / 60.0) / data.shape[0]\n",
    "\n",
    "        history_yhats.extend(predictions.argmax(1) == labels)\n",
    "        history_timing.append(end_time)\n",
    "\n",
    "        if run_in_fhe:\n",
    "            start_time = time()\n",
    "            predictions = qat_qmodel.forward(data[0, None], fhe=\"execute\")\n",
    "            end_time = ((time() - start_time) / 60.0)\n",
    "            history_timing.append(end_time)\n",
    "            run_in_fhe = False\n",
    "            print(history_timing)\n",
    "\n",
    "        \n",
    "\n",
    "    history[thresold].append([history_yhats, history_timing])"
   ]
  },
  {
   "cell_type": "code",
   "execution_count": null,
   "metadata": {},
   "outputs": [],
   "source": [
    "for threshold in history.keys():\n",
    "    print(\n",
    "        f\"{quant_mnist.bit=} - {threshold=}: accuracy = {np.mean(history[threshold][0][0]):.3f}, {np.mean(history[threshold][0][1]):.3f}\"\n",
    "    )"
   ]
  }
 ],
 "metadata": {
  "execution": {
   "timeout": 10800
  },
  "kernelspec": {
   "display_name": "Python 3.8.16 ('.venv': poetry)",
   "language": "python",
   "name": "python3"
  },
  "language_info": {
   "codemirror_mode": {
    "name": "ipython",
    "version": 3
   },
   "file_extension": ".py",
   "mimetype": "text/x-python",
   "name": "python",
   "nbconvert_exporter": "python",
   "pygments_lexer": "ipython3",
   "version": "3.10.12"
  },
  "vscode": {
   "interpreter": {
    "hash": "1069ca3ee43010eb0dc75ae1023d43c37aff1ecf2400458a3da60effb006872e"
   }
  }
 },
 "nbformat": 4,
 "nbformat_minor": 2
}
