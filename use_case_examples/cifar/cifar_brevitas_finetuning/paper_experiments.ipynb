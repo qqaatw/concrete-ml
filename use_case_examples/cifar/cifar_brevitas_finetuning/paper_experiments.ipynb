{
 "cells": [
  {
   "cell_type": "code",
   "execution_count": 2,
   "metadata": {},
   "outputs": [],
   "source": [
    "import pickle as pkl\n",
    "import random\n",
    "import sys\n",
    "import warnings\n",
    "from collections import OrderedDict\n",
    "from glob import glob\n",
    "from pathlib import Path\n",
    "import csv\n",
    "import time\n",
    "from typing import Callable, Dict, Optional, Tuple\n",
    "import os\n",
    "import brevitas\n",
    "import brevitas.nn as qnn\n",
    "import pandas as pd\n",
    "\n",
    "import matplotlib.pyplot as plt\n",
    "import numpy as np\n",
    "import torch\n",
    "import torch.nn as nn\n",
    "from brevitas import config\n",
    "from brevitas.quant import Int8ActPerTensorFloat, Int8WeightPerTensorFloat\n",
    "from concrete.fhe.compilation import Configuration\n",
    "from sklearn.metrics import top_k_accuracy_score\n",
    "from torch.utils.data import DataLoader\n",
    "from torch.utils.data.dataloader import DataLoader\n",
    "from torchvision import datasets, transforms\n",
    "from torchvision.utils import make_grid\n",
    "from tqdm import tqdm\n",
    "\n",
    "from concrete.fhe import Exactness\n",
    "from concrete.ml.torch.compile import compile_brevitas_qat_model, compile_torch_model\n",
    "\n",
    "warnings.filterwarnings(\"ignore\", category=UserWarning)\n",
    "\n",
    "\n",
    "from cifar_utils import (\n",
    "    fhe_compatibility,\n",
    "    get_dataloader,\n",
    "    mapping_keys,\n",
    "    plot_baseline,\n",
    "    plot_dataset,\n",
    "    torch_inference,\n",
    "    train,\n",
    ")"
   ]
  },
  {
   "cell_type": "markdown",
   "metadata": {},
   "source": [
    "<!> Since MNIST is a relatively simple task, training a floating-point model and then fine-tuning the quantized model yields the same results as training the quantized model from scratch.\n",
    "\n",
    "- If we train first the FP32, then assign the weights to the Brevitas model, and finally finetune it, we save like  10 epochs \n",
    "\n",
    "<!> That's why the following cell is disabled."
   ]
  },
  {
   "cell_type": "code",
   "execution_count": 3,
   "metadata": {},
   "outputs": [],
   "source": [
    "INPUT_IMG_SIZE = 28\n",
    "\n",
    "FEATURES_MAPS = [\n",
    "    (\"I\",),\n",
    "    # Padding tuple (left, right, top, bottom), mode \n",
    "    # (\"P\", (1, 1, 1, 1), 'replicate'),   \n",
    "    # (\"I\",),  \n",
    "    # Layer 1: INPUT_IMG_SIZE, out_size, kernel_size=t[3], stride=t[4], padding=t[5], padding_mode=\"replicate\")\n",
    "    (\"C\", 1, 1, 3, 0, 1, \"replicate\"),\n",
    "]\n",
    "\n",
    "\n",
    "# In the paper, we have 17 identity layers (frozen layers)\n",
    "LINEAR_LAYERS = lambda nb_layers: (\n",
    "    [(\"R\",), (\"L\", INPUT_IMG_SIZE * INPUT_IMG_SIZE, 92),  (\"I\",), (\"B\", 92), (\"I\",),] + \\\n",
    "    [(\"R\",), (\"L\", 92, 92),  (\"I\",), (\"B\", 92), (\"I\",),] * (nb_layers - 2) + [(\"L\", 92, 10)]\n",
    ")"
   ]
  },
  {
   "cell_type": "code",
   "execution_count": 4,
   "metadata": {},
   "outputs": [],
   "source": [
    "class ReplicatePad2d(nn.Module):\n",
    "    def __init__(self, padding, mode):\n",
    "        super(ReplicatePad2d, self).__init__()\n",
    "        self.padding = padding  # padding is expected as a tuple (left, right, top, bottom)\n",
    "        self.mode = mode\n",
    "\n",
    "    def forward(self, x):\n",
    "        return nn.functional.pad(x, self.padding, mode=self.mode)"
   ]
  },
  {
   "cell_type": "code",
   "execution_count": 5,
   "metadata": {},
   "outputs": [],
   "source": [
    "class Fp32MNIST(nn.Module):\n",
    "    def __init__(self, output_size: int, nb_layers: int):\n",
    "        super(Fp32MNIST, self).__init__()\n",
    "        \"\"\" Torch model.\n",
    "\n",
    "        Args:\n",
    "            output_size (int): Number of classes.\n",
    "        \"\"\"\n",
    "        self.output_size = output_size\n",
    "        self.nb_layers = nb_layers\n",
    "\n",
    "        def make_layers(t):\n",
    "\n",
    "            if t[0] == \"P\":\n",
    "                return ReplicatePad2d(t[1], t[2])\n",
    "            elif t[0] == \"C\":\n",
    "                return nn.Conv2d(1, 1, kernel_size=3, stride=1)\n",
    "            elif t[0] == \"L\":\n",
    "                return nn.Linear(in_features=t[1], out_features=t[2])\n",
    "            elif t[0] == \"R\":\n",
    "                return nn.ReLU()\n",
    "            elif t[0] == \"F\":\n",
    "                return nn.Flatten(1, -1)\n",
    "            elif t[0]:\n",
    "                return nn.BatchNorm1d(t[1])\n",
    "            else:\n",
    "                raise NameError(f\"{t} not defined\")\n",
    "\n",
    "        self.features_maps = nn.Sequential(*[make_layers(t) for t in FEATURES_MAPS if t[0] != \"I\"])\n",
    "        self.linears = nn.Sequential(*[make_layers(t) for t in LINEAR_LAYERS(self.nb_layers) if t[0] != \"I\"])\n",
    "\n",
    "    def forward(self, x):\n",
    "        x = self.features_maps(x)\n",
    "        x = nn.Flatten()(x)\n",
    "        x = self.linears(x)\n",
    "        return x"
   ]
  },
  {
   "cell_type": "code",
   "execution_count": 6,
   "metadata": {},
   "outputs": [],
   "source": [
    "class QuantMNIST(nn.Module):\n",
    "    def __init__(\n",
    "        self,\n",
    "        bit: int,\n",
    "        output_size: int = 10,\n",
    "        nb_layers: int = 20, \n",
    "        act_quant: brevitas.quant = Int8ActPerTensorFloat,\n",
    "        weight_quant: brevitas.quant = Int8WeightPerTensorFloat,\n",
    "    ):\n",
    "        \"\"\"A quantized network with Brevitas.\n",
    "\n",
    "        Args:\n",
    "            bit (int): Bit of quantization.\n",
    "            output_size (int): Number of classes.\n",
    "            act_quant (brevitas.quant): Quantization protocol of activations.\n",
    "            weight_quant (brevitas.quant): Quantization protocol of the weights.\n",
    "\n",
    "        \"\"\"\n",
    "        super(QuantMNIST, self).__init__()\n",
    "        self.bit = bit\n",
    "        self.nb_layers = nb_layers\n",
    "\n",
    "        def tuple2quantlayer(t):\n",
    "            if t[0] == \"P\":\n",
    "                return ReplicatePad2d(t[1], t[2])\n",
    "            if t[0] == \"R\":\n",
    "                return qnn.QuantReLU(return_quant_tensor=True, bit_width=bit, act_quant=act_quant)\n",
    "            if t[0] == \"C\":\n",
    "                return qnn.QuantConv2d(\n",
    "                    t[1],\n",
    "                    t[2],\n",
    "                    kernel_size=t[3],\n",
    "                    # stride=t[4],\n",
    "                    weight_bit_width=2,\n",
    "                    weight_quant=weight_quant,\n",
    "                    return_quant_tensor=True,\n",
    "                )\n",
    "            if t[0] == \"L\":\n",
    "                return qnn.QuantLinear(\n",
    "                    in_features=t[1],\n",
    "                    out_features=t[2],\n",
    "                    weight_bit_width=bit,\n",
    "                    weight_quant=weight_quant,\n",
    "                    bias=True,\n",
    "                    return_quant_tensor=True,\n",
    "                )\n",
    "            if t[0] == \"I\":\n",
    "                identity_quant = t[1] if len(t) == 2 else bit\n",
    "                return qnn.QuantIdentity(\n",
    "                    bit_width=identity_quant, act_quant=act_quant, return_quant_tensor=True\n",
    "                )\n",
    "            if t[0] == \"B\":\n",
    "                return nn.BatchNorm1d(t[1])\n",
    "\n",
    "        self.features_maps = nn.Sequential(\n",
    "            *[tuple2quantlayer(t) for t in FEATURES_MAPS if t[0] != \"I\"]\n",
    "        )\n",
    "\n",
    "        # self.identity1 and self.identity2 are used to encapsulate the `torch.flatten`.\n",
    "        self.identity1 = qnn.QuantIdentity(\n",
    "            bit_width=bit, act_quant=act_quant, return_quant_tensor=True\n",
    "        )\n",
    "\n",
    "        self.identity2 = qnn.QuantIdentity(\n",
    "            bit_width=bit, act_quant=act_quant, return_quant_tensor=True\n",
    "        )\n",
    "\n",
    "        self.linears = nn.Sequential(*[tuple2quantlayer(t) for t in LINEAR_LAYERS(self.nb_layers) if t[0] != \"I\"])\n",
    "\n",
    "    def forward(self, x):\n",
    "        x = self.features_maps(x)\n",
    "        x = self.identity1(x)\n",
    "        x = torch.flatten(x, 1)\n",
    "        x = self.identity2(x)\n",
    "        x = self.linears(x)\n",
    "        return x.value"
   ]
  },
  {
   "cell_type": "code",
   "execution_count": 11,
   "metadata": {},
   "outputs": [],
   "source": [
    "def run(fp32_model, quant_model, compile_type, data_calibration, data_loader, bits=None):\n",
    "\n",
    "    bits = quant_model.bit if compile_type == \"qat\" else bits\n",
    "    model = quant_model if compile_type == \"qat\" else fp32_model \n",
    "    nb_layers = quant_model.nb_layers\n",
    "    compile_function = compile_brevitas_qat_model if compile_type == \"qat\" else compile_torch_model\n",
    "\n",
    "\n",
    "\n",
    "    print(f\"{nb_layers=}, {bits=}, {compile_type=}, {compile_function=}\")\n",
    "\n",
    "    history = []\n",
    "\n",
    "    filename = f\"history_{nb_layers=}_v2.csv\"\n",
    "    headers = [\"Compile_Type\", \"Number_of_Layers\", \"Bits\", \"Threshold\", \"Max_Bits\",\n",
    "               \"Mean_FP32_Accuracy\", \"Mean_Disable_Accuracy\", \"Mean_Simulate_Accuracy\", \"FHE_Timing\"]\n",
    "\n",
    "    if not os.path.isfile(filename):\n",
    "        print(\"NEW FILE\")\n",
    "        with open(filename, \"w\", newline='') as file:\n",
    "            writer = csv.writer(file)\n",
    "            writer.writerow(headers)\n",
    "\n",
    "    with open(filename, \"a\", newline='') as file:\n",
    "        writer = csv.writer(file)\n",
    "\n",
    "        for j, threshold in tqdm(enumerate([7, 6, 5, 4, Exactness.APPROXIMATE, Exactness.EXACT])):\n",
    "\n",
    "            history_fp32_predictions = [] \n",
    "            history_disable_predictions = [] \n",
    "            history_simulat_predictions = [] \n",
    "            fhe_timing = 0\n",
    "\n",
    "            if 4: \n",
    "                key = f\"{compile_type} | layers={nb_layers} | {bits=} | {threshold=}\"\n",
    "                q_module = compile_function(\n",
    "                    model.to(\"cpu\"),\n",
    "                    torch_inputset=data_calibration,\n",
    "                    n_bits=None if compile_type == \"qat\" else bits,\n",
    "                    rounding_threshold_bits=threshold,\n",
    "                )\n",
    "\n",
    "                max_bits = q_module.fhe_circuit.graph.maximum_integer_bit_width()\n",
    "                print(f\"{j=}: {max_bits=}\")\n",
    "\n",
    "                for i, (data, labels) in tqdm(enumerate(data_loader)):\n",
    "                    \n",
    "                    fp32_predictions = model(data).cpu().detach()\n",
    "                    history_fp32_predictions.extend(fp32_predictions.argmax(1) == labels)\n",
    "                    \n",
    "                    data, labels = data.detach().cpu().numpy(), labels.detach().cpu().numpy()\n",
    "\n",
    "                    disable_predictions = q_module.forward(data, fhe=\"disable\")\n",
    "                    history_disable_predictions.extend(disable_predictions.argmax(1) == labels)\n",
    "\n",
    "                    simulat_predictions = q_module.forward(data, fhe=\"simulate\")\n",
    "                    history_simulat_predictions.extend(simulat_predictions.argmax(1) == labels)\n",
    "\n",
    "                    if i == 0:\n",
    "                        start_time = time.time()\n",
    "                        q_module.forward(data[0, None], fhe=\"execute\")\n",
    "                        fhe_timing = ((time.time() - start_time) / 60.0)\n",
    "\n",
    "                row = [\n",
    "                    compile_type,\n",
    "                    nb_layers,\n",
    "                    bits,\n",
    "                    threshold,\n",
    "                    max_bits,\n",
    "                    np.mean(history_fp32_predictions),\n",
    "                    np.mean(history_disable_predictions),\n",
    "                    np.mean(history_simulat_predictions),\n",
    "                    fhe_timing\n",
    "                ]\n",
    "\n",
    "            else:\n",
    "                row = [compile_type, nb_layers, bits, threshold, -1, -1, -1, -1, -1]\n",
    "\n",
    "            writer.writerow(row)\n",
    "            print(f\"{j=}: {row=}\")\n",
    "            history.append(dict(zip(headers, row)))\n",
    "\n",
    "    return history"
   ]
  },
  {
   "cell_type": "markdown",
   "metadata": {},
   "source": [
    "Train the model"
   ]
  },
  {
   "cell_type": "code",
   "execution_count": 8,
   "metadata": {},
   "outputs": [
    {
     "data": {
      "image/png": "[encoded data removed]",
      "text/plain": [
       "<Figure size 1200x600 with 1 Axes>"
      ]
     },
     "metadata": {},
     "output_type": "display_data"
    },
    {
     "data": {
      "text/plain": [
       "torch.Size([64, 1, 30, 30])"
      ]
     },
     "execution_count": 8,
     "metadata": {},
     "output_type": "execute_result"
    }
   ],
   "source": [
    "device =  \"cpu\"\n",
    "\n",
    "param = {\n",
    "    \"output_size\": 10,\n",
    "    \"batch_size\": 64,\n",
    "    \"dataset_name\": \"MNIST\",\n",
    "    \"dataset\": datasets.MNIST,\n",
    "    \"training\": \"fp32\",\n",
    "    \"criterion\": torch.nn.CrossEntropyLoss(),\n",
    "    \"accuracy_test\": [],\n",
    "    \"accuracy_train\": [],\n",
    "    \"loss_test_history\": [],\n",
    "    \"loss_train_history\": [],\n",
    "    \"seed\": 42,\n",
    "}\n",
    "\n",
    "train_loader, test_loader = get_dataloader(param=param)\n",
    "\n",
    "data_calibration = next(iter(train_loader))[0]\n",
    "\n",
    "plot_dataset(test_loader, param)\n",
    "\n",
    "data_calibration.shape"
   ]
  },
  {
   "cell_type": "markdown",
   "metadata": {},
   "source": [
    "# FP32 MNIST 20"
   ]
  },
  {
   "cell_type": "code",
   "execution_count": null,
   "metadata": {},
   "outputs": [],
   "source": [
    "nb_layers = 20\n",
    "\n",
    "param[\"dir\"] =  f\"./checkpoints/MNIST/NLP_{nb_layers}/\",\n",
    "\n",
    "fp32_mnist_20 = Fp32MNIST(param['output_size'], nb_layers=nb_layers).to(device)"
   ]
  },
  {
   "cell_type": "code",
   "execution_count": null,
   "metadata": {},
   "outputs": [
    {
     "name": "stdout",
     "output_type": "stream",
     "text": [
      "Epoch  0: Train loss = 0.6650 VS Test loss = 0.5419 - Accuracy train: 0.7971 VS Accuracy test: 0.8859\n",
      "Epoch  1: Train loss = 0.3863 VS Test loss = 0.3187 - Accuracy train: 0.9059 VS Accuracy test: 0.9206\n",
      "Epoch  2: Train loss = 0.2996 VS Test loss = 0.4548 - Accuracy train: 0.9283 VS Accuracy test: 0.9050\n",
      "Epoch  3: Train loss = 0.2683 VS Test loss = 0.5307 - Accuracy train: 0.9369 VS Accuracy test: 0.8632\n",
      "Epoch  4: Train loss = 0.2703 VS Test loss = 0.2626 - Accuracy train: 0.9358 VS Accuracy test: 0.9562\n",
      "Epoch  5: Train loss = 0.2228 VS Test loss = 0.2361 - Accuracy train: 0.9484 VS Accuracy test: 0.9625\n",
      "Epoch  6: Train loss = 0.2047 VS Test loss = 0.2350 - Accuracy train: 0.9521 VS Accuracy test: 0.9642\n",
      "Epoch  7: Train loss = 0.2016 VS Test loss = 0.1999 - Accuracy train: 0.9522 VS Accuracy test: 0.9585\n",
      "Epoch  8: Train loss = 0.1762 VS Test loss = 0.1687 - Accuracy train: 0.9576 VS Accuracy test: 0.9690\n",
      "Epoch  9: Train loss = 0.1819 VS Test loss = 0.1779 - Accuracy train: 0.9567 VS Accuracy test: 0.9618\n",
      "Epoch 10: Train loss = 0.1603 VS Test loss = 0.1711 - Accuracy train: 0.9607 VS Accuracy test: 0.9634\n",
      "Epoch 11: Train loss = 0.1444 VS Test loss = 0.1570 - Accuracy train: 0.9654 VS Accuracy test: 0.9751\n",
      "Epoch 12: Train loss = 0.1374 VS Test loss = 0.1525 - Accuracy train: 0.9667 VS Accuracy test: 0.9706\n",
      "Epoch 13: Train loss = 0.1307 VS Test loss = 0.1625 - Accuracy train: 0.9674 VS Accuracy test: 0.9712\n",
      "Epoch 14: Train loss = 0.1126 VS Test loss = 0.1189 - Accuracy train: 0.9720 VS Accuracy test: 0.9758\n",
      "Epoch 15: Train loss = 0.0761 VS Test loss = 0.1047 - Accuracy train: 0.9806 VS Accuracy test: 0.9799\n",
      "Epoch 16: Train loss = 0.0645 VS Test loss = 0.1127 - Accuracy train: 0.9833 VS Accuracy test: 0.9797\n",
      "Epoch 17: Train loss = 0.0575 VS Test loss = 0.1138 - Accuracy train: 0.9848 VS Accuracy test: 0.9806\n",
      "Epoch 18: Train loss = 0.0541 VS Test loss = 0.0957 - Accuracy train: 0.9863 VS Accuracy test: 0.9811\n",
      "Epoch 19: Train loss = 0.0500 VS Test loss = 0.0959 - Accuracy train: 0.9867 VS Accuracy test: 0.9821\n",
      "Epoch 20: Train loss = 0.0510 VS Test loss = 0.0849 - Accuracy train: 0.9865 VS Accuracy test: 0.9824\n",
      "Epoch 21: Train loss = 0.0480 VS Test loss = 0.0857 - Accuracy train: 0.9873 VS Accuracy test: 0.9814\n",
      "Epoch 22: Train loss = 0.0479 VS Test loss = 0.0977 - Accuracy train: 0.9870 VS Accuracy test: 0.9797\n",
      "Epoch 23: Train loss = 0.0442 VS Test loss = 0.0863 - Accuracy train: 0.9882 VS Accuracy test: 0.9801\n",
      "Epoch 24: Train loss = 0.0399 VS Test loss = 0.0830 - Accuracy train: 0.9893 VS Accuracy test: 0.9799\n",
      "Epoch 25: Train loss = 0.0392 VS Test loss = 0.0830 - Accuracy train: 0.9893 VS Accuracy test: 0.9810\n",
      "Epoch 26: Train loss = 0.0400 VS Test loss = 0.0829 - Accuracy train: 0.9894 VS Accuracy test: 0.9816\n",
      "Epoch 27: Train loss = 0.0395 VS Test loss = 0.0834 - Accuracy train: 0.9891 VS Accuracy test: 0.9818\n",
      "Epoch 28: Train loss = 0.0384 VS Test loss = 0.0771 - Accuracy train: 0.9900 VS Accuracy test: 0.9815\n",
      "Epoch 29: Train loss = 0.0391 VS Test loss = 0.0837 - Accuracy train: 0.9891 VS Accuracy test: 0.9814\n",
      "100%|██████████| 30/30 [27:21<00:00, 54.72s/it]\n"
     ]
    }
   ],
   "source": [
    "run = False\n",
    "\n",
    "if run:\n",
    "    param[\"training\"] = \"fp32\"\n",
    "    param[\"epochs\"] = 30\n",
    "    param[\"lr\"] = 0.01\n",
    "    param[\"milestones\"] = [15, 24]\n",
    "    param[\"gamma\"] = 0.1\n",
    "\n",
    "    fp32_mnist = train(fp32_mnist_20, train_loader, test_loader, param, device=device)"
   ]
  },
  {
   "cell_type": "code",
   "execution_count": null,
   "metadata": {},
   "outputs": [
    {
     "name": "stdout",
     "output_type": "stream",
     "text": [
      "With 20-nb_layers: acc_after_ft_train=99.310% vs acc_after_ft_test=98.137%\n"
     ]
    }
   ],
   "source": [
    "# Sanity check\n",
    "checkpoint = torch.load(f\"checkpoints/MNIST/NLP_{nb_layers}/fp32/MNIST_fp32_state_dict.pt\", map_location=device)\n",
    "\n",
    "fp32_mnist = Fp32MNIST(param['output_size'], nb_layers=nb_layers).to(device)\n",
    "\n",
    "fp32_mnist.load_state_dict(checkpoint)\n",
    "\n",
    "acc_after_ft_train = torch_inference(fp32_mnist, train_loader, device=device)\n",
    "acc_after_ft_test  = torch_inference(fp32_mnist, test_loader, device=device)\n",
    "\n",
    "print(\n",
    "    f\"With {fp32_mnist.nb_layers}-nb_layers: \"\n",
    "    f\"{acc_after_ft_train=:.3%} vs {acc_after_ft_test=:.3%}\"\n",
    "    )"
   ]
  },
  {
   "cell_type": "markdown",
   "metadata": {},
   "source": [
    "## Quant MNIST 20"
   ]
  },
  {
   "cell_type": "code",
   "execution_count": null,
   "metadata": {},
   "outputs": [],
   "source": [
    "# bits, run, nb_layers = 3, False, 20\n",
    "\n",
    "# quant_mnist = QuantMNIST(bit=bits, output_size=param[\"output_size\"], nb_layers=nb_layers).to(\"cpu\")\n",
    "# quant_mnist = mapping_keys(checkpoint, quant_mnist, device=\"cpu\")\n",
    "# acc_before_ft = torch_inference(quant_mnist, test_loader, device=device)\n",
    "\n",
    "# print(f\"Accuracy before fine-tuning: {acc_before_ft=:.3%}\")\n",
    "# qmodel = fhe_compatibility(quant_mnist, data_calibration, rounding_threshold_bits=bits)\n",
    "# print(f\"Maximum bit-width in the circuit: {qmodel.fhe_circuit.graph.maximum_integer_bit_width()}\\n\")\n",
    "\n",
    "# # if run:\n",
    "# #     param[\"training\"] = f\"quant_mnist_{bits=}\"\n",
    "# #     param[\"epochs\"] = 9\n",
    "# #     param[\"lr\"] = 0.1\n",
    "# #     param[\"milestones\"] = [3]\n",
    "# #     param[\"gamma\"] = 0.1\n",
    "# #     quant_mnist = train(quant_mnist, train_loader, test_loader, param, device=device)\n",
    "\n",
    "# path = f\"checkpoints/MNIST/NLP_{nb_layers}/quant_mnist_{bits=}/MNIST_quant_mnist_{bits=}_state_dict.pt\"\n",
    "\n",
    "# quant_mnist = QuantMNIST(bit=bits, nb_layers=nb_layers).to(\"cpu\")\n",
    "# quant_mnist.load_state_dict(torch.load(path, map_location=device))\n",
    "\n",
    "# acc_after_ft_train = torch_inference(quant_mnist, train_loader, device=device)\n",
    "# acc_after_ft_test  = torch_inference(quant_mnist, test_loader, device=device)\n",
    "\n",
    "# print(\n",
    "#     f\"With {quant_mnist.bit}-bits and {quant_mnist.nb_layers}-nb_layers: \"\n",
    "#     f\"{acc_after_ft_train=:.3%} vs {acc_after_ft_test=:.3%}\"\n",
    "#     )\n",
    "\n",
    "# qmodel = fhe_compatibility(quant_mnist, data_calibration, rounding_threshold_bits=bits)\n",
    "# print(f\"Maximum bit-width in the circuit: {qmodel.fhe_circuit.graph.maximum_integer_bit_width()}\\n\")"
   ]
  },
  {
   "cell_type": "code",
   "execution_count": null,
   "metadata": {},
   "outputs": [
    {
     "name": "stdout",
     "output_type": "stream",
     "text": [
      "Accuracy before fine-tuning: acc_before_ft=9.746%\n",
      "Maximum bit-width in the circuit: 13\n",
      "\n",
      "With 4-bits and 20-nb_layers: acc_after_ft_train=97.322% vs acc_after_ft_test=97.165%\n",
      "Maximum bit-width in the circuit: 13\n",
      "\n"
     ]
    }
   ],
   "source": [
    "bits, run, nb_layers = 4, False, 20\n",
    "\n",
    "quant_mnist = QuantMNIST(bit=bits, output_size=param[\"output_size\"], nb_layers=nb_layers).to(\"cpu\")\n",
    "quant_mnist = mapping_keys(checkpoint, quant_mnist, device=\"cpu\")\n",
    "acc_before_ft = torch_inference(quant_mnist, test_loader, device=device)\n",
    "\n",
    "print(f\"Accuracy before fine-tuning: {acc_before_ft=:.3%}\")\n",
    "qmodel = fhe_compatibility(quant_mnist, data_calibration, rounding_threshold_bits=bits)\n",
    "print(f\"Maximum bit-width in the circuit: {qmodel.fhe_circuit.graph.maximum_integer_bit_width()}\\n\")\n",
    "\n",
    "# if run:\n",
    "#     param[\"training\"] = f\"quant_mnist_{bits=}\"\n",
    "#     param[\"epochs\"] = 5\n",
    "#     param[\"lr\"] = 0.1\n",
    "#     param[\"milestones\"] = [1, 3]\n",
    "#     param[\"gamma\"] = 0.1\n",
    "\n",
    "#     quant_mnist_20 = train(quant_mnist_20, train_loader, test_loader, param, device=device)\n",
    "\n",
    "path = f\"checkpoints/MNIST/NLP_{nb_layers}/quant_mnist_{bits=}/MNIST_quant_mnist_{bits=}_state_dict.pt\"\n",
    "\n",
    "quant_mnist = QuantMNIST(bit=bits, nb_layers=nb_layers).to(\"cpu\")\n",
    "quant_mnist.load_state_dict(torch.load(path, map_location=device))\n",
    "\n",
    "acc_after_ft_train = torch_inference(quant_mnist, train_loader, device=device)\n",
    "acc_after_ft_test  = torch_inference(quant_mnist, test_loader, device=device)\n",
    "\n",
    "print(\n",
    "    f\"With {quant_mnist.bit}-bits and {quant_mnist.nb_layers}-nb_layers: \"\n",
    "    f\"{acc_after_ft_train=:.3%} vs {acc_after_ft_test=:.3%}\"\n",
    "    )\n",
    "\n",
    "qmodel = fhe_compatibility(quant_mnist, data_calibration, rounding_threshold_bits=bits)\n",
    "print(f\"Maximum bit-width in the circuit: {qmodel.fhe_circuit.graph.maximum_integer_bit_width()}\\n\")"
   ]
  },
  {
   "cell_type": "code",
   "execution_count": null,
   "metadata": {},
   "outputs": [],
   "source": [
    "bits = 5\n",
    "path = f\"checkpoints/MNIST/NLP_{nb_layers}/quant_mnist_{bits=}/MNIST_quant_mnist_{bits=}_state_dict.pt\"\n",
    "\n",
    "quant_mnist = QuantMNIST(bit=bits, nb_layers=nb_layers).to(\"cpu\")\n",
    "quant_mnist.load_state_dict(torch.load(path, map_location=device))\n",
    "\n",
    "acc_after_ft_train = torch_inference(quant_mnist, train_loader, device=device)\n",
    "acc_after_ft_test  = torch_inference(quant_mnist, test_loader, device=device)\n",
    "\n",
    "print(\n",
    "    f\"With {quant_mnist.bit}-bits and {quant_mnist.nb_layers}-nb_layers: \"\n",
    "    f\"{acc_after_ft_train=:.3%} vs {acc_after_ft_test=:.3%}\"\n",
    "    )\n",
    "\n",
    "qmodel = fhe_compatibility(quant_mnist, data_calibration, rounding_threshold_bits=bits)\n",
    "print(f\"Maximum bit-width in the circuit: {qmodel.fhe_circuit.graph.maximum_integer_bit_width()}\\n\")"
   ]
  },
  {
   "cell_type": "markdown",
   "metadata": {},
   "source": [
    "## Run mnist nlp20"
   ]
  },
  {
   "cell_type": "code",
   "execution_count": null,
   "metadata": {},
   "outputs": [],
   "source": [
    "\n",
    "bits = 4\n",
    "nb_layers = 20\n",
    "\n",
    "param[\"dir\"] =  f\"./checkpoints/MNIST/NLP_{nb_layers}/\"\n",
    "checkpoint = torch.load(f\"checkpoints/MNIST/NLP_{nb_layers}/fp32/MNIST_fp32_state_dict.pt\", map_location=device)\n",
    "fp32_mnist = Fp32MNIST(param['output_size'], nb_layers=nb_layers).to(device)\n",
    "fp32_mnist.load_state_dict(checkpoint)\n",
    "\n",
    "path = f\"checkpoints/MNIST/NLP_{nb_layers}/quant_mnist_{bits=}/MNIST_quant_mnist_{bits=}_state_dict.pt\"\n",
    "quant_mnist = QuantMNIST(bit=bits, nb_layers=nb_layers).to(\"cpu\")\n",
    "quant_mnist.load_state_dict(torch.load(path, map_location=device))\n",
    "\n",
    "history = run(fp32_mnist, quant_mnist, 'ptq', data_calibration, test_loader, bits=5)"
   ]
  },
  {
   "cell_type": "code",
   "execution_count": null,
   "metadata": {},
   "outputs": [
    {
     "data": {
      "text/html": [
       "<div>\n",
       "<style scoped>\n",
       "    .dataframe tbody tr th:only-of-type {\n",
       "        vertical-align: middle;\n",
       "    }\n",
       "\n",
       "    .dataframe tbody tr th {\n",
       "        vertical-align: top;\n",
       "    }\n",
       "\n",
       "    .dataframe thead th {\n",
       "        text-align: right;\n",
       "    }\n",
       "</style>\n",
       "<table border=\"1\" class=\"dataframe\">\n",
       "  <thead>\n",
       "    <tr style=\"text-align: right;\">\n",
       "      <th></th>\n",
       "      <th>Compile_Type</th>\n",
       "      <th>Number_of_Layers</th>\n",
       "      <th>Bits</th>\n",
       "      <th>Threshold</th>\n",
       "      <th>Max_Bits</th>\n",
       "      <th>Mean_FP32_Accuracy</th>\n",
       "      <th>Mean_Quant_Accuracy</th>\n",
       "      <th>FHE_Timing</th>\n",
       "    </tr>\n",
       "  </thead>\n",
       "  <tbody>\n",
       "    <tr>\n",
       "      <th>0</th>\n",
       "      <td>ptq</td>\n",
       "      <td>20</td>\n",
       "      <td>4</td>\n",
       "      <td>7</td>\n",
       "      <td>13</td>\n",
       "      <td>0.093750</td>\n",
       "      <td>0.093750</td>\n",
       "      <td>4.896937</td>\n",
       "    </tr>\n",
       "    <tr>\n",
       "      <th>1</th>\n",
       "      <td>ptq</td>\n",
       "      <td>20</td>\n",
       "      <td>4</td>\n",
       "      <td>6</td>\n",
       "      <td>11</td>\n",
       "      <td>0.125000</td>\n",
       "      <td>0.125000</td>\n",
       "      <td>2.280711</td>\n",
       "    </tr>\n",
       "    <tr>\n",
       "      <th>2</th>\n",
       "      <td>ptq</td>\n",
       "      <td>20</td>\n",
       "      <td>4</td>\n",
       "      <td>4</td>\n",
       "      <td>-1</td>\n",
       "      <td>-1.000000</td>\n",
       "      <td>-1.000000</td>\n",
       "      <td>-1.000000</td>\n",
       "    </tr>\n",
       "    <tr>\n",
       "      <th>3</th>\n",
       "      <td>ptq</td>\n",
       "      <td>20</td>\n",
       "      <td>4</td>\n",
       "      <td>Exactness.EXACT</td>\n",
       "      <td>-1</td>\n",
       "      <td>-1.000000</td>\n",
       "      <td>-1.000000</td>\n",
       "      <td>-1.000000</td>\n",
       "    </tr>\n",
       "    <tr>\n",
       "      <th>4</th>\n",
       "      <td>ptq</td>\n",
       "      <td>20</td>\n",
       "      <td>4</td>\n",
       "      <td>Exactness.APPROXIMATE</td>\n",
       "      <td>-1</td>\n",
       "      <td>-1.000000</td>\n",
       "      <td>-1.000000</td>\n",
       "      <td>-1.000000</td>\n",
       "    </tr>\n",
       "    <tr>\n",
       "      <th>5</th>\n",
       "      <td>ptq</td>\n",
       "      <td>20</td>\n",
       "      <td>3</td>\n",
       "      <td>Exactness.EXACT</td>\n",
       "      <td>-1</td>\n",
       "      <td>-1.000000</td>\n",
       "      <td>-1.000000</td>\n",
       "      <td>-1.000000</td>\n",
       "    </tr>\n",
       "    <tr>\n",
       "      <th>6</th>\n",
       "      <td>ptq</td>\n",
       "      <td>20</td>\n",
       "      <td>3</td>\n",
       "      <td>Exactness.APPROXIMATE</td>\n",
       "      <td>-1</td>\n",
       "      <td>-1.000000</td>\n",
       "      <td>-1.000000</td>\n",
       "      <td>-1.000000</td>\n",
       "    </tr>\n",
       "    <tr>\n",
       "      <th>7</th>\n",
       "      <td>ptq</td>\n",
       "      <td>20</td>\n",
       "      <td>5</td>\n",
       "      <td>Exactness.EXACT</td>\n",
       "      <td>-1</td>\n",
       "      <td>-1.000000</td>\n",
       "      <td>-1.000000</td>\n",
       "      <td>-1.000000</td>\n",
       "    </tr>\n",
       "    <tr>\n",
       "      <th>8</th>\n",
       "      <td>ptq</td>\n",
       "      <td>20</td>\n",
       "      <td>5</td>\n",
       "      <td>Exactness.APPROXIMATE</td>\n",
       "      <td>-1</td>\n",
       "      <td>-1.000000</td>\n",
       "      <td>-1.000000</td>\n",
       "      <td>-1.000000</td>\n",
       "    </tr>\n",
       "    <tr>\n",
       "      <th>9</th>\n",
       "      <td>ptq</td>\n",
       "      <td>20</td>\n",
       "      <td>5</td>\n",
       "      <td>7</td>\n",
       "      <td>15</td>\n",
       "      <td>0.093750</td>\n",
       "      <td>0.093750</td>\n",
       "      <td>6.051062</td>\n",
       "    </tr>\n",
       "    <tr>\n",
       "      <th>10</th>\n",
       "      <td>ptq</td>\n",
       "      <td>20</td>\n",
       "      <td>5</td>\n",
       "      <td>6</td>\n",
       "      <td>15</td>\n",
       "      <td>0.109375</td>\n",
       "      <td>0.109375</td>\n",
       "      <td>3.803362</td>\n",
       "    </tr>\n",
       "    <tr>\n",
       "      <th>11</th>\n",
       "      <td>ptq</td>\n",
       "      <td>20</td>\n",
       "      <td>5</td>\n",
       "      <td>5</td>\n",
       "      <td>15</td>\n",
       "      <td>0.046875</td>\n",
       "      <td>0.046875</td>\n",
       "      <td>2.765119</td>\n",
       "    </tr>\n",
       "    <tr>\n",
       "      <th>12</th>\n",
       "      <td>ptq</td>\n",
       "      <td>20</td>\n",
       "      <td>5</td>\n",
       "      <td>4</td>\n",
       "      <td>15</td>\n",
       "      <td>0.093750</td>\n",
       "      <td>0.093750</td>\n",
       "      <td>2.473194</td>\n",
       "    </tr>\n",
       "    <tr>\n",
       "      <th>13</th>\n",
       "      <td>ptq</td>\n",
       "      <td>20</td>\n",
       "      <td>5</td>\n",
       "      <td>Exactness.EXACT</td>\n",
       "      <td>14</td>\n",
       "      <td>0.125000</td>\n",
       "      <td>0.125000</td>\n",
       "      <td>2.320772</td>\n",
       "    </tr>\n",
       "    <tr>\n",
       "      <th>14</th>\n",
       "      <td>ptq</td>\n",
       "      <td>20</td>\n",
       "      <td>5</td>\n",
       "      <td>Exactness.APPROXIMATE</td>\n",
       "      <td>14</td>\n",
       "      <td>0.140625</td>\n",
       "      <td>0.140625</td>\n",
       "      <td>2.487677</td>\n",
       "    </tr>\n",
       "    <tr>\n",
       "      <th>15</th>\n",
       "      <td>qat</td>\n",
       "      <td>20</td>\n",
       "      <td>4</td>\n",
       "      <td>7</td>\n",
       "      <td>14</td>\n",
       "      <td>0.984375</td>\n",
       "      <td>0.984375</td>\n",
       "      <td>6.450424</td>\n",
       "    </tr>\n",
       "    <tr>\n",
       "      <th>16</th>\n",
       "      <td>qat</td>\n",
       "      <td>20</td>\n",
       "      <td>4</td>\n",
       "      <td>6</td>\n",
       "      <td>14</td>\n",
       "      <td>0.937500</td>\n",
       "      <td>0.937500</td>\n",
       "      <td>2.260818</td>\n",
       "    </tr>\n",
       "    <tr>\n",
       "      <th>17</th>\n",
       "      <td>qat</td>\n",
       "      <td>20</td>\n",
       "      <td>4</td>\n",
       "      <td>5</td>\n",
       "      <td>14</td>\n",
       "      <td>0.890625</td>\n",
       "      <td>0.890625</td>\n",
       "      <td>1.498341</td>\n",
       "    </tr>\n",
       "    <tr>\n",
       "      <th>18</th>\n",
       "      <td>qat</td>\n",
       "      <td>20</td>\n",
       "      <td>4</td>\n",
       "      <td>4</td>\n",
       "      <td>13</td>\n",
       "      <td>0.828125</td>\n",
       "      <td>0.828125</td>\n",
       "      <td>1.387384</td>\n",
       "    </tr>\n",
       "    <tr>\n",
       "      <th>19</th>\n",
       "      <td>qat</td>\n",
       "      <td>20</td>\n",
       "      <td>4</td>\n",
       "      <td>Exactness.EXACT</td>\n",
       "      <td>-1</td>\n",
       "      <td>-1.000000</td>\n",
       "      <td>-1.000000</td>\n",
       "      <td>-1.000000</td>\n",
       "    </tr>\n",
       "    <tr>\n",
       "      <th>20</th>\n",
       "      <td>qat</td>\n",
       "      <td>20</td>\n",
       "      <td>4</td>\n",
       "      <td>Exactness.APPROXIMATE</td>\n",
       "      <td>-1</td>\n",
       "      <td>-1.000000</td>\n",
       "      <td>-1.000000</td>\n",
       "      <td>-1.000000</td>\n",
       "    </tr>\n",
       "    <tr>\n",
       "      <th>21</th>\n",
       "      <td>qat</td>\n",
       "      <td>20</td>\n",
       "      <td>5</td>\n",
       "      <td>7</td>\n",
       "      <td>16</td>\n",
       "      <td>0.906250</td>\n",
       "      <td>0.906250</td>\n",
       "      <td>7.379651</td>\n",
       "    </tr>\n",
       "    <tr>\n",
       "      <th>22</th>\n",
       "      <td>qat</td>\n",
       "      <td>20</td>\n",
       "      <td>5</td>\n",
       "      <td>6</td>\n",
       "      <td>16</td>\n",
       "      <td>0.984375</td>\n",
       "      <td>0.984375</td>\n",
       "      <td>3.075301</td>\n",
       "    </tr>\n",
       "    <tr>\n",
       "      <th>23</th>\n",
       "      <td>qat</td>\n",
       "      <td>20</td>\n",
       "      <td>5</td>\n",
       "      <td>5</td>\n",
       "      <td>16</td>\n",
       "      <td>0.937500</td>\n",
       "      <td>0.937500</td>\n",
       "      <td>2.413206</td>\n",
       "    </tr>\n",
       "    <tr>\n",
       "      <th>24</th>\n",
       "      <td>qat</td>\n",
       "      <td>20</td>\n",
       "      <td>5</td>\n",
       "      <td>4</td>\n",
       "      <td>16</td>\n",
       "      <td>0.515625</td>\n",
       "      <td>0.421875</td>\n",
       "      <td>1.767676</td>\n",
       "    </tr>\n",
       "    <tr>\n",
       "      <th>25</th>\n",
       "      <td>qat</td>\n",
       "      <td>20</td>\n",
       "      <td>5</td>\n",
       "      <td>Exactness.EXACT</td>\n",
       "      <td>-1</td>\n",
       "      <td>-1.000000</td>\n",
       "      <td>-1.000000</td>\n",
       "      <td>-1.000000</td>\n",
       "    </tr>\n",
       "    <tr>\n",
       "      <th>26</th>\n",
       "      <td>qat</td>\n",
       "      <td>20</td>\n",
       "      <td>5</td>\n",
       "      <td>Exactness.APPROXIMATE</td>\n",
       "      <td>-1</td>\n",
       "      <td>-1.000000</td>\n",
       "      <td>-1.000000</td>\n",
       "      <td>-1.000000</td>\n",
       "    </tr>\n",
       "    <tr>\n",
       "      <th>27</th>\n",
       "      <td>ptq</td>\n",
       "      <td>20</td>\n",
       "      <td>5</td>\n",
       "      <td>7</td>\n",
       "      <td>13</td>\n",
       "      <td>0.093750</td>\n",
       "      <td>0.093750</td>\n",
       "      <td>6.475842</td>\n",
       "    </tr>\n",
       "    <tr>\n",
       "      <th>28</th>\n",
       "      <td>ptq</td>\n",
       "      <td>20</td>\n",
       "      <td>5</td>\n",
       "      <td>6</td>\n",
       "      <td>13</td>\n",
       "      <td>0.046875</td>\n",
       "      <td>0.046875</td>\n",
       "      <td>3.675923</td>\n",
       "    </tr>\n",
       "    <tr>\n",
       "      <th>29</th>\n",
       "      <td>ptq</td>\n",
       "      <td>20</td>\n",
       "      <td>5</td>\n",
       "      <td>5</td>\n",
       "      <td>13</td>\n",
       "      <td>0.078125</td>\n",
       "      <td>0.078125</td>\n",
       "      <td>2.267627</td>\n",
       "    </tr>\n",
       "    <tr>\n",
       "      <th>30</th>\n",
       "      <td>ptq</td>\n",
       "      <td>20</td>\n",
       "      <td>5</td>\n",
       "      <td>4</td>\n",
       "      <td>13</td>\n",
       "      <td>0.031250</td>\n",
       "      <td>0.031250</td>\n",
       "      <td>2.193188</td>\n",
       "    </tr>\n",
       "    <tr>\n",
       "      <th>31</th>\n",
       "      <td>ptq</td>\n",
       "      <td>20</td>\n",
       "      <td>5</td>\n",
       "      <td>Exactness.EXACT</td>\n",
       "      <td>-1</td>\n",
       "      <td>-1.000000</td>\n",
       "      <td>-1.000000</td>\n",
       "      <td>-1.000000</td>\n",
       "    </tr>\n",
       "    <tr>\n",
       "      <th>32</th>\n",
       "      <td>ptq</td>\n",
       "      <td>20</td>\n",
       "      <td>5</td>\n",
       "      <td>Exactness.APPROXIMATE</td>\n",
       "      <td>14</td>\n",
       "      <td>0.015625</td>\n",
       "      <td>0.015625</td>\n",
       "      <td>2.478869</td>\n",
       "    </tr>\n",
       "    <tr>\n",
       "      <th>33</th>\n",
       "      <td>ptq</td>\n",
       "      <td>20</td>\n",
       "      <td>3</td>\n",
       "      <td>7</td>\n",
       "      <td>9</td>\n",
       "      <td>0.078125</td>\n",
       "      <td>0.062500</td>\n",
       "      <td>2.806964</td>\n",
       "    </tr>\n",
       "    <tr>\n",
       "      <th>34</th>\n",
       "      <td>ptq</td>\n",
       "      <td>20</td>\n",
       "      <td>3</td>\n",
       "      <td>6</td>\n",
       "      <td>9</td>\n",
       "      <td>0.109375</td>\n",
       "      <td>0.093750</td>\n",
       "      <td>1.617310</td>\n",
       "    </tr>\n",
       "    <tr>\n",
       "      <th>35</th>\n",
       "      <td>ptq</td>\n",
       "      <td>20</td>\n",
       "      <td>3</td>\n",
       "      <td>5</td>\n",
       "      <td>9</td>\n",
       "      <td>0.093750</td>\n",
       "      <td>0.093750</td>\n",
       "      <td>0.869187</td>\n",
       "    </tr>\n",
       "    <tr>\n",
       "      <th>36</th>\n",
       "      <td>ptq</td>\n",
       "      <td>20</td>\n",
       "      <td>3</td>\n",
       "      <td>4</td>\n",
       "      <td>9</td>\n",
       "      <td>0.046875</td>\n",
       "      <td>0.046875</td>\n",
       "      <td>0.702622</td>\n",
       "    </tr>\n",
       "    <tr>\n",
       "      <th>37</th>\n",
       "      <td>ptq</td>\n",
       "      <td>20</td>\n",
       "      <td>3</td>\n",
       "      <td>Exactness.EXACT</td>\n",
       "      <td>-1</td>\n",
       "      <td>-1.000000</td>\n",
       "      <td>-1.000000</td>\n",
       "      <td>-1.000000</td>\n",
       "    </tr>\n",
       "    <tr>\n",
       "      <th>38</th>\n",
       "      <td>ptq</td>\n",
       "      <td>20</td>\n",
       "      <td>3</td>\n",
       "      <td>Exactness.APPROXIMATE</td>\n",
       "      <td>10</td>\n",
       "      <td>0.156250</td>\n",
       "      <td>0.156250</td>\n",
       "      <td>0.964811</td>\n",
       "    </tr>\n",
       "  </tbody>\n",
       "</table>\n",
       "</div>"
      ],
      "text/plain": [
       "   Compile_Type  Number_of_Layers  Bits              Threshold  Max_Bits  \\\n",
       "0           ptq                20     4                      7        13   \n",
       "1           ptq                20     4                      6        11   \n",
       "2           ptq                20     4                      4        -1   \n",
       "3           ptq                20     4        Exactness.EXACT        -1   \n",
       "4           ptq                20     4  Exactness.APPROXIMATE        -1   \n",
       "5           ptq                20     3        Exactness.EXACT        -1   \n",
       "6           ptq                20     3  Exactness.APPROXIMATE        -1   \n",
       "7           ptq                20     5        Exactness.EXACT        -1   \n",
       "8           ptq                20     5  Exactness.APPROXIMATE        -1   \n",
       "9           ptq                20     5                      7        15   \n",
       "10          ptq                20     5                      6        15   \n",
       "11          ptq                20     5                      5        15   \n",
       "12          ptq                20     5                      4        15   \n",
       "13          ptq                20     5        Exactness.EXACT        14   \n",
       "14          ptq                20     5  Exactness.APPROXIMATE        14   \n",
       "15          qat                20     4                      7        14   \n",
       "16          qat                20     4                      6        14   \n",
       "17          qat                20     4                      5        14   \n",
       "18          qat                20     4                      4        13   \n",
       "19          qat                20     4        Exactness.EXACT        -1   \n",
       "20          qat                20     4  Exactness.APPROXIMATE        -1   \n",
       "21          qat                20     5                      7        16   \n",
       "22          qat                20     5                      6        16   \n",
       "23          qat                20     5                      5        16   \n",
       "24          qat                20     5                      4        16   \n",
       "25          qat                20     5        Exactness.EXACT        -1   \n",
       "26          qat                20     5  Exactness.APPROXIMATE        -1   \n",
       "27          ptq                20     5                      7        13   \n",
       "28          ptq                20     5                      6        13   \n",
       "29          ptq                20     5                      5        13   \n",
       "30          ptq                20     5                      4        13   \n",
       "31          ptq                20     5        Exactness.EXACT        -1   \n",
       "32          ptq                20     5  Exactness.APPROXIMATE        14   \n",
       "33          ptq                20     3                      7         9   \n",
       "34          ptq                20     3                      6         9   \n",
       "35          ptq                20     3                      5         9   \n",
       "36          ptq                20     3                      4         9   \n",
       "37          ptq                20     3        Exactness.EXACT        -1   \n",
       "38          ptq                20     3  Exactness.APPROXIMATE        10   \n",
       "\n",
       "    Mean_FP32_Accuracy  Mean_Quant_Accuracy  FHE_Timing  \n",
       "0             0.093750             0.093750    4.896937  \n",
       "1             0.125000             0.125000    2.280711  \n",
       "2            -1.000000            -1.000000   -1.000000  \n",
       "3            -1.000000            -1.000000   -1.000000  \n",
       "4            -1.000000            -1.000000   -1.000000  \n",
       "5            -1.000000            -1.000000   -1.000000  \n",
       "6            -1.000000            -1.000000   -1.000000  \n",
       "7            -1.000000            -1.000000   -1.000000  \n",
       "8            -1.000000            -1.000000   -1.000000  \n",
       "9             0.093750             0.093750    6.051062  \n",
       "10            0.109375             0.109375    3.803362  \n",
       "11            0.046875             0.046875    2.765119  \n",
       "12            0.093750             0.093750    2.473194  \n",
       "13            0.125000             0.125000    2.320772  \n",
       "14            0.140625             0.140625    2.487677  \n",
       "15            0.984375             0.984375    6.450424  \n",
       "16            0.937500             0.937500    2.260818  \n",
       "17            0.890625             0.890625    1.498341  \n",
       "18            0.828125             0.828125    1.387384  \n",
       "19           -1.000000            -1.000000   -1.000000  \n",
       "20           -1.000000            -1.000000   -1.000000  \n",
       "21            0.906250             0.906250    7.379651  \n",
       "22            0.984375             0.984375    3.075301  \n",
       "23            0.937500             0.937500    2.413206  \n",
       "24            0.515625             0.421875    1.767676  \n",
       "25           -1.000000            -1.000000   -1.000000  \n",
       "26           -1.000000            -1.000000   -1.000000  \n",
       "27            0.093750             0.093750    6.475842  \n",
       "28            0.046875             0.046875    3.675923  \n",
       "29            0.078125             0.078125    2.267627  \n",
       "30            0.031250             0.031250    2.193188  \n",
       "31           -1.000000            -1.000000   -1.000000  \n",
       "32            0.015625             0.015625    2.478869  \n",
       "33            0.078125             0.062500    2.806964  \n",
       "34            0.109375             0.093750    1.617310  \n",
       "35            0.093750             0.093750    0.869187  \n",
       "36            0.046875             0.046875    0.702622  \n",
       "37           -1.000000            -1.000000   -1.000000  \n",
       "38            0.156250             0.156250    0.964811  "
      ]
     },
     "execution_count": 14,
     "metadata": {},
     "output_type": "execute_result"
    }
   ],
   "source": [
    "df = pd.read_csv(\"history_nb_layers=20.csv\")\n",
    "\n",
    "df"
   ]
  },
  {
   "cell_type": "code",
   "execution_count": null,
   "metadata": {},
   "outputs": [
    {
     "name": "stdout",
     "output_type": "stream",
     "text": [
      "nb_layers=20, bits=4, compile_type='qat', compile_function=<function compile_brevitas_qat_model at 0x7f049a7496c0>\n"
     ]
    },
    {
     "name": "stderr",
     "output_type": "stream",
     "text": [
      "0it [00:00, ?it/s]"
     ]
    },
    {
     "name": "stdout",
     "output_type": "stream",
     "text": [
      "j=0: max_bits=14\n"
     ]
    },
    {
     "name": "stderr",
     "output_type": "stream",
     "text": [
      "156it [09:08,  3.52s/it]\n",
      "1it [09:14, 554.89s/it]"
     ]
    },
    {
     "name": "stdout",
     "output_type": "stream",
     "text": [
      "j=0: row=['qat', 20, 4, 7, 14, 0.984375, 0.984375, 6.450424118836721]\n",
      "j=1: max_bits=14\n"
     ]
    },
    {
     "name": "stderr",
     "output_type": "stream",
     "text": [
      "156it [04:58,  1.91s/it]\n",
      "2it [14:19, 407.38s/it]"
     ]
    },
    {
     "name": "stdout",
     "output_type": "stream",
     "text": [
      "j=1: row=['qat', 20, 4, 6, 14, 0.9375, 0.9375, 2.2608179012934366]\n",
      "j=2: max_bits=14\n"
     ]
    },
    {
     "name": "stderr",
     "output_type": "stream",
     "text": [
      "156it [04:11,  1.61s/it]\n",
      "3it [18:36, 338.78s/it]"
     ]
    },
    {
     "name": "stdout",
     "output_type": "stream",
     "text": [
      "j=2: row=['qat', 20, 4, 5, 14, 0.890625, 0.890625, 1.4983412265777587]\n",
      "j=3: max_bits=13\n"
     ]
    },
    {
     "name": "stderr",
     "output_type": "stream",
     "text": [
      "156it [04:04,  1.57s/it]\n",
      "4it [22:46, 303.89s/it]"
     ]
    },
    {
     "name": "stdout",
     "output_type": "stream",
     "text": [
      "j=3: row=['qat', 20, 4, 4, 13, 0.828125, 0.828125, 1.3873843431472779]\n",
      "x.bit_width=10 > lsbs_to_remove=12\n"
     ]
    },
    {
     "name": "stderr",
     "output_type": "stream",
     "text": [
      "5it [22:50, 195.68s/it]"
     ]
    },
    {
     "name": "stdout",
     "output_type": "stream",
     "text": [
      "j=4: row=['qat', 20, 4, <Exactness.EXACT: 0>, -1, -1, -1, -1, -1]\n",
      "x.bit_width=11 > lsbs_to_remove=11\n"
     ]
    },
    {
     "name": "stderr",
     "output_type": "stream",
     "text": [
      "6it [22:54, 229.03s/it]"
     ]
    },
    {
     "name": "stdout",
     "output_type": "stream",
     "text": [
      "j=5: row=['qat', 20, 4, <Exactness.APPROXIMATE: 1>, -1, -1, -1, -1, -1]\n"
     ]
    },
    {
     "name": "stderr",
     "output_type": "stream",
     "text": [
      "\n"
     ]
    }
   ],
   "source": [
    "history = run(fp32_mnist, quant_mnist, 'qat', data_calibration, test_loader, bits=4)\n"
   ]
  },
  {
   "cell_type": "code",
   "execution_count": null,
   "metadata": {},
   "outputs": [
    {
     "name": "stdout",
     "output_type": "stream",
     "text": [
      "nb_layers=20, bits=5, compile_type='ptq', compile_function=<function compile_torch_model at 0x7f049a7495a0>\n"
     ]
    },
    {
     "name": "stderr",
     "output_type": "stream",
     "text": [
      "0it [00:00, ?it/s]"
     ]
    },
    {
     "name": "stdout",
     "output_type": "stream",
     "text": [
      "j=0: max_bits=13\n"
     ]
    },
    {
     "name": "stderr",
     "output_type": "stream",
     "text": [
      "156it [08:47,  3.38s/it]\n",
      "1it [08:51, 531.63s/it]"
     ]
    },
    {
     "name": "stdout",
     "output_type": "stream",
     "text": [
      "j=0: row=['ptq', 20, 5, 7, 13, 0.09375, 0.09375, 6.47584156592687]\n",
      "j=1: max_bits=13\n"
     ]
    },
    {
     "name": "stderr",
     "output_type": "stream",
     "text": [
      "156it [05:57,  2.29s/it]\n",
      "2it [14:54, 432.18s/it]"
     ]
    },
    {
     "name": "stdout",
     "output_type": "stream",
     "text": [
      "j=1: row=['ptq', 20, 5, 6, 13, 0.046875, 0.046875, 3.6759230732917785]\n",
      "j=2: max_bits=13\n"
     ]
    },
    {
     "name": "stderr",
     "output_type": "stream",
     "text": [
      "156it [04:33,  1.75s/it]\n",
      "3it [19:31, 361.69s/it]"
     ]
    },
    {
     "name": "stdout",
     "output_type": "stream",
     "text": [
      "j=2: row=['ptq', 20, 5, 5, 13, 0.078125, 0.078125, 2.2676265637079873]\n",
      "j=3: max_bits=13\n"
     ]
    },
    {
     "name": "stderr",
     "output_type": "stream",
     "text": [
      "156it [04:30,  1.73s/it]\n",
      "4it [24:07, 327.62s/it]"
     ]
    },
    {
     "name": "stdout",
     "output_type": "stream",
     "text": [
      "j=3: row=['ptq', 20, 5, 4, 13, 0.03125, 0.03125, 2.193187900384267]\n",
      "x.bit_width=1 > lsbs_to_remove=1\n"
     ]
    },
    {
     "name": "stderr",
     "output_type": "stream",
     "text": [
      "5it [24:10, 210.48s/it]"
     ]
    },
    {
     "name": "stdout",
     "output_type": "stream",
     "text": [
      "j=4: row=['ptq', 20, 5, <Exactness.EXACT: 0>, -1, -1, -1, -1, -1]\n",
      "j=5: max_bits=14\n"
     ]
    },
    {
     "name": "stderr",
     "output_type": "stream",
     "text": [
      "156it [04:47,  1.84s/it]\n",
      "6it [29:03, 290.62s/it]"
     ]
    },
    {
     "name": "stdout",
     "output_type": "stream",
     "text": [
      "j=5: row=['ptq', 20, 5, <Exactness.APPROXIMATE: 1>, 14, 0.015625, 0.015625, 2.4788689692815145]\n"
     ]
    },
    {
     "name": "stderr",
     "output_type": "stream",
     "text": [
      "\n"
     ]
    }
   ],
   "source": [
    "history2 = run(fp32_mnist, quant_mnist, 'ptq', data_calibration, test_loader, bits=5)"
   ]
  },
  {
   "cell_type": "code",
   "execution_count": null,
   "metadata": {},
   "outputs": [
    {
     "name": "stdout",
     "output_type": "stream",
     "text": [
      "nb_layers=20, bits=3, compile_type='ptq', compile_function=<function compile_torch_model at 0x7f049a7495a0>\n"
     ]
    },
    {
     "name": "stderr",
     "output_type": "stream",
     "text": [
      "0it [00:00, ?it/s]"
     ]
    },
    {
     "name": "stdout",
     "output_type": "stream",
     "text": [
      "j=0: max_bits=9\n"
     ]
    },
    {
     "name": "stderr",
     "output_type": "stream",
     "text": [
      "156it [05:05,  1.96s/it]\n",
      "1it [05:10, 310.45s/it]"
     ]
    },
    {
     "name": "stdout",
     "output_type": "stream",
     "text": [
      "j=0: row=['ptq', 20, 3, 7, 9, 0.078125, 0.0625, 2.806963606675466]\n",
      "j=1: max_bits=9\n"
     ]
    },
    {
     "name": "stderr",
     "output_type": "stream",
     "text": [
      "156it [03:53,  1.50s/it]\n",
      "2it [09:08, 267.74s/it]"
     ]
    },
    {
     "name": "stdout",
     "output_type": "stream",
     "text": [
      "j=1: row=['ptq', 20, 3, 6, 9, 0.109375, 0.09375, 1.6173099716504415]\n",
      "j=2: max_bits=9\n"
     ]
    },
    {
     "name": "stderr",
     "output_type": "stream",
     "text": [
      "156it [03:10,  1.22s/it]\n",
      "3it [12:22, 234.23s/it]"
     ]
    },
    {
     "name": "stdout",
     "output_type": "stream",
     "text": [
      "j=2: row=['ptq', 20, 3, 5, 9, 0.09375, 0.09375, 0.8691867828369141]\n",
      "j=3: max_bits=9\n"
     ]
    },
    {
     "name": "stderr",
     "output_type": "stream",
     "text": [
      "156it [02:59,  1.15s/it]\n",
      "4it [15:26, 214.21s/it]"
     ]
    },
    {
     "name": "stdout",
     "output_type": "stream",
     "text": [
      "j=3: row=['ptq', 20, 3, 4, 9, 0.046875, 0.046875, 0.7026218215624491]\n",
      "x.bit_width=1 > lsbs_to_remove=1\n"
     ]
    },
    {
     "name": "stderr",
     "output_type": "stream",
     "text": [
      "5it [15:28, 137.95s/it]"
     ]
    },
    {
     "name": "stdout",
     "output_type": "stream",
     "text": [
      "j=4: row=['ptq', 20, 3, <Exactness.EXACT: 0>, -1, -1, -1, -1, -1]\n",
      "j=5: max_bits=10\n"
     ]
    },
    {
     "name": "stderr",
     "output_type": "stream",
     "text": [
      "156it [03:15,  1.25s/it]\n",
      "6it [18:48, 188.05s/it]"
     ]
    },
    {
     "name": "stdout",
     "output_type": "stream",
     "text": [
      "j=5: row=['ptq', 20, 3, <Exactness.APPROXIMATE: 1>, 10, 0.15625, 0.15625, 0.9648106932640076]\n"
     ]
    },
    {
     "name": "stderr",
     "output_type": "stream",
     "text": [
      "\n"
     ]
    }
   ],
   "source": [
    "history2 = run(fp32_mnist, quant_mnist, 'ptq', data_calibration, test_loader, bits=3)"
   ]
  },
  {
   "cell_type": "code",
   "execution_count": null,
   "metadata": {},
   "outputs": [],
   "source": []
  },
  {
   "cell_type": "code",
   "execution_count": null,
   "metadata": {},
   "outputs": [
    {
     "name": "stdout",
     "output_type": "stream",
     "text": [
      "nb_layers=20, bits=5, compile_type='qat', compile_function=<function compile_brevitas_qat_model at 0x7f049a7496c0>\n"
     ]
    },
    {
     "name": "stderr",
     "output_type": "stream",
     "text": [
      "0it [00:00, ?it/s]"
     ]
    },
    {
     "name": "stdout",
     "output_type": "stream",
     "text": [
      "j=0: max_bits=16\n"
     ]
    },
    {
     "name": "stderr",
     "output_type": "stream",
     "text": [
      "156it [10:04,  3.88s/it]\n",
      "1it [10:10, 610.72s/it]"
     ]
    },
    {
     "name": "stdout",
     "output_type": "stream",
     "text": [
      "j=0: row=['qat', 20, 5, 7, 16, 0.90625, 0.90625, 7.3796510934829715]\n",
      "j=1: max_bits=16\n"
     ]
    },
    {
     "name": "stderr",
     "output_type": "stream",
     "text": [
      "156it [05:46,  2.22s/it]\n",
      "2it [16:02, 458.54s/it]"
     ]
    },
    {
     "name": "stdout",
     "output_type": "stream",
     "text": [
      "j=1: row=['qat', 20, 5, 6, 16, 0.984375, 0.984375, 3.0753005305926004]\n",
      "j=2: max_bits=16\n"
     ]
    },
    {
     "name": "stderr",
     "output_type": "stream",
     "text": [
      "156it [05:04,  1.95s/it]\n",
      "3it [21:13, 390.99s/it]"
     ]
    },
    {
     "name": "stdout",
     "output_type": "stream",
     "text": [
      "j=2: row=['qat', 20, 5, 5, 16, 0.9375, 0.9375, 2.413205846150716]\n",
      "j=3: max_bits=16\n"
     ]
    },
    {
     "name": "stderr",
     "output_type": "stream",
     "text": [
      "156it [04:26,  1.71s/it]\n",
      "4it [25:47, 344.72s/it]"
     ]
    },
    {
     "name": "stdout",
     "output_type": "stream",
     "text": [
      "j=3: row=['qat', 20, 5, 4, 16, 0.515625, 0.421875, 1.767675773302714]\n",
      "x.bit_width=1 > lsbs_to_remove=16\n"
     ]
    },
    {
     "name": "stderr",
     "output_type": "stream",
     "text": [
      "5it [25:51, 221.82s/it]"
     ]
    },
    {
     "name": "stdout",
     "output_type": "stream",
     "text": [
      "j=4: row=['qat', 20, 5, <Exactness.EXACT: 0>, -1, -1, -1, -1, -1]\n",
      "x.bit_width=12 > lsbs_to_remove=14\n"
     ]
    },
    {
     "name": "stderr",
     "output_type": "stream",
     "text": [
      "6it [25:54, 259.15s/it]"
     ]
    },
    {
     "name": "stdout",
     "output_type": "stream",
     "text": [
      "j=5: row=['qat', 20, 5, <Exactness.APPROXIMATE: 1>, -1, -1, -1, -1, -1]\n"
     ]
    },
    {
     "name": "stderr",
     "output_type": "stream",
     "text": [
      "\n"
     ]
    }
   ],
   "source": [
    "bits = 5\n",
    "nb_layers = 20\n",
    "\n",
    "param[\"dir\"] =  f\"./checkpoints/MNIST/NLP_{nb_layers}/\"\n",
    "\n",
    "fp32_mnist = Fp32MNIST(param['output_size'], nb_layers=nb_layers).to(device)\n",
    "\n",
    "path = f\"checkpoints/MNIST/NLP_{nb_layers}/quant_mnist_{bits=}/MNIST_quant_mnist_{bits=}_state_dict.pt\"\n",
    "quant_mnist = QuantMNIST(bit=bits, nb_layers=nb_layers).to(\"cpu\")\n",
    "quant_mnist.load_state_dict(torch.load(path, map_location=device))\n",
    "\n",
    "history = run(fp32_mnist, quant_mnist, 'qat', data_calibration, test_loader, bits=4)\n"
   ]
  },
  {
   "cell_type": "code",
   "execution_count": null,
   "metadata": {},
   "outputs": [],
   "source": [
    "history = run(fp32_mnist, quant_mnist, 'qat', data_calibration, test_loader, bits=4)\n"
   ]
  },
  {
   "cell_type": "code",
   "execution_count": 15,
   "metadata": {},
   "outputs": [
    {
     "data": {
      "text/plain": [
       "[{'Compile Type': 'qat',\n",
       "  'Number of Layers': 20,\n",
       "  'Bits': 4,\n",
       "  'Threshold': 7,\n",
       "  'Max Bits': -1,\n",
       "  'Mean FP32 Accuracy': -1,\n",
       "  'Mean Quant Accuracy': -1,\n",
       "  'FHE Timing': -1},\n",
       " {'Compile Type': 'qat',\n",
       "  'Number of Layers': 20,\n",
       "  'Bits': 4,\n",
       "  'Threshold': 6,\n",
       "  'Max Bits': -1,\n",
       "  'Mean FP32 Accuracy': -1,\n",
       "  'Mean Quant Accuracy': -1,\n",
       "  'FHE Timing': -1},\n",
       " {'Compile Type': 'qat',\n",
       "  'Number of Layers': 20,\n",
       "  'Bits': 4,\n",
       "  'Threshold': 5,\n",
       "  'Max Bits': -1,\n",
       "  'Mean FP32 Accuracy': -1,\n",
       "  'Mean Quant Accuracy': -1,\n",
       "  'FHE Timing': -1},\n",
       " {'Compile Type': 'qat',\n",
       "  'Number of Layers': 20,\n",
       "  'Bits': 4,\n",
       "  'Threshold': 4,\n",
       "  'Max Bits': -1,\n",
       "  'Mean FP32 Accuracy': -1,\n",
       "  'Mean Quant Accuracy': -1,\n",
       "  'FHE Timing': -1},\n",
       " {'Compile Type': 'qat',\n",
       "  'Number of Layers': 20,\n",
       "  'Bits': 4,\n",
       "  'Threshold': <Exactness.APPROXIMATE: 1>,\n",
       "  'Max Bits': -1,\n",
       "  'Mean FP32 Accuracy': -1,\n",
       "  'Mean Quant Accuracy': -1,\n",
       "  'FHE Timing': -1},\n",
       " {'Compile Type': 'qat',\n",
       "  'Number of Layers': 20,\n",
       "  'Bits': 4,\n",
       "  'Threshold': <Exactness.APPROXIMATE: 1>,\n",
       "  'Max Bits': -1,\n",
       "  'Mean FP32 Accuracy': -1,\n",
       "  'Mean Quant Accuracy': -1,\n",
       "  'FHE Timing': -1}]"
      ]
     },
     "execution_count": 15,
     "metadata": {},
     "output_type": "execute_result"
    }
   ],
   "source": [
    "history"
   ]
  },
  {
   "cell_type": "code",
   "execution_count": 21,
   "metadata": {},
   "outputs": [
    {
     "name": "stdout",
     "output_type": "stream",
     "text": [
      "nb_layers=20, bits=5, compile_type='qat', compile_function=<function compile_brevitas_qat_model at 0x7f19ceed5bd0>\n"
     ]
    },
    {
     "name": "stderr",
     "output_type": "stream",
     "text": [
      "0it [00:00, ?it/s]"
     ]
    },
    {
     "name": "stdout",
     "output_type": "stream",
     "text": [
      "j=0: max_bits=16\n"
     ]
    },
    {
     "name": "stderr",
     "output_type": "stream",
     "text": []
    },
    {
     "ename": "",
     "evalue": "",
     "output_type": "error",
     "traceback": [
      "\u001b[1;31mCanceled future for execute_request message before replies were done"
     ]
    },
    {
     "ename": "",
     "evalue": "",
     "output_type": "error",
     "traceback": [
      "\u001b[1;31mThe Kernel crashed while executing code in the the current cell or a previous cell. Please review the code in the cell(s) to identify a possible cause of the failure. Click <a href='https://aka.ms/vscodeJupyterKernelCrash'>here</a> for more info. View Jupyter <a href='command:jupyter.viewOutput'>log</a> for further details."
     ]
    }
   ],
   "source": [
    "bits = 5\n",
    "nb_layers = 20\n",
    "\n",
    "param[\"dir\"] =  f\"./checkpoints/MNIST/NLP_{nb_layers}/\"\n",
    "\n",
    "fp32_mnist = Fp32MNIST(param['output_size'], nb_layers=nb_layers).to(device)\n",
    "\n",
    "\n",
    "path = f\"checkpoints/MNIST/NLP_{nb_layers}/quant_mnist_{bits=}/MNIST_quant_mnist_{bits=}_state_dict.pt\"\n",
    "quant_mnist = QuantMNIST(bit=bits, nb_layers=nb_layers).to(\"cpu\")\n",
    "quant_mnist.load_state_dict(torch.load(path, map_location=device))\n",
    "\n",
    "\n",
    "history3 = run(fp32_mnist, quant_mnist, 'qat', data_calibration, test_loader, bits=4)\n",
    "history4 = run(fp32_mnist, quant_mnist, 'ptq', data_calibration, test_loader, bits=4)"
   ]
  },
  {
   "cell_type": "code",
   "execution_count": null,
   "metadata": {},
   "outputs": [],
   "source": [
    "bits = 4\n",
    "nb_layers = 50\n",
    "\n",
    "param[\"dir\"] =  f\"./checkpoints/MNIST/NLP_{nb_layers}/\"\n",
    "\n",
    "fp32_mnist = Fp32MNIST(param['output_size'], nb_layers=nb_layers).to(device)\n",
    "\n",
    "\n",
    "path = f\"checkpoints/MNIST/NLP_{nb_layers}/quant_mnist_{bits=}/MNIST_quant_mnist_{bits=}_state_dict.pt\"\n",
    "quant_mnist = QuantMNIST(bit=bits, nb_layers=nb_layers).to(\"cpu\")\n",
    "quant_mnist.load_state_dict(torch.load(path, map_location=device))\n",
    "\n",
    "\n",
    "history35 = run(fp32_mnist, quant_mnist, 'qat', data_calibration, test_loader, bits=4)\n",
    "history47 = run(fp32_mnist, quant_mnist, 'ptq', data_calibration, test_loader, bits=4)"
   ]
  },
  {
   "cell_type": "markdown",
   "metadata": {},
   "source": [
    "## MNIST 50"
   ]
  },
  {
   "cell_type": "code",
   "execution_count": 15,
   "metadata": {},
   "outputs": [
    {
     "name": "stdout",
     "output_type": "stream",
     "text": [
      "With 50-nb_layers: acc_after_ft_train=98.012% vs acc_after_ft_test=96.855%\n"
     ]
    }
   ],
   "source": [
    "nb_layers = 50\n",
    "\n",
    "param[\"dir\"] =  f\"./checkpoints/MNIST/NLP_{nb_layers}/\"\n",
    "\n",
    "fp32_mnist = Fp32MNIST(param['output_size'], nb_layers=nb_layers).to(device)\n",
    "checkpoint = torch.load(f\"checkpoints/MNIST/NLP_{nb_layers}/fp32/MNIST_fp32_state_dict.pt\", map_location=device)\n",
    "fp32_mnist.load_state_dict(checkpoint)\n",
    "\n",
    "acc_after_ft_train = torch_inference(fp32_mnist, train_loader, device=device)\n",
    "acc_after_ft_test  = torch_inference(fp32_mnist, test_loader, device=device)\n",
    "\n",
    "print(\n",
    "    f\"With {fp32_mnist.nb_layers}-nb_layers: \"\n",
    "    f\"{acc_after_ft_train=:.3%} vs {acc_after_ft_test=:.3%}\"\n",
    "    )\n"
   ]
  },
  {
   "cell_type": "code",
   "execution_count": 51,
   "metadata": {},
   "outputs": [
    {
     "name": "stdout",
     "output_type": "stream",
     "text": [
      "Accuracy before fine-tuning: acc_before_ft=9.696%\n",
      "Maximum bit-width in the circuit: 14\n",
      "\n"
     ]
    }
   ],
   "source": [
    "bits, run, nb_layers = 4, True, 50\n",
    "\n",
    "quant_mnist = QuantMNIST(bit=bits, output_size=param[\"output_size\"], nb_layers=nb_layers).to(\"cpu\")\n",
    "quant_mnist = mapping_keys(checkpoint, quant_mnist, device=\"cpu\")\n",
    "acc_before_ft = torch_inference(quant_mnist, test_loader, device=device)\n",
    "\n",
    "\"\"\"\n",
    "Accuracy before fine-tuning: acc_before_ft=10.286%\n",
    "Maximum bit-width in the circuit: 16\n",
    "\"\"\"\n",
    "\n",
    "print(f\"Accuracy before fine-tuning: {acc_before_ft=:.3%}\")\n",
    "qmodel = fhe_compatibility(quant_mnist, data_calibration, rounding_threshold_bits=bits)\n",
    "print(f\"Maximum bit-width in the circuit: {qmodel.fhe_circuit.graph.maximum_integer_bit_width()}\\n\")"
   ]
  },
  {
   "cell_type": "code",
   "execution_count": 52,
   "metadata": {},
   "outputs": [
    {
     "name": "stdout",
     "output_type": "stream",
     "text": [
      "checkpoints/MNIST/NLP_50/quant_mnist_bits=4/MNIST_quant_mnist_bits=4_state_dict.pt\n"
     ]
    },
    {
     "data": {
      "text/plain": [
       "<All keys matched successfully>"
      ]
     },
     "execution_count": 52,
     "metadata": {},
     "output_type": "execute_result"
    }
   ],
   "source": [
    "path = f\"checkpoints/MNIST/NLP_{nb_layers}/quant_mnist_{bits=}/MNIST_quant_mnist_{bits=}_state_dict.pt\"\n",
    "print(path)\n",
    "quant_mnist = QuantMNIST(bit=bits, nb_layers=nb_layers).to(\"cpu\")\n",
    "quant_mnist.load_state_dict(torch.load(path, map_location=device))\n",
    "\n",
    "# acc_after_ft_train = torch_inference(quant_mnist, train_loader, device=device)\n",
    "# acc_after_ft_test  = torch_inference(quant_mnist, test_loader, device=device)\n",
    "\n",
    "# print(\n",
    "#     f\"With {quant_mnist.bit}-bits and {quant_mnist.nb_layers}-nb_layers: \"\n",
    "#     f\"{acc_after_ft_train=:.3%} vs {acc_after_ft_test=:.3%}\"\n",
    "#     )\n",
    "\n",
    "# qmodel = fhe_compatibility(quant_mnist, data_calibration, rounding_threshold_bits=bits)\n",
    "# print(f\"Maximum bit-width in the circuit: {qmodel.fhe_circuit.graph.maximum_integer_bit_width()}\\n\")"
   ]
  },
  {
   "cell_type": "code",
   "execution_count": 54,
   "metadata": {},
   "outputs": [
    {
     "name": "stdout",
     "output_type": "stream",
     "text": [
      "Epoch  0: Train loss = 0.4400 VS Test loss = 0.6100 - Accuracy train: 0.8940 VS Accuracy test: 0.8411\n",
      "Epoch  1: Train loss = 0.4530 VS Test loss = 0.3802 - Accuracy train: 0.8917 VS Accuracy test: 0.9366\n",
      "Epoch  2: Train loss = 0.4523 VS Test loss = 0.5532 - Accuracy train: 0.8917 VS Accuracy test: 0.7930\n",
      "Epoch  3: Train loss = 0.4462 VS Test loss = 0.4610 - Accuracy train: 0.8922 VS Accuracy test: 0.9114\n",
      "Epoch  4: Train loss = 0.4488 VS Test loss = 0.5657 - Accuracy train: 0.8912 VS Accuracy test: 0.7489\n",
      "Epoch  5: Train loss = 0.4541 VS Test loss = 0.4020 - Accuracy train: 0.8917 VS Accuracy test: 0.9104\n",
      "Epoch  6: Train loss = 0.4468 VS Test loss = 0.5325 - Accuracy train: 0.8920 VS Accuracy test: 0.8685\n",
      "Epoch  7: Train loss = 0.4451 VS Test loss = 0.4936 - Accuracy train: 0.8929 VS Accuracy test: 0.8282\n",
      "Epoch  8: Train loss = 0.4484 VS Test loss = 0.5095 - Accuracy train: 0.8922 VS Accuracy test: 0.8144\n",
      "Epoch  9: Train loss = 0.4426 VS Test loss = 0.5891 - Accuracy train: 0.8925 VS Accuracy test: 0.7720\n",
      "Epoch 10: Train loss = 0.4487 VS Test loss = 0.4339 - Accuracy train: 0.8924 VS Accuracy test: 0.9341\n",
      "Epoch 11: Train loss = 0.4450 VS Test loss = 0.5444 - Accuracy train: 0.8921 VS Accuracy test: 0.8189\n",
      "Epoch 12: Train loss = 0.4442 VS Test loss = 0.5472 - Accuracy train: 0.8927 VS Accuracy test: 0.8343\n",
      "Epoch 13: Train loss = 0.4475 VS Test loss = 0.4131 - Accuracy train: 0.8922 VS Accuracy test: 0.9317\n",
      "Epoch 14: Train loss = 0.4479 VS Test loss = 0.5178 - Accuracy train: 0.8931 VS Accuracy test: 0.8151\n",
      "100%|██████████| 15/15 [22:17<00:00, 89.16s/it]\n",
      "Save in: checkpoints/MNIST/NLP_50/quant_mnist_bits=4/MNIST_quant_mnist_bits=4_state_dict.pt\n"
     ]
    }
   ],
   "source": [
    "assert str(quant_mnist.nb_layers) in param[\"dir\"]\n",
    "\n",
    "if run:\n",
    "    param[\"training\"] = f\"quant_mnist_{bits=}\"\n",
    "    param[\"epochs\"] = 5\n",
    "    param[\"lr\"] = 0.000001\n",
    "    param[\"milestones\"] = []\n",
    "    param[\"gamma\"] = 0.1\n",
    "    quant_mnist = train(quant_mnist, train_loader, test_loader, param, device=device)\n"
   ]
  },
  {
   "cell_type": "code",
   "execution_count": 19,
   "metadata": {},
   "outputs": [
    {
     "name": "stdout",
     "output_type": "stream",
     "text": [
      "Maximum bit-width in the circuit: 14\n",
      "\n"
     ]
    }
   ],
   "source": [
    "\n",
    "qmodel = fhe_compatibility(quant_mnist, data_calibration, rounding_threshold_bits=bits)\n",
    "print(f\"Maximum bit-width in the circuit: {qmodel.fhe_circuit.graph.maximum_integer_bit_width()}\\n\")"
   ]
  },
  {
   "cell_type": "markdown",
   "metadata": {},
   "source": [
    "## MNIST 100"
   ]
  },
  {
   "cell_type": "code",
   "execution_count": 13,
   "metadata": {},
   "outputs": [
    {
     "name": "stdout",
     "output_type": "stream",
     "text": [
      "With 100-nb_layers: acc_after_ft_train=68.967% vs acc_after_ft_test=70.092%\n"
     ]
    }
   ],
   "source": [
    "nb_layers = 100\n",
    "\n",
    "param[\"dir\"] =  f\"./checkpoints/MNIST/NLP_{nb_layers}/\"\n",
    "\n",
    "fp32_mnist = Fp32MNIST(param['output_size'], nb_layers=nb_layers).to(device)\n",
    "\n",
    "checkpoint = torch.load(f\"checkpoints/MNIST/NLP_{nb_layers}/fp32/MNIST_fp32_state_dict.pt\", map_location=device)\n",
    "\n",
    "fp32_mnist.load_state_dict(checkpoint)\n",
    "\n",
    "acc_after_ft_train = torch_inference(fp32_mnist, train_loader, device=device)\n",
    "acc_after_ft_test  = torch_inference(fp32_mnist, test_loader, device=device)\n",
    "\n",
    "print(\n",
    "    f\"With {fp32_mnist.nb_layers}-nb_layers: \"\n",
    "    f\"{acc_after_ft_train=:.3%} vs {acc_after_ft_test=:.3%}\"\n",
    "    )"
   ]
  },
  {
   "cell_type": "code",
   "execution_count": 20,
   "metadata": {},
   "outputs": [
    {
     "name": "stdout",
     "output_type": "stream",
     "text": [
      "Epoch  0: Train loss = 0.4472 VS Test loss = 0.8814 - Accuracy train: 0.8737 VS Accuracy test: 0.6469\n",
      " 50%|█████     | 1/2 [00:49<00:49, 49.17s/it]"
     ]
    }
   ],
   "source": [
    "# for name in fp32_mnist:\n",
    "#     if name in mnist_nlp50 and fp32_mnist[name].size() == mnist_nlp50[name].size():\n",
    "#         mnist_nlp50[name].copy_(fp32_mnist[name])\n",
    "\n",
    "# fp32_mnist.load_state_dict(checkpoint)\n",
    "\n",
    "for n, p in list(fp32_mnist.named_parameters())[0: 95]:\n",
    "        p.requires_grad = True\n",
    "\n",
    "# for n, p in list(fp32_mnist.named_parameters())[]:\n",
    "#         p.requires_grad = True\n",
    "\n",
    "run = 1\n",
    "\n",
    "if run:\n",
    "    param[\"training\"] = \"fp32\"\n",
    "    param[\"epochs\"] = 2\n",
    "    param[\"lr\"] = 0.00001\n",
    "    param[\"milestones\"] = []\n",
    "    param[\"gamma\"] = 0.1\n",
    "\n",
    "    fp32_mnist = train(fp32_mnist, train_loader, test_loader, param, device=device)\n",
    "\n",
    "\n",
    "acc_after_ft_train = torch_inference(fp32_mnist, train_loader, device=device)\n",
    "acc_after_ft_test  = torch_inference(fp32_mnist, test_loader, device=device)\n",
    "\n",
    "print(\n",
    "    f\"With {fp32_mnist.nb_layers}-nb_layers: \"\n",
    "    f\"{acc_after_ft_train=:.3%} vs {acc_after_ft_test=:.3%}\"\n",
    "    )\n"
   ]
  },
  {
   "cell_type": "code",
   "execution_count": null,
   "metadata": {},
   "outputs": [],
   "source": []
  }
 ],
 "metadata": {
  "execution": {
   "timeout": 10800
  },
  "kernelspec": {
   "display_name": "Python 3.8.16 ('.venv': poetry)",
   "language": "python",
   "name": "python3"
  },
  "language_info": {
   "codemirror_mode": {
    "name": "ipython",
    "version": 3
   },
   "file_extension": ".py",
   "mimetype": "text/x-python",
   "name": "python",
   "nbconvert_exporter": "python",
   "pygments_lexer": "ipython3",
   "version": "3.10.12"
  },
  "vscode": {
   "interpreter": {
    "hash": "1069ca3ee43010eb0dc75ae1023d43c37aff1ecf2400458a3da60effb006872e"
   }
  }
 },
 "nbformat": 4,
 "nbformat_minor": 2
}
