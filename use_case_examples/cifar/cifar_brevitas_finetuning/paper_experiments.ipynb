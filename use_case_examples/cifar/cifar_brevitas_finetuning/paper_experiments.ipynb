{
 "cells": [
  {
   "cell_type": "markdown",
   "metadata": {},
   "source": [
    "## Reproducing Paper _Programmable Bootstrapping Enables Efficient Homomorphic Inference of Deep Neural Networks_ : Benchmarking Results\n",
    "\n",
    "This notebook replicates experiments from the paper [_Programmable Bootstrapping Enables Efficient Homomorphic Inference of Deep Neural Networks_](https://pypi.org/project/concrete-ml/\n",
    "), published in 2019. \n",
    "It provides an in-depth analysis of the deep neural network architectures NN-20 and NN-50, along with their training processes using floating point precisio and their [quantization](https://docs.zama.ai/concrete-ml/explanations/quantization) using the Quantization Aware Training (QAT) and Post Training Quantization (PTQ) methods. \n",
    "\n",
    "We compare the original paper's findings with the results from the latest version of [Concrete ML](https://whitepaper.zama.ai/). This comparison highlight the significant advancements made by Concrete ML, particularly in execution speed while preserving model accuracy."
   ]
  },
  {
   "cell_type": "code",
   "execution_count": 1,
   "metadata": {},
   "outputs": [],
   "source": [
    "import csv\n",
    "import os\n",
    "import pickle as pkl\n",
    "import random\n",
    "import sys\n",
    "import time\n",
    "import warnings\n",
    "from collections import OrderedDict\n",
    "from glob import glob\n",
    "from pathlib import Path\n",
    "from typing import Callable, Dict, Optional, Tuple\n",
    "\n",
    "import brevitas\n",
    "import brevitas.nn as qnn\n",
    "import matplotlib.pyplot as plt\n",
    "import numpy as np\n",
    "import pandas as pd\n",
    "import torch\n",
    "from brevitas import config\n",
    "from concrete.fhe.compilation import Configuration\n",
    "from torch.utils.data.dataloader import DataLoader\n",
    "from torchvision import datasets, transforms\n",
    "from torchvision.utils import make_grid\n",
    "from tqdm import tqdm\n",
    "\n",
    "from concrete import fhe\n",
    "from concrete.ml.torch.compile import compile_brevitas_qat_model, compile_torch_model\n",
    "\n",
    "warnings.filterwarnings(\"ignore\", category=UserWarning)"
   ]
  },
  {
   "cell_type": "markdown",
   "metadata": {},
   "source": [
    "## Architecture\n",
    "\n",
    "All networks begin with a convolutional layer configured with `in_channel=1, out_channels=1, kernel_size=3, stride=1, padding_mode='replicate'`. At the time of writing this notebook, `padding=1` is not yet supported; as a workaround, padding is added during the data loading transformation process. \n",
    "\n",
    "This is followed by 20 linear layers of 92 neurones with ReLU activation for NN-20, and 50 layers for NN-50."
   ]
  },
  {
   "cell_type": "code",
   "execution_count": 2,
   "metadata": {},
   "outputs": [],
   "source": [
    "device = \"cpu\"\n",
    "\n",
    "# Input size\n",
    "INPUT_IMG_SIZE = 28\n",
    "\n",
    "BATCH_SIZE = 64\n",
    "\n",
    "# MNIST data normalization\n",
    "MEAN = STD = 0.5\n",
    "\n",
    "SEED = 42"
   ]
  },
  {
   "cell_type": "code",
   "execution_count": 3,
   "metadata": {},
   "outputs": [],
   "source": [
    "FEATURES_MAPS = [\n",
    "    # The Bravitas.QuantIdentiy layer, only used in the quant NN, aims to quantize the input.\n",
    "    # (\"I\",),\n",
    "    # Convolution layer, with:\n",
    "    #  in_channel=1, out_channels=1, kernel_size=3, stride=1, padding_mode='replicate'\n",
    "    (\"C\", 1, 1, 3, 1, \"replicate\"),\n",
    "]\n",
    "\n",
    "# The article presents 3 neural network depths. In this notebook, we focus NN-20 and NN-50\n",
    "# architectures. The parameter `nb_layers`: controls the depth of the NN.\n",
    "LINEAR_LAYERS = lambda nb_layers, output_size: (\n",
    "    [\n",
    "        (\"R\",),\n",
    "        (\"L\", INPUT_IMG_SIZE * INPUT_IMG_SIZE, 92),\n",
    "        (\"B\", 92),\n",
    "    ]\n",
    "    + [\n",
    "        (\"R\",),\n",
    "        (\"L\", 92, 92),\n",
    "        (\"B\", 92),\n",
    "    ]\n",
    "    * (nb_layers - 2)\n",
    "    + [(\"L\", 92, output_size)]\n",
    ")"
   ]
  },
  {
   "cell_type": "markdown",
   "metadata": {},
   "source": [
    "### FP32 MNIST Neural Nerwork "
   ]
  },
  {
   "cell_type": "code",
   "execution_count": 4,
   "metadata": {},
   "outputs": [],
   "source": [
    "class Fp32MNIST(torch.nn.Module):\n",
    "    \"\"\"MNIST Torch model.\"\"\"\n",
    "\n",
    "    def __init__(self, nb_layers: int, output_size: int = 10):\n",
    "        super(Fp32MNIST, self).__init__()\n",
    "        \"\"\"MNIST Torch model.\n",
    "\n",
    "        Args:\n",
    "            nb_layers (int): Number of layers.\n",
    "            output_size (int): Number of classes.\n",
    "        \"\"\"\n",
    "        self.nb_layers = nb_layers\n",
    "        self.output_size = output_size\n",
    "\n",
    "        def make_layers(t):\n",
    "            if t[0] == \"C\":\n",
    "                return torch.nn.Conv2d(\n",
    "                    in_channels=t[1],\n",
    "                    out_channels=t[2],\n",
    "                    kernel_size=t[3],\n",
    "                    stride=t[4],\n",
    "                    padding_mode=t[5],\n",
    "                )\n",
    "            if t[0] == \"L\":\n",
    "                return torch.nn.Linear(in_features=t[1], out_features=t[2])\n",
    "            if t[0] == \"R\":\n",
    "                return torch.nn.ReLU()\n",
    "            if t[0]:\n",
    "                return torch.nn.BatchNorm1d(t[1])\n",
    "\n",
    "            raise NameError(f\"'{t}' not defined\")\n",
    "\n",
    "        # QuantIdentity layers are ignored in the floationg point architecture.\n",
    "        self.features_maps = torch.nn.Sequential(\n",
    "            *[make_layers(t) for t in FEATURES_MAPS if t[0] != \"I\"]\n",
    "        )\n",
    "        self.linears = torch.nn.Sequential(\n",
    "            *[\n",
    "                make_layers(t)\n",
    "                for t in LINEAR_LAYERS(self.nb_layers, self.output_size)\n",
    "                if t[0] != \"I\"\n",
    "            ]\n",
    "        )\n",
    "\n",
    "    def forward(self, x):\n",
    "        x = self.features_maps(x)\n",
    "        x = torch.nn.Flatten()(x)\n",
    "        x = self.linears(x)\n",
    "        return x"
   ]
  },
  {
   "cell_type": "markdown",
   "metadata": {},
   "source": [
    "### Quantized MNIST Neural Network"
   ]
  },
  {
   "cell_type": "code",
   "execution_count": 5,
   "metadata": {},
   "outputs": [],
   "source": [
    "class QuantMNIST(torch.nn.Module):\n",
    "    \"\"\"Quantized MNIST network with Brevitas.\"\"\"\n",
    "\n",
    "    def __init__(\n",
    "        self,\n",
    "        n_bits: int,\n",
    "        nb_layers: int,\n",
    "        output_size: int = 10,\n",
    "        act_quant: brevitas.quant = brevitas.quant.Int8ActPerTensorFloat,\n",
    "        weight_quant: brevitas.quant = brevitas.quant.Int8WeightPerTensorFloat,\n",
    "    ):\n",
    "        \"\"\"A quantized network with Brevitas.\n",
    "\n",
    "        Args:\n",
    "            n_bits (int): Precision bit of quantization.\n",
    "            nb_layers (int): Number of layers.\n",
    "            output_size (int): Number of classes\n",
    "            act_quant (brevitas.quant): Quantization protocol of activations.\n",
    "            weight_quant (brevitas.quant): Quantization protocol of the weights.\n",
    "        \"\"\"\n",
    "        super(QuantMNIST, self).__init__()\n",
    "\n",
    "        self.n_bits = n_bits\n",
    "        self.nb_layers = nb_layers\n",
    "        self.output_size = output_size\n",
    "\n",
    "        def tuple2quantlayer(t):\n",
    "            if t[0] == \"R\":\n",
    "                return qnn.QuantReLU(\n",
    "                    return_quant_tensor=True, bit_width=n_bits, act_quant=act_quant\n",
    "                )\n",
    "            if t[0] == \"C\":\n",
    "                return qnn.QuantConv2d(\n",
    "                    t[1],\n",
    "                    t[2],\n",
    "                    kernel_size=t[3],\n",
    "                    weight_bit_width=2,\n",
    "                    weight_quant=weight_quant,\n",
    "                    return_quant_tensor=True,\n",
    "                )\n",
    "            if t[0] == \"L\":\n",
    "                return qnn.QuantLinear(\n",
    "                    in_features=t[1],\n",
    "                    out_features=t[2],\n",
    "                    weight_bit_width=n_bits,\n",
    "                    weight_quant=weight_quant,\n",
    "                    bias=True,\n",
    "                    return_quant_tensor=True,\n",
    "                )\n",
    "            if t[0] == \"I\":\n",
    "                identity_quant = t[1] if len(t) == 2 else n_bits\n",
    "                return qnn.QuantIdentity(\n",
    "                    bit_width=identity_quant, act_quant=act_quant, return_quant_tensor=True\n",
    "                )\n",
    "            if t[0] == \"B\":\n",
    "                return torch.nn.BatchNorm1d(t[1])\n",
    "\n",
    "        self.features_maps = torch.nn.Sequential(\n",
    "            *[tuple2quantlayer(t) for t in FEATURES_MAPS if t[0]]\n",
    "        )\n",
    "\n",
    "        # self.identity1 and self.identity2 are used to encapsulate the `torch.flatten`.\n",
    "        self.identity1 = qnn.QuantIdentity(\n",
    "            bit_width=n_bits, act_quant=act_quant, return_quant_tensor=True\n",
    "        )\n",
    "        self.identity2 = qnn.QuantIdentity(\n",
    "            bit_width=n_bits, act_quant=act_quant, return_quant_tensor=True\n",
    "        )\n",
    "\n",
    "        # QuantIdentity layers are taken into account\n",
    "        self.linears = torch.nn.Sequential(\n",
    "            *[tuple2quantlayer(t) for t in LINEAR_LAYERS(self.nb_layers, self.output_size)]\n",
    "        )\n",
    "\n",
    "    def forward(self, x):\n",
    "        x = self.features_maps(x)\n",
    "        x = self.identity1(x)\n",
    "        x = torch.flatten(x, 1)\n",
    "        x = self.identity2(x)\n",
    "        x = self.linears(x)\n",
    "        return x.value"
   ]
  },
  {
   "cell_type": "markdown",
   "metadata": {},
   "source": [
    "## Some useful functions"
   ]
  },
  {
   "cell_type": "code",
   "execution_count": 6,
   "metadata": {},
   "outputs": [],
   "source": [
    "def plot_dataset(data_loader: DataLoader, n: int = 10) -> None:\n",
    "    \"\"\"Visualize some images from a given data loader.\n",
    "\n",
    "    Args:\n",
    "        data_loader (DataLoader): Data loader.\n",
    "        n (int): Limit the number of images to display to `n`.\n",
    "    \"\"\"\n",
    "\n",
    "    # Class names\n",
    "    class_names = data_loader.dataset.classes\n",
    "\n",
    "    _, ax = plt.subplots(figsize=(12, 6))\n",
    "\n",
    "    images, labels = next(iter(data_loader))\n",
    "\n",
    "    # Make a grid from batch and rotate to get a valid shape for imshow\n",
    "    images = make_grid(images[:n], nrow=n).permute((1, 2, 0))\n",
    "    # Remove the previous normalization\n",
    "    images = images * np.array(STD) + np.array(MEAN)\n",
    "\n",
    "    ax.imshow(images)\n",
    "\n",
    "    ax.set_title(\"\".join([f\"{class_names[img]:<13}\" for img in labels[:n]]))\n",
    "    ax.set_xticks([])\n",
    "    ax.set_yticks([])\n",
    "\n",
    "    plt.show()"
   ]
  },
  {
   "cell_type": "code",
   "execution_count": 7,
   "metadata": {},
   "outputs": [],
   "source": [
    "def mapping_keys(pre_trained_weights: Dict, model: torch.nn.Module, device: str) -> torch.nn.Module:\n",
    "    \"\"\"\n",
    "    Initialize the quantized model with pre-trained fp32 weights.\n",
    "\n",
    "    Args:\n",
    "        pre_trained_weights (Dict): The state_dict of the pre-trained fp32 model.\n",
    "        model (nn.Module): The Brevitas model.\n",
    "        device (str): Device type.\n",
    "\n",
    "    Returns:\n",
    "        Callable: The quantized model with the pre-trained state_dict.\n",
    "    \"\"\"\n",
    "\n",
    "    # Brevitas requirement to ignore missing keys\n",
    "    config.IGNORE_MISSING_KEYS = True\n",
    "\n",
    "    old_keys = list(pre_trained_weights.keys())\n",
    "    new_keys = list(model.state_dict().keys())\n",
    "    new_state_dict = OrderedDict()\n",
    "\n",
    "    for old_key, new_key in zip(old_keys, new_keys):\n",
    "        new_state_dict[new_key] = pre_trained_weights[old_key]\n",
    "\n",
    "    model.load_state_dict(new_state_dict)\n",
    "    model = model.to(device)\n",
    "\n",
    "    return model"
   ]
  },
  {
   "cell_type": "code",
   "execution_count": 8,
   "metadata": {},
   "outputs": [],
   "source": [
    "def train(\n",
    "    model: torch.nn.Module,\n",
    "    train_loader: DataLoader,\n",
    "    test_loader: DataLoader,\n",
    "    param: Dict,\n",
    "    step: int = 1,\n",
    "    device: str = \"cpu\",\n",
    ") -> torch.nn.Module:\n",
    "    \"\"\"Training the model.\n",
    "\n",
    "    Args:\n",
    "        model (nn.Module): A PyTorch or Brevitas network.\n",
    "        train_loader (DataLoader): The training set.\n",
    "        test_loader (DataLoader): The test set.\n",
    "        param (Dict): Set of hyper-parameters to use depending on whether\n",
    "            CIFAR-10 or CIFAR-100 is used.\n",
    "        step (int): Display the loss and accuracy every `epoch % step`.\n",
    "        device (str): Device type.\n",
    "    Returns:\n",
    "        nn.Module: the trained model.\n",
    "    \"\"\"\n",
    "\n",
    "    if param[\"seed\"]:\n",
    "\n",
    "        torch.manual_seed(param[\"seed\"])\n",
    "        random.seed(param[\"seed\"])\n",
    "\n",
    "    model = model.to(device)\n",
    "\n",
    "    optimizer = torch.optim.Adam(model.parameters(), lr=param[\"lr\"])\n",
    "    scheduler = torch.optim.lr_scheduler.MultiStepLR(\n",
    "        optimizer, milestones=param[\"milestones\"], gamma=param[\"gamma\"]\n",
    "    )\n",
    "\n",
    "    # Save the state_dict\n",
    "    dir = Path(\".\") / param[\"dir\"] / param[\"training\"]\n",
    "    dir.mkdir(parents=True, exist_ok=True)\n",
    "\n",
    "    # To avoid breaking up the tqdm bar\n",
    "    with tqdm(total=param[\"epochs\"], file=sys.stdout) as pbar:\n",
    "\n",
    "        for i in range(param[\"epochs\"]):\n",
    "            # Train the model\n",
    "            model.train()\n",
    "            loss_batch_train, accuracy_batch_train = [], []\n",
    "\n",
    "            for x, y in train_loader:\n",
    "                x, y = x.to(device), y.to(device)\n",
    "\n",
    "                optimizer.zero_grad()\n",
    "                yhat = model(x)\n",
    "                loss_train = param[\"criterion\"](yhat, y)\n",
    "                loss_train.backward()\n",
    "                optimizer.step()\n",
    "\n",
    "                loss_batch_train.append(loss_train.item())\n",
    "                accuracy_batch_train.extend((yhat.argmax(1) == y).cpu().float().tolist())\n",
    "\n",
    "            if scheduler:\n",
    "                scheduler.step()\n",
    "\n",
    "            param[\"accuracy_train\"].append(np.mean(accuracy_batch_train))\n",
    "            param[\"loss_train_history\"].append(np.mean(loss_batch_train))\n",
    "\n",
    "            # Evaluation during training:\n",
    "            # Disable autograd engine (no backpropagation)\n",
    "            # To reduce memory usage and to speed up computations\n",
    "            with torch.no_grad():\n",
    "                # Notify batchnormalization & dropout layers to work in eval mode\n",
    "                model.eval()\n",
    "                loss_batch_test, accuracy_batch_test = [], []\n",
    "                for x, y in test_loader:\n",
    "                    x, y = x.to(device), y.to(device)\n",
    "                    yhat = model(x)\n",
    "                    loss_test = param[\"criterion\"](yhat, y)\n",
    "                    loss_batch_test.append(loss_test.item())\n",
    "                    accuracy_batch_test.extend((yhat.argmax(1) == y).cpu().float().tolist())\n",
    "\n",
    "                param[\"accuracy_test\"].append(np.mean(accuracy_batch_test))\n",
    "                param[\"loss_test_history\"].append(np.mean(loss_batch_test))\n",
    "\n",
    "            if i % step == 0:\n",
    "                pbar.write(\n",
    "                    f\"Epoch {i:2}: Train loss = {param['loss_train_history'][-1]:.4f} \"\n",
    "                    f\"VS Test loss = {param['loss_test_history'][-1]:.4f} - \"\n",
    "                    f\"Accuracy train: {param['accuracy_train'][-1]:.4f} \"\n",
    "                    f\"VS Accuracy test: {param['accuracy_test'][-1]:.4f}\"\n",
    "                )\n",
    "                pbar.update(step)\n",
    "\n",
    "            torch.save(\n",
    "                model.state_dict(),\n",
    "                f\"{dir}/{param['dataset_name']}_{param['training']}_state_dict.pt\",\n",
    "            )\n",
    "\n",
    "    print(\"Save in:\", f\"{dir}/{param['dataset_name']}_{param['training']}_state_dict.pt\")\n",
    "\n",
    "    torch.save(\n",
    "        model.state_dict(), f\"{dir}/{param['dataset_name']}_{param['training']}_state_dict.pt\"\n",
    "    )\n",
    "    import pickle as pkl\n",
    "\n",
    "    with open(f\"{dir}/{param['dataset_name']}_history.pkl\", \"wb\") as f:\n",
    "        pkl.dump(param, f)\n",
    "\n",
    "    torch.cuda.empty_cache()\n",
    "\n",
    "    return model"
   ]
  },
  {
   "cell_type": "code",
   "execution_count": 9,
   "metadata": {},
   "outputs": [],
   "source": [
    "def torch_inference(\n",
    "    model: torch.nn.Module,\n",
    "    data: DataLoader,\n",
    "    device: str = \"cpu\",\n",
    "    verbose: bool = False,\n",
    ") -> float:\n",
    "    \"\"\"Returns the `top_k` accuracy.\n",
    "\n",
    "    Args:\n",
    "        model (ntorch.n.Module): A PyTorch or Brevitas network.\n",
    "        data (DataLoader): The test or evaluation set.\n",
    "        device (str): Device type.\n",
    "        verbose (bool): For display.\n",
    "    Returns:\n",
    "        float: The top_k accuracy.\n",
    "    \"\"\"\n",
    "    correct = []\n",
    "    total_example = 0\n",
    "    model = model.to(device)\n",
    "\n",
    "    with torch.no_grad():\n",
    "        model.eval()\n",
    "        for x, y in tqdm(data, disable=verbose is False):\n",
    "            x, y = x.to(device), y\n",
    "            yhat = model(x).cpu().detach()\n",
    "            correct.append(yhat.argmax(1) == y)\n",
    "            total_example += len(x)\n",
    "\n",
    "    return np.mean(np.vstack(correct), dtype=\"float64\")"
   ]
  },
  {
   "cell_type": "code",
   "execution_count": 10,
   "metadata": {},
   "outputs": [],
   "source": [
    "def run_benchmark(\n",
    "    model: Callable,\n",
    "    compile_type: str,\n",
    "    data_calibration,\n",
    "    data_loader,\n",
    "    ptq_bits: int = None,\n",
    "):\n",
    "\n",
    "    if compile_type == \"qat\":\n",
    "        assert hasattr(model, \"n_bits\"), \"The model must be a Brevitas neural network.\"\n",
    "        bits = model.n_bits\n",
    "        compile_n_bits = None\n",
    "        nb_layers = model.nb_layers\n",
    "        compile_function = compile_brevitas_qat_model\n",
    "    else:\n",
    "        assert not hasattr(model, \"n_bits\"), \"The model must be a Torch neural network.\"\n",
    "        bits = compile_n_bits = ptq_bits\n",
    "        nb_layers = model.nb_layers\n",
    "        compile_function = compile_torch_model\n",
    "\n",
    "    history = []\n",
    "    filename = f\"history_{nb_layers=}_v2.csv\"\n",
    "    headers = [\n",
    "        \"Compile_type\",\n",
    "        \"Number_of_layers\",\n",
    "        \"Bits\",\n",
    "        \"threshold\",\n",
    "        \"max_bits\",\n",
    "        \"Mean_FP32_accuracy\",\n",
    "        \"Mean_disable_accuracy\",\n",
    "        \"Mean_simulate_accuracy\",\n",
    "        \"FHE_timing\",\n",
    "    ]\n",
    "\n",
    "    thresholds = [\n",
    "        {\"n_bits\": 5, \"method\": fhe.Exactness.APPROXIMATE},\n",
    "        {\"n_bits\": 5, \"method\": \"EXACT\"},\n",
    "        {\"n_bits\": 6, \"method\": \"APPROXIMATE\"},\n",
    "        {\"n_bits\": 6, \"method\": \"EXACT\"},\n",
    "        {\"n_bits\": 7, \"method\": \"APPROXIMATE\"},\n",
    "        {\"n_bits\": 7, \"method\": \"EXACT\"},\n",
    "    ]\n",
    "\n",
    "    if not os.path.isfile(filename):\n",
    "        with open(filename, \"w\", newline=\"\") as file:\n",
    "            writer = csv.writer(file)\n",
    "            writer.writerow(headers)\n",
    "\n",
    "    with open(filename, \"a\", newline=\"\") as file:\n",
    "        writer = csv.writer(file)\n",
    "\n",
    "        for j, threshold in tqdm(enumerate(thresholds)):\n",
    "\n",
    "            fhe_timing = -1\n",
    "            history_fp32_predictions = []\n",
    "            history_disable_predictions = []\n",
    "            history_simulat_predictions = []\n",
    "\n",
    "            print(threshold)\n",
    "            if 1:\n",
    "                q_module = compile_function(\n",
    "                    model.to(\"cpu\"),\n",
    "                    torch_inputset=data_calibration,\n",
    "                    n_bits=compile_n_bits,\n",
    "                    rounding_threshold_bits=threshold,\n",
    "                )\n",
    "\n",
    "                max_bits = q_module.fhe_circuit.graph.maximum_integer_bit_width()\n",
    "                print(f\"{j=}: {max_bits=} after compilation\")\n",
    "\n",
    "                for i, (data, labels) in tqdm(enumerate(data_loader)):\n",
    "\n",
    "                    fp32_predictions = model(data).cpu().detach()\n",
    "                    history_fp32_predictions.extend(fp32_predictions.argmax(1) == labels)\n",
    "\n",
    "                    data, labels = data.detach().cpu().numpy(), labels.detach().cpu().numpy()\n",
    "\n",
    "                    disable_predictions = q_module.forward(data, fhe=\"disable\")\n",
    "                    history_disable_predictions.extend(disable_predictions.argmax(1) == labels)\n",
    "\n",
    "                    simulat_predictions = q_module.forward(data, fhe=\"simulate\")\n",
    "                    history_simulat_predictions.extend(simulat_predictions.argmax(1) == labels)\n",
    "\n",
    "                    if i == 0:\n",
    "                        start_time = time.time()\n",
    "                        q_module.forward(data[0, None], fhe=\"execute\")\n",
    "                        fhe_timing = (time.time() - start_time) / 60.0\n",
    "\n",
    "                row = [\n",
    "                    compile_type,\n",
    "                    nb_layers,\n",
    "                    bits,\n",
    "                    threshold,\n",
    "                    max_bits,\n",
    "                    np.mean(history_fp32_predictions),\n",
    "                    np.mean(history_disable_predictions),\n",
    "                    np.mean(history_simulat_predictions),\n",
    "                    fhe_timing,\n",
    "                ]\n",
    "\n",
    "            else:\n",
    "                row = [compile_type, nb_layers, bits, threshold, -1, -1, -1, -1, -1]\n",
    "\n",
    "            writer.writerow(row)\n",
    "            print(f\"{j=}: {row=}\")\n",
    "            history.append(dict(zip(headers, row)))\n",
    "\n",
    "    return history"
   ]
  },
  {
   "cell_type": "markdown",
   "metadata": {},
   "source": [
    "## Load MNIST"
   ]
  },
  {
   "cell_type": "code",
   "execution_count": 11,
   "metadata": {},
   "outputs": [
    {
     "name": "stderr",
     "output_type": "stream",
     "text": [
      "Clipping input data to the valid range for imshow with RGB data ([0..1] for floats or [0..255] for integers).\n"
     ]
    },
    {
     "data": {
      "image/png": "[encoded data removed]",
      "text/plain": [
       "<Figure size 1200x600 with 1 Axes>"
      ]
     },
     "metadata": {},
     "output_type": "display_data"
    },
    {
     "data": {
      "text/plain": [
       "torch.Size([64, 1, 30, 30])"
      ]
     },
     "execution_count": 11,
     "metadata": {},
     "output_type": "execute_result"
    }
   ],
   "source": [
    "g = torch.Generator()\n",
    "g.manual_seed(SEED)\n",
    "np.random.seed(SEED)\n",
    "torch.manual_seed(SEED)\n",
    "random.seed(SEED)\n",
    "\n",
    "train_transform = transforms.Compose(\n",
    "    [\n",
    "        transforms.Pad(1, padding_mode=\"edge\"),\n",
    "        transforms.ToTensor(),\n",
    "        transforms.Normalize((MEAN,), (STD,)),\n",
    "        transforms.GaussianBlur(kernel_size=(3, 3)),\n",
    "    ]\n",
    ")\n",
    "test_transform = transforms.Compose(\n",
    "    [\n",
    "        transforms.Pad(1, padding_mode=\"edge\"),\n",
    "        transforms.ToTensor(),\n",
    "        transforms.Normalize((MEAN,), (STD,)),\n",
    "    ]\n",
    ")\n",
    "\n",
    "train_dataset = datasets.MNIST(download=True, root=\"./data\", train=True, transform=train_transform)\n",
    "\n",
    "test_dataset = datasets.MNIST(download=True, root=\"./data\", train=False, transform=test_transform)\n",
    "\n",
    "train_loader = torch.utils.data.DataLoader(\n",
    "    train_dataset,\n",
    "    batch_size=BATCH_SIZE,\n",
    "    shuffle=True,\n",
    "    drop_last=True,\n",
    "    generator=g,\n",
    ")\n",
    "\n",
    "test_loader = torch.utils.data.DataLoader(\n",
    "    test_dataset,\n",
    "    batch_size=BATCH_SIZE,\n",
    "    shuffle=True,\n",
    "    drop_last=True,\n",
    "    generator=g,\n",
    ")\n",
    "\n",
    "# The calibration data-set is used during the compilation step\n",
    "# Where, the compiler requires an exhaustive set of data to evaluate the maximum integer bit-width\n",
    "# within the graph.\n",
    "data_calibration = next(iter(train_loader))[0]\n",
    "\n",
    "plot_dataset(train_loader)\n",
    "\n",
    "data_calibration.shape"
   ]
  },
  {
   "cell_type": "markdown",
   "metadata": {},
   "source": [
    "Train the model"
   ]
  },
  {
   "cell_type": "markdown",
   "metadata": {},
   "source": [
    "# FP32 MNIST 20"
   ]
  },
  {
   "cell_type": "code",
   "execution_count": 12,
   "metadata": {},
   "outputs": [
    {
     "name": "stdout",
     "output_type": "stream",
     "text": [
      "FP32 - with 20-NN: acc_train=99.331% vs acc_test=98.137%\n"
     ]
    }
   ],
   "source": [
    "nb_layers, train_model = 20, False\n",
    "\n",
    "param = {\n",
    "    \"training\": \"fp32\",\n",
    "    \"criterion\": torch.nn.CrossEntropyLoss(),\n",
    "    \"accuracy_test\": [],\n",
    "    \"accuracy_train\": [],\n",
    "    \"loss_test_history\": [],\n",
    "    \"loss_train_history\": [],\n",
    "    \"dir\": f\"./checkpoints/MNIST/NLP_{nb_layers}/\",\n",
    "}\n",
    "\n",
    "fp32_mnist = Fp32MNIST(nb_layers=nb_layers).to(device)\n",
    "checkpoint = torch.load(\n",
    "    f\"checkpoints/MNIST/NLP_{nb_layers}/fp32/MNIST_fp32_state_dict.pt\", map_location=device\n",
    ")\n",
    "\n",
    "if train_model:\n",
    "    param[\"training\"] = \"fp32\"\n",
    "    param[\"epochs\"] = 30\n",
    "    param[\"lr\"] = 0.01\n",
    "    param[\"milestones\"] = [15, 24]\n",
    "    param[\"gamma\"] = 0.1\n",
    "\n",
    "    fp32_mnist = train(fp32_mnist, train_loader, test_loader, param, device=device)\n",
    "\n",
    "else:\n",
    "    checkpoint = torch.load(\n",
    "        f\"checkpoints/MNIST/NLP_{nb_layers}/fp32/MNIST_fp32_state_dict.pt\", map_location=device\n",
    "    )\n",
    "    fp32_mnist.load_state_dict(checkpoint)\n",
    "\n",
    "acc_train = torch_inference(fp32_mnist, train_loader, device=device)\n",
    "acc_test = torch_inference(fp32_mnist, test_loader, device=device)\n",
    "\n",
    "print(f\"FP32 - with {fp32_mnist.nb_layers}-NN: {acc_train=:.3%} vs {acc_test=:.3%}\")"
   ]
  },
  {
   "cell_type": "markdown",
   "metadata": {},
   "source": [
    "## Quant MNIST 20"
   ]
  },
  {
   "cell_type": "code",
   "execution_count": 35,
   "metadata": {},
   "outputs": [
    {
     "name": "stdout",
     "output_type": "stream",
     "text": [
      "Accuracy before fine-tuning: acc_before_ft=9.746%\n",
      "Maximum bit-width in the circuit: 13\n",
      "\n",
      "With 4-bits and 20-nb_layers: acc_after_ft_train=97.287% vs acc_after_ft_test=97.175%\n",
      "Maximum bit-width in the circuit: 14\n",
      "\n"
     ]
    }
   ],
   "source": [
    "bits, finetune_model, nb_layers = 4, False, 20\n",
    "\n",
    "quant_mnist = QuantMNIST(n_bits=bits, nb_layers=nb_layers).to(\"cpu\")\n",
    "quant_mnist = mapping_keys(checkpoint, quant_mnist, device=\"cpu\")\n",
    "acc_before_ft = torch_inference(quant_mnist, test_loader, device=device)\n",
    "\n",
    "print(f\"Accuracy before fine-tuning: {acc_before_ft=:.3%}\")\n",
    "\n",
    "qmodel = compile_brevitas_qat_model(\n",
    "    quant_mnist.to(\"cpu\"),\n",
    "    # Training\n",
    "    torch_inputset=data_calibration,\n",
    "    show_mlir=False,\n",
    "    rounding_threshold_bits=6,\n",
    ")\n",
    "\n",
    "print(f\"Maximum bit-width in the circuit: {qmodel.fhe_circuit.graph.maximum_integer_bit_width()}\\n\")\n",
    "\n",
    "if finetune_model:\n",
    "    assert str(quant_mnist.nb_layers) in param[\"dir\"]\n",
    "    param[\"training\"] = f\"quant_mnist_{bits=}\"\n",
    "    param[\"epochs\"] = 5\n",
    "    param[\"lr\"] = 0.1\n",
    "    param[\"milestones\"] = [1, 3]\n",
    "    param[\"gamma\"] = 0.1\n",
    "\n",
    "    quant_mnist_20 = train(quant_mnist, train_loader, test_loader, param, device=device)\n",
    "\n",
    "path = (\n",
    "    f\"checkpoints/MNIST/NLP_{nb_layers}/quant_mnist_{bits=}/MNIST_quant_mnist_{bits=}_state_dict.pt\"\n",
    ")\n",
    "\n",
    "quant_mnist = QuantMNIST(n_bits=bits, nb_layers=nb_layers).to(device)\n",
    "quant_mnist.load_state_dict(torch.load(path, map_location=device))\n",
    "\n",
    "acc_after_ft_train = torch_inference(quant_mnist, train_loader, device=device)\n",
    "acc_after_ft_test = torch_inference(quant_mnist, test_loader, device=device)\n",
    "\n",
    "print(\n",
    "    f\"With {quant_mnist.n_bits}-bits and {quant_mnist.nb_layers}-nb_layers: \"\n",
    "    f\"{acc_after_ft_train=:.3%} vs {acc_after_ft_test=:.3%}\"\n",
    ")\n",
    "qmodel = compile_brevitas_qat_model(\n",
    "    quant_mnist.to(\"cpu\"),\n",
    "    # Training\n",
    "    torch_inputset=data_calibration,\n",
    "    show_mlir=False,\n",
    "    rounding_threshold_bits=6,\n",
    ")\n",
    "\n",
    "print(f\"Maximum bit-width in the circuit: {qmodel.fhe_circuit.graph.maximum_integer_bit_width()}\\n\")"
   ]
  },
  {
   "cell_type": "code",
   "execution_count": 36,
   "metadata": {},
   "outputs": [
    {
     "name": "stdout",
     "output_type": "stream",
     "text": [
      "With 5-bits and 20-nb_layers: acc_after_ft_train=98.007% vs acc_after_ft_test=97.726%\n",
      "Maximum bit-width in the circuit: 16\n",
      "\n"
     ]
    }
   ],
   "source": [
    "bits, nb_layers = 5, 20\n",
    "\n",
    "path = (\n",
    "    f\"checkpoints/MNIST/NLP_{nb_layers}/quant_mnist_{bits=}/MNIST_quant_mnist_{bits=}_state_dict.pt\"\n",
    ")\n",
    "\n",
    "quant_mnist = QuantMNIST(n_bits=bits, nb_layers=nb_layers).to(device)\n",
    "quant_mnist.load_state_dict(torch.load(path, map_location=device))\n",
    "\n",
    "qmodel = compile_brevitas_qat_model(\n",
    "    quant_mnist.to(\"cpu\"),\n",
    "    torch_inputset=data_calibration,\n",
    "    show_mlir=False,\n",
    "    rounding_threshold_bits=6,\n",
    ")\n",
    "\n",
    "acc_after_ft_train = torch_inference(quant_mnist, train_loader, device=device)\n",
    "acc_after_ft_test = torch_inference(quant_mnist, test_loader, device=device)\n",
    "\n",
    "print(\n",
    "    f\"With {quant_mnist.n_bits}-bits and {quant_mnist.nb_layers}-nb_layers: \"\n",
    "    f\"{acc_after_ft_train=:.3%} vs {acc_after_ft_test=:.3%}\"\n",
    ")\n",
    "\n",
    "print(f\"Maximum bit-width in the circuit: {qmodel.fhe_circuit.graph.maximum_integer_bit_width()}\\n\")"
   ]
  },
  {
   "cell_type": "markdown",
   "metadata": {},
   "source": [
    "## Run benchmark for NN-20"
   ]
  },
  {
   "cell_type": "code",
   "execution_count": 37,
   "metadata": {},
   "outputs": [
    {
     "name": "stdout",
     "output_type": "stream",
     "text": [
      "['checkpoints/MNIST/NLP_20/quant_mnist_bits=4/MNIST_quant_mnist_bits=4_state_dict.pt', 'checkpoints/MNIST/NLP_20/quant_mnist_bits=5/MNIST_quant_mnist_bits=5_state_dict.pt']\n",
      "checkpoints/MNIST/NLP_20/quant_mnist_bits=4/MNIST_quant_mnist_bits=4_state_dict.pt\n"
     ]
    },
    {
     "name": "stderr",
     "output_type": "stream",
     "text": [
      "0it [00:00, ?it/s]"
     ]
    },
    {
     "name": "stdout",
     "output_type": "stream",
     "text": [
      "{'n_bits': 5, 'method': <Exactness.APPROXIMATE: 1>}\n",
      "j=0: max_bits=15 after compilation\n"
     ]
    },
    {
     "name": "stderr",
     "output_type": "stream",
     "text": []
    },
    {
     "ename": "",
     "evalue": "",
     "output_type": "error",
     "traceback": [
      "\u001b[1;31mCanceled future for execute_request message before replies were done"
     ]
    },
    {
     "ename": "",
     "evalue": "",
     "output_type": "error",
     "traceback": [
      "\u001b[1;31mThe Kernel crashed while executing code in the the current cell or a previous cell. Please review the code in the cell(s) to identify a possible cause of the failure. Click <a href='https://aka.ms/vscodeJupyterKernelCrash'>here</a> for more info. View Jupyter <a href='command:jupyter.viewOutput'>log</a> for further details."
     ]
    }
   ],
   "source": [
    "nb_layers = 20\n",
    "\n",
    "fp32_mnist = Fp32MNIST(nb_layers=nb_layers).to(device)\n",
    "\n",
    "checkpoint = torch.load(\n",
    "    f\"checkpoints/MNIST/NLP_{nb_layers}/fp32/MNIST_fp32_state_dict.pt\", map_location=device\n",
    ")\n",
    "fp32_mnist.load_state_dict(checkpoint)\n",
    "\n",
    "from glob import glob\n",
    "\n",
    "state_dicts = glob(f\"checkpoints/MNIST/NLP_{nb_layers}/quant_mnist_bits=*/*_state_dict.pt\")\n",
    "\n",
    "print(state_dicts)\n",
    "for state_dict in state_dicts:\n",
    "\n",
    "    if \"3\" in state_dict:\n",
    "        continue\n",
    "    print(state_dict)\n",
    "\n",
    "    quant_mnist = QuantMNIST(n_bits=bits, nb_layers=nb_layers).to(\"cpu\")\n",
    "    quant_mnist.load_state_dict(torch.load(state_dict, map_location=device))\n",
    "    history = run_benchmark(quant_mnist, \"qat\", data_calibration, test_loader, ptq_bits=None)\n",
    "\n",
    "# for ptq_bits in [3, 4, 5, 6]:\n",
    "\n",
    "#     history = run_benchmark(fp32_mnist, \"ptq\", data_calibration, test_loader, ptq_bits=ptq_bits)"
   ]
  },
  {
   "cell_type": "code",
   "execution_count": 22,
   "metadata": {},
   "outputs": [
    {
     "data": {
      "text/html": [
       "<div>\n",
       "<style scoped>\n",
       "    .dataframe tbody tr th:only-of-type {\n",
       "        vertical-align: middle;\n",
       "    }\n",
       "\n",
       "    .dataframe tbody tr th {\n",
       "        vertical-align: top;\n",
       "    }\n",
       "\n",
       "    .dataframe thead th {\n",
       "        text-align: right;\n",
       "    }\n",
       "</style>\n",
       "<table border=\"1\" class=\"dataframe\">\n",
       "  <thead>\n",
       "    <tr style=\"text-align: right;\">\n",
       "      <th></th>\n",
       "      <th>Compile_type</th>\n",
       "      <th>Number_of_layers</th>\n",
       "      <th>Bits</th>\n",
       "      <th>threshold</th>\n",
       "      <th>max_bits</th>\n",
       "      <th>Mean_FP32_accuracy</th>\n",
       "      <th>Mean_disable_accuracy</th>\n",
       "      <th>Mean_simulate_accuracy</th>\n",
       "      <th>FHE_timing</th>\n",
       "    </tr>\n",
       "  </thead>\n",
       "  <tbody>\n",
       "    <tr>\n",
       "      <th>0</th>\n",
       "      <td>ptq</td>\n",
       "      <td>20</td>\n",
       "      <td>5.0</td>\n",
       "      <td>7</td>\n",
       "      <td>15</td>\n",
       "      <td>0.977564</td>\n",
       "      <td>0.978265</td>\n",
       "      <td>0.976663</td>\n",
       "      <td>5.312609</td>\n",
       "    </tr>\n",
       "    <tr>\n",
       "      <th>1</th>\n",
       "      <td>ptq</td>\n",
       "      <td>20</td>\n",
       "      <td>5.0</td>\n",
       "      <td>6</td>\n",
       "      <td>15</td>\n",
       "      <td>0.977063</td>\n",
       "      <td>0.972456</td>\n",
       "      <td>0.971955</td>\n",
       "      <td>2.695160</td>\n",
       "    </tr>\n",
       "    <tr>\n",
       "      <th>2</th>\n",
       "      <td>ptq</td>\n",
       "      <td>20</td>\n",
       "      <td>5.0</td>\n",
       "      <td>5</td>\n",
       "      <td>15</td>\n",
       "      <td>0.977163</td>\n",
       "      <td>0.907352</td>\n",
       "      <td>0.907352</td>\n",
       "      <td>2.412440</td>\n",
       "    </tr>\n",
       "    <tr>\n",
       "      <th>3</th>\n",
       "      <td>ptq</td>\n",
       "      <td>20</td>\n",
       "      <td>5.0</td>\n",
       "      <td>4</td>\n",
       "      <td>15</td>\n",
       "      <td>0.977564</td>\n",
       "      <td>0.587039</td>\n",
       "      <td>0.568810</td>\n",
       "      <td>2.039992</td>\n",
       "    </tr>\n",
       "    <tr>\n",
       "      <th>4</th>\n",
       "      <td>ptq</td>\n",
       "      <td>20</td>\n",
       "      <td>5.0</td>\n",
       "      <td>Exactness.APPROXIMATE</td>\n",
       "      <td>15</td>\n",
       "      <td>0.976062</td>\n",
       "      <td>0.097456</td>\n",
       "      <td>0.097456</td>\n",
       "      <td>1.925832</td>\n",
       "    </tr>\n",
       "  </tbody>\n",
       "</table>\n",
       "</div>"
      ],
      "text/plain": [
       "  Compile_type  Number_of_layers  Bits              threshold  max_bits  \\\n",
       "0          ptq                20   5.0                      7        15   \n",
       "1          ptq                20   5.0                      6        15   \n",
       "2          ptq                20   5.0                      5        15   \n",
       "3          ptq                20   5.0                      4        15   \n",
       "4          ptq                20   5.0  Exactness.APPROXIMATE        15   \n",
       "\n",
       "   Mean_FP32_accuracy  Mean_disable_accuracy  Mean_simulate_accuracy  \\\n",
       "0            0.977564               0.978265                0.976663   \n",
       "1            0.977063               0.972456                0.971955   \n",
       "2            0.977163               0.907352                0.907352   \n",
       "3            0.977564               0.587039                0.568810   \n",
       "4            0.976062               0.097456                0.097456   \n",
       "\n",
       "   FHE_timing  \n",
       "0    5.312609  \n",
       "1    2.695160  \n",
       "2    2.412440  \n",
       "3    2.039992  \n",
       "4    1.925832  "
      ]
     },
     "execution_count": 22,
     "metadata": {},
     "output_type": "execute_result"
    }
   ],
   "source": [
    "df.head()"
   ]
  },
  {
   "cell_type": "code",
   "execution_count": 56,
   "metadata": {},
   "outputs": [
    {
     "data": {
      "text/html": [
       "<div>\n",
       "<style scoped>\n",
       "    .dataframe tbody tr th:only-of-type {\n",
       "        vertical-align: middle;\n",
       "    }\n",
       "\n",
       "    .dataframe tbody tr th {\n",
       "        vertical-align: top;\n",
       "    }\n",
       "\n",
       "    .dataframe thead th {\n",
       "        text-align: right;\n",
       "    }\n",
       "</style>\n",
       "<table border=\"1\" class=\"dataframe\">\n",
       "  <thead>\n",
       "    <tr style=\"text-align: right;\">\n",
       "      <th></th>\n",
       "      <th>Compile_type</th>\n",
       "      <th>Number_of_layers</th>\n",
       "      <th>Bits</th>\n",
       "      <th>threshold</th>\n",
       "      <th>max_bits</th>\n",
       "      <th>Mean_FP32_accuracy</th>\n",
       "      <th>Mean_disable_accuracy</th>\n",
       "      <th>Mean_simulate_accuracy</th>\n",
       "      <th>FHE_timing</th>\n",
       "    </tr>\n",
       "  </thead>\n",
       "  <tbody>\n",
       "    <tr>\n",
       "      <th>20</th>\n",
       "      <td>qat</td>\n",
       "      <td>20</td>\n",
       "      <td>4.0</td>\n",
       "      <td>4</td>\n",
       "      <td>14</td>\n",
       "      <td>0.957833</td>\n",
       "      <td>0.735477</td>\n",
       "      <td>0.735477</td>\n",
       "      <td>1.269313</td>\n",
       "    </tr>\n",
       "    <tr>\n",
       "      <th>19</th>\n",
       "      <td>qat</td>\n",
       "      <td>20</td>\n",
       "      <td>4.0</td>\n",
       "      <td>5</td>\n",
       "      <td>14</td>\n",
       "      <td>0.961639</td>\n",
       "      <td>0.831230</td>\n",
       "      <td>0.831230</td>\n",
       "      <td>1.385299</td>\n",
       "    </tr>\n",
       "    <tr>\n",
       "      <th>14</th>\n",
       "      <td>ptq</td>\n",
       "      <td>20</td>\n",
       "      <td>5.0</td>\n",
       "      <td>4</td>\n",
       "      <td>15</td>\n",
       "      <td>0.977163</td>\n",
       "      <td>0.703125</td>\n",
       "      <td>0.695613</td>\n",
       "      <td>2.076515</td>\n",
       "    </tr>\n",
       "    <tr>\n",
       "      <th>18</th>\n",
       "      <td>qat</td>\n",
       "      <td>20</td>\n",
       "      <td>4.0</td>\n",
       "      <td>6</td>\n",
       "      <td>14</td>\n",
       "      <td>0.958534</td>\n",
       "      <td>0.969551</td>\n",
       "      <td>0.966046</td>\n",
       "      <td>2.220344</td>\n",
       "    </tr>\n",
       "    <tr>\n",
       "      <th>25</th>\n",
       "      <td>qat</td>\n",
       "      <td>20</td>\n",
       "      <td>5.0</td>\n",
       "      <td>5</td>\n",
       "      <td>16</td>\n",
       "      <td>0.972155</td>\n",
       "      <td>0.895433</td>\n",
       "      <td>0.883313</td>\n",
       "      <td>2.310165</td>\n",
       "    </tr>\n",
       "    <tr>\n",
       "      <th>13</th>\n",
       "      <td>ptq</td>\n",
       "      <td>20</td>\n",
       "      <td>5.0</td>\n",
       "      <td>5</td>\n",
       "      <td>15</td>\n",
       "      <td>0.977163</td>\n",
       "      <td>0.948417</td>\n",
       "      <td>0.948417</td>\n",
       "      <td>2.368403</td>\n",
       "    </tr>\n",
       "    <tr>\n",
       "      <th>7</th>\n",
       "      <td>ptq</td>\n",
       "      <td>20</td>\n",
       "      <td>5.0</td>\n",
       "      <td>5</td>\n",
       "      <td>15</td>\n",
       "      <td>0.977163</td>\n",
       "      <td>0.907352</td>\n",
       "      <td>0.907352</td>\n",
       "      <td>2.393186</td>\n",
       "    </tr>\n",
       "    <tr>\n",
       "      <th>2</th>\n",
       "      <td>ptq</td>\n",
       "      <td>20</td>\n",
       "      <td>5.0</td>\n",
       "      <td>5</td>\n",
       "      <td>15</td>\n",
       "      <td>0.977163</td>\n",
       "      <td>0.907352</td>\n",
       "      <td>0.907352</td>\n",
       "      <td>2.412440</td>\n",
       "    </tr>\n",
       "    <tr>\n",
       "      <th>12</th>\n",
       "      <td>ptq</td>\n",
       "      <td>20</td>\n",
       "      <td>5.0</td>\n",
       "      <td>6</td>\n",
       "      <td>15</td>\n",
       "      <td>0.977364</td>\n",
       "      <td>0.972957</td>\n",
       "      <td>0.972957</td>\n",
       "      <td>2.639031</td>\n",
       "    </tr>\n",
       "    <tr>\n",
       "      <th>6</th>\n",
       "      <td>ptq</td>\n",
       "      <td>20</td>\n",
       "      <td>5.0</td>\n",
       "      <td>6</td>\n",
       "      <td>15</td>\n",
       "      <td>0.977063</td>\n",
       "      <td>0.972456</td>\n",
       "      <td>0.971955</td>\n",
       "      <td>2.675938</td>\n",
       "    </tr>\n",
       "    <tr>\n",
       "      <th>1</th>\n",
       "      <td>ptq</td>\n",
       "      <td>20</td>\n",
       "      <td>5.0</td>\n",
       "      <td>6</td>\n",
       "      <td>15</td>\n",
       "      <td>0.977063</td>\n",
       "      <td>0.972456</td>\n",
       "      <td>0.971955</td>\n",
       "      <td>2.695160</td>\n",
       "    </tr>\n",
       "    <tr>\n",
       "      <th>24</th>\n",
       "      <td>qat</td>\n",
       "      <td>20</td>\n",
       "      <td>5.0</td>\n",
       "      <td>6</td>\n",
       "      <td>16</td>\n",
       "      <td>0.970553</td>\n",
       "      <td>0.966146</td>\n",
       "      <td>0.966046</td>\n",
       "      <td>2.853394</td>\n",
       "    </tr>\n",
       "    <tr>\n",
       "      <th>5</th>\n",
       "      <td>ptq</td>\n",
       "      <td>20</td>\n",
       "      <td>5.0</td>\n",
       "      <td>7</td>\n",
       "      <td>15</td>\n",
       "      <td>0.977564</td>\n",
       "      <td>0.978265</td>\n",
       "      <td>0.976663</td>\n",
       "      <td>4.931353</td>\n",
       "    </tr>\n",
       "    <tr>\n",
       "      <th>11</th>\n",
       "      <td>ptq</td>\n",
       "      <td>20</td>\n",
       "      <td>5.0</td>\n",
       "      <td>7</td>\n",
       "      <td>15</td>\n",
       "      <td>0.978866</td>\n",
       "      <td>0.978365</td>\n",
       "      <td>0.976763</td>\n",
       "      <td>4.994058</td>\n",
       "    </tr>\n",
       "    <tr>\n",
       "      <th>0</th>\n",
       "      <td>ptq</td>\n",
       "      <td>20</td>\n",
       "      <td>5.0</td>\n",
       "      <td>7</td>\n",
       "      <td>15</td>\n",
       "      <td>0.977564</td>\n",
       "      <td>0.978265</td>\n",
       "      <td>0.976663</td>\n",
       "      <td>5.312609</td>\n",
       "    </tr>\n",
       "    <tr>\n",
       "      <th>17</th>\n",
       "      <td>qat</td>\n",
       "      <td>20</td>\n",
       "      <td>4.0</td>\n",
       "      <td>7</td>\n",
       "      <td>14</td>\n",
       "      <td>0.962039</td>\n",
       "      <td>0.971955</td>\n",
       "      <td>0.971955</td>\n",
       "      <td>5.583628</td>\n",
       "    </tr>\n",
       "    <tr>\n",
       "      <th>23</th>\n",
       "      <td>qat</td>\n",
       "      <td>20</td>\n",
       "      <td>5.0</td>\n",
       "      <td>7</td>\n",
       "      <td>16</td>\n",
       "      <td>0.970553</td>\n",
       "      <td>0.975260</td>\n",
       "      <td>0.975160</td>\n",
       "      <td>7.011712</td>\n",
       "    </tr>\n",
       "  </tbody>\n",
       "</table>\n",
       "</div>"
      ],
      "text/plain": [
       "   Compile_type  Number_of_layers  Bits threshold  max_bits  \\\n",
       "20          qat                20   4.0         4        14   \n",
       "19          qat                20   4.0         5        14   \n",
       "14          ptq                20   5.0         4        15   \n",
       "18          qat                20   4.0         6        14   \n",
       "25          qat                20   5.0         5        16   \n",
       "13          ptq                20   5.0         5        15   \n",
       "7           ptq                20   5.0         5        15   \n",
       "2           ptq                20   5.0         5        15   \n",
       "12          ptq                20   5.0         6        15   \n",
       "6           ptq                20   5.0         6        15   \n",
       "1           ptq                20   5.0         6        15   \n",
       "24          qat                20   5.0         6        16   \n",
       "5           ptq                20   5.0         7        15   \n",
       "11          ptq                20   5.0         7        15   \n",
       "0           ptq                20   5.0         7        15   \n",
       "17          qat                20   4.0         7        14   \n",
       "23          qat                20   5.0         7        16   \n",
       "\n",
       "    Mean_FP32_accuracy  Mean_disable_accuracy  Mean_simulate_accuracy  \\\n",
       "20            0.957833               0.735477                0.735477   \n",
       "19            0.961639               0.831230                0.831230   \n",
       "14            0.977163               0.703125                0.695613   \n",
       "18            0.958534               0.969551                0.966046   \n",
       "25            0.972155               0.895433                0.883313   \n",
       "13            0.977163               0.948417                0.948417   \n",
       "7             0.977163               0.907352                0.907352   \n",
       "2             0.977163               0.907352                0.907352   \n",
       "12            0.977364               0.972957                0.972957   \n",
       "6             0.977063               0.972456                0.971955   \n",
       "1             0.977063               0.972456                0.971955   \n",
       "24            0.970553               0.966146                0.966046   \n",
       "5             0.977564               0.978265                0.976663   \n",
       "11            0.978866               0.978365                0.976763   \n",
       "0             0.977564               0.978265                0.976663   \n",
       "17            0.962039               0.971955                0.971955   \n",
       "23            0.970553               0.975260                0.975160   \n",
       "\n",
       "    FHE_timing  \n",
       "20    1.269313  \n",
       "19    1.385299  \n",
       "14    2.076515  \n",
       "18    2.220344  \n",
       "25    2.310165  \n",
       "13    2.368403  \n",
       "7     2.393186  \n",
       "2     2.412440  \n",
       "12    2.639031  \n",
       "6     2.675938  \n",
       "1     2.695160  \n",
       "24    2.853394  \n",
       "5     4.931353  \n",
       "11    4.994058  \n",
       "0     5.312609  \n",
       "17    5.583628  \n",
       "23    7.011712  "
      ]
     },
     "execution_count": 56,
     "metadata": {},
     "output_type": "execute_result"
    }
   ],
   "source": [
    "df = pd.read_csv(\"history_nb_layers=20.csv\")\n",
    "\n",
    "# Apply multiple filters and sort the DataFrame in one go\n",
    "df_sorted = df[\n",
    "    (df[\"FHE_timing\"] != -1)\n",
    "    & (abs(df[\"Mean_disable_accuracy\"] - df[\"Mean_simulate_accuracy\"]) < 0.4)\n",
    "    & (abs(df[\"Mean_FP32_accuracy\"] - df[\"Mean_simulate_accuracy\"]) < 0.3)\n",
    "].sort_values(by=[\"FHE_timing\", \"Mean_simulate_accuracy\"], ascending=[True, False])\n",
    "\n",
    "df_sorted"
   ]
  },
  {
   "cell_type": "code",
   "execution_count": 57,
   "metadata": {},
   "outputs": [
    {
     "data": {
      "text/plain": [
       "(26.530807676353298, 43.576600653800575)"
      ]
     },
     "execution_count": 57,
     "metadata": {},
     "output_type": "execute_result"
    }
   ],
   "source": [
    "233 / 8.782243, 115 / 2.639031\n",
    "\n",
    "traing et composabilité bj 1.2\n",
    "zjouter un pbs av clipping\n",
    "\n",
    "data frame et training "
   ]
  },
  {
   "cell_type": "markdown",
   "metadata": {},
   "source": [
    "## MNIST 50"
   ]
  },
  {
   "cell_type": "code",
   "execution_count": 9,
   "metadata": {},
   "outputs": [],
   "source": [
    "nb_layers = 50\n",
    "bits = 4\n",
    "\n",
    "param[\"dir\"] = f\"./checkpoints/MNIST/NLP_{nb_layers}/\""
   ]
  },
  {
   "cell_type": "code",
   "execution_count": 10,
   "metadata": {},
   "outputs": [
    {
     "name": "stdout",
     "output_type": "stream",
     "text": [
      "With 50-nb_layers: acc_after_ft_train=98.027% vs acc_after_ft_test=96.845%\n"
     ]
    }
   ],
   "source": [
    "# Sanity check\n",
    "checkpoint = torch.load(\n",
    "    f\"checkpoints/MNIST/NLP_{nb_layers}/fp32/MNIST_fp32_state_dict.pt\", map_location=device\n",
    ")\n",
    "\n",
    "fp32_mnist = Fp32MNIST(param[\"output_size\"], nb_layers=nb_layers).to(device)\n",
    "\n",
    "fp32_mnist.load_state_dict(checkpoint)\n",
    "\n",
    "acc_after_ft_train = torch_inference(fp32_mnist, train_loader, device=device)\n",
    "acc_after_ft_test = torch_inference(fp32_mnist, test_loader, device=device)\n",
    "\n",
    "print(\n",
    "    f\"With {fp32_mnist.nb_layers}-nb_layers: \"\n",
    "    f\"{acc_after_ft_train=:.3%} vs {acc_after_ft_test=:.3%}\"\n",
    ")"
   ]
  },
  {
   "cell_type": "code",
   "execution_count": 11,
   "metadata": {},
   "outputs": [
    {
     "name": "stdout",
     "output_type": "stream",
     "text": [
      "checkpoints/MNIST/NLP_50/quant_mnist_bits=4/MNIST_quant_mnist_bits=4_state_dict.pt\n"
     ]
    },
    {
     "data": {
      "text/plain": [
       "(0.9352154482390609, 0.9340945512820513)"
      ]
     },
     "execution_count": 11,
     "metadata": {},
     "output_type": "execute_result"
    }
   ],
   "source": [
    "path = (\n",
    "    f\"checkpoints/MNIST/NLP_{nb_layers}/quant_mnist_{bits=}/MNIST_quant_mnist_{bits=}_state_dict.pt\"\n",
    ")\n",
    "print(path)\n",
    "quant_mnist = QuantMNIST(bit=bits, nb_layers=nb_layers).to(\"cpu\")\n",
    "quant_mnist.load_state_dict(torch.load(path, map_location=device))\n",
    "\n",
    "torch_inference(quant_mnist, train_loader, device=device), torch_inference(\n",
    "    quant_mnist, test_loader, device=device\n",
    ")"
   ]
  },
  {
   "cell_type": "code",
   "execution_count": null,
   "metadata": {},
   "outputs": [],
   "source": [
    "for bits in [4]:  # 3\n",
    "\n",
    "    nb_layers = 50\n",
    "    param[\"dir\"] = f\"./checkpoints/MNIST/NLP_{nb_layers}/\"\n",
    "    checkpoint = torch.load(\n",
    "        f\"checkpoints/MNIST/NLP_{nb_layers}/fp32/MNIST_fp32_state_dict.pt\", map_location=device\n",
    "    )\n",
    "    fp32_mnist = Fp32MNIST(param[\"output_size\"], nb_layers=nb_layers).to(device)\n",
    "    fp32_mnist.load_state_dict(checkpoint)\n",
    "\n",
    "    path = f\"checkpoints/MNIST/NLP_{nb_layers}/quant_mnist_{bits=}/MNIST_quant_mnist_{bits=}_state_dict.pt\"\n",
    "    quant_mnist = QuantMNIST(bit=bits, nb_layers=nb_layers).to(\"cpu\")\n",
    "    quant_mnist.load_state_dict(torch.load(path, map_location=device))\n",
    "    _ = run(fp32_mnist, quant_mnist, \"ptq\", data_calibration, test_loader, bits=bits)\n",
    "\n",
    "_ = run(fp32_mnist, quant_mnist, \"qat\", data_calibration, test_loader, bits=None)"
   ]
  },
  {
   "cell_type": "code",
   "execution_count": 9,
   "metadata": {},
   "outputs": [
    {
     "name": "stdout",
     "output_type": "stream",
     "text": [
      "nb_layers=50, bits=4, compile_type='qat', compile_function=<function compile_brevitas_qat_model at 0x7fbb7f5ea3b0>\n"
     ]
    },
    {
     "name": "stderr",
     "output_type": "stream",
     "text": [
      "0it [00:00, ?it/s]"
     ]
    },
    {
     "name": "stdout",
     "output_type": "stream",
     "text": [
      "j=0: max_bits=14\n"
     ]
    },
    {
     "name": "stderr",
     "output_type": "stream",
     "text": [
      "156it [21:12,  8.15s/it]\n",
      "1it [21:30, 1290.11s/it]"
     ]
    },
    {
     "name": "stdout",
     "output_type": "stream",
     "text": [
      "j=0: row=['qat', 50, 4, 7, 14, 0.8818108974358975, 0.9388020833333334, 0.9388020833333334, 14.862058889865875]\n",
      "j=1: max_bits=14\n"
     ]
    },
    {
     "name": "stderr",
     "output_type": "stream",
     "text": [
      "156it [10:58,  4.22s/it]\n",
      "2it [32:44, 928.08s/it] "
     ]
    },
    {
     "name": "stdout",
     "output_type": "stream",
     "text": [
      "j=1: row=['qat', 50, 4, 6, 14, 0.8908253205128205, 0.9111578525641025, 0.9111578525641025, 4.996004994710287]\n",
      "j=2: max_bits=15\n"
     ]
    },
    {
     "name": "stderr",
     "output_type": "stream",
     "text": [
      "156it [08:55,  3.44s/it]\n",
      "3it [41:56, 756.44s/it]"
     ]
    },
    {
     "name": "stdout",
     "output_type": "stream",
     "text": [
      "j=2: row=['qat', 50, 4, 5, 15, 0.8833133012820513, 0.8971354166666666, 0.8971354166666666, 3.0782105763753256]\n",
      "j=3: max_bits=14\n"
     ]
    },
    {
     "name": "stderr",
     "output_type": "stream",
     "text": [
      "156it [08:28,  3.26s/it]\n",
      "4it [50:39, 664.23s/it]"
     ]
    },
    {
     "name": "stdout",
     "output_type": "stream",
     "text": [
      "j=3: row=['qat', 50, 4, 4, 14, 0.8880208333333334, 0.29767628205128205, 0.29767628205128205, 2.6694800734519957]\n",
      "x.bit_width=10 > lsbs_to_remove=11\n"
     ]
    },
    {
     "name": "stderr",
     "output_type": "stream",
     "text": [
      "5it [50:51, 428.93s/it]"
     ]
    },
    {
     "name": "stdout",
     "output_type": "stream",
     "text": [
      "j=4: row=['qat', 50, 4, <Exactness.APPROXIMATE: 1>, -1, -1, -1, -1, -1]\n",
      "x.bit_width=10 > lsbs_to_remove=12\n"
     ]
    },
    {
     "name": "stderr",
     "output_type": "stream",
     "text": [
      "6it [51:03, 510.54s/it]\n"
     ]
    },
    {
     "name": "stdout",
     "output_type": "stream",
     "text": [
      "j=5: row=['qat', 50, 4, <Exactness.EXACT: 0>, -1, -1, -1, -1, -1]\n",
      "nb_layers=50, bits=3, compile_type='ptq', compile_function=<function compile_torch_model at 0x7fbb7f5ea290>\n"
     ]
    },
    {
     "name": "stderr",
     "output_type": "stream",
     "text": [
      "0it [00:00, ?it/s]"
     ]
    },
    {
     "name": "stdout",
     "output_type": "stream",
     "text": [
      "j=0: max_bits=11\n"
     ]
    },
    {
     "name": "stderr",
     "output_type": "stream",
     "text": [
      "156it [12:15,  4.72s/it]\n",
      "1it [12:29, 749.86s/it]"
     ]
    },
    {
     "name": "stdout",
     "output_type": "stream",
     "text": [
      "j=0: row=['ptq', 50, 3, 7, 11, 0.9684495192307693, 0.08944310897435898, 0.08914262820512821, 7.475684559345245]\n",
      "j=1: max_bits=11\n"
     ]
    },
    {
     "name": "stderr",
     "output_type": "stream",
     "text": [
      "156it [08:10,  3.14s/it]\n",
      "2it [20:53, 604.77s/it]"
     ]
    },
    {
     "name": "stdout",
     "output_type": "stream",
     "text": [
      "j=1: row=['ptq', 50, 3, 6, 11, 0.9659455128205128, 0.14753605769230768, 0.14703525641025642, 3.316960330804189]\n",
      "j=2: max_bits=11\n"
     ]
    },
    {
     "name": "stderr",
     "output_type": "stream",
     "text": [
      "156it [06:34,  2.53s/it]\n",
      "3it [27:40, 514.56s/it]"
     ]
    },
    {
     "name": "stdout",
     "output_type": "stream",
     "text": [
      "j=2: row=['ptq', 50, 3, 5, 11, 0.9667467948717948, 0.10176282051282051, 0.10166266025641026, 1.82840656042099]\n",
      "j=3: max_bits=11\n"
     ]
    },
    {
     "name": "stderr",
     "output_type": "stream",
     "text": [
      "156it [06:20,  2.44s/it]\n",
      "4it [34:13, 466.75s/it]"
     ]
    },
    {
     "name": "stdout",
     "output_type": "stream",
     "text": [
      "j=3: row=['ptq', 50, 3, 4, 11, 0.9654447115384616, 0.1282051282051282, 0.12830528846153846, 1.4176392356554668]\n",
      "j=4: max_bits=10\n"
     ]
    },
    {
     "name": "stderr",
     "output_type": "stream",
     "text": [
      "156it [06:20,  2.44s/it]\n",
      "5it [40:47, 440.55s/it]"
     ]
    },
    {
     "name": "stdout",
     "output_type": "stream",
     "text": [
      "j=4: row=['ptq', 50, 3, <Exactness.APPROXIMATE: 1>, 10, 0.9685496794871795, 0.09815705128205128, 0.09815705128205128, 1.5415482838948569]\n",
      "x.bit_width=7 > lsbs_to_remove=7\n"
     ]
    },
    {
     "name": "stderr",
     "output_type": "stream",
     "text": [
      "6it [40:56, 409.39s/it]"
     ]
    },
    {
     "name": "stdout",
     "output_type": "stream",
     "text": [
      "j=5: row=['ptq', 50, 3, <Exactness.EXACT: 0>, -1, -1, -1, -1, -1]\n"
     ]
    },
    {
     "name": "stderr",
     "output_type": "stream",
     "text": [
      "\n"
     ]
    }
   ],
   "source": [
    "for bits in [4]:  # 3\n",
    "\n",
    "    nb_layers = 50\n",
    "    param[\"dir\"] = f\"./checkpoints/MNIST/NLP_{nb_layers}/\"\n",
    "    checkpoint = torch.load(\n",
    "        f\"checkpoints/MNIST/NLP_{nb_layers}/fp32/MNIST_fp32_state_dict.pt\", map_location=device\n",
    "    )\n",
    "    fp32_mnist = Fp32MNIST(param[\"output_size\"], nb_layers=nb_layers).to(device)\n",
    "    fp32_mnist.load_state_dict(checkpoint)\n",
    "\n",
    "    path = f\"checkpoints/MNIST/NLP_{nb_layers}/quant_mnist_{bits=}/MNIST_quant_mnist_{bits=}_state_dict.pt\"\n",
    "    quant_mnist = QuantMNIST(bit=bits, nb_layers=nb_layers).to(\"cpu\")\n",
    "    quant_mnist.load_state_dict(torch.load(path, map_location=device))\n",
    "\n",
    "    history = run(fp32_mnist, quant_mnist, \"qat\", data_calibration, test_loader, bits=None)\n",
    "\n",
    "    history = run(fp32_mnist, quant_mnist, \"ptq\", data_calibration, test_loader, bits=3)"
   ]
  },
  {
   "cell_type": "code",
   "execution_count": 10,
   "metadata": {},
   "outputs": [
    {
     "name": "stdout",
     "output_type": "stream",
     "text": [
      "nb_layers=50, bits=4, compile_type='qat', compile_function=<function compile_brevitas_qat_model at 0x7fbb7f5ea3b0>\n"
     ]
    },
    {
     "name": "stderr",
     "output_type": "stream",
     "text": [
      "0it [00:00, ?it/s]"
     ]
    },
    {
     "name": "stdout",
     "output_type": "stream",
     "text": [
      "j=0: max_bits=14\n"
     ]
    },
    {
     "name": "stderr",
     "output_type": "stream",
     "text": [
      "156it [20:51,  8.02s/it]\n",
      "1it [21:09, 1269.43s/it]"
     ]
    },
    {
     "name": "stdout",
     "output_type": "stream",
     "text": [
      "j=0: row=['qat', 50, 4, 7, 14, 0.8887219551282052, 0.9387019230769231, 0.9387019230769231, 14.696718458334605]\n",
      "j=1: max_bits=14\n"
     ]
    },
    {
     "name": "stderr",
     "output_type": "stream",
     "text": [
      "156it [10:44,  4.13s/it]\n",
      "2it [32:10, 911.49s/it] "
     ]
    },
    {
     "name": "stdout",
     "output_type": "stream",
     "text": [
      "j=1: row=['qat', 50, 4, 6, 14, 0.8874198717948718, 0.8811097756410257, 0.8751001602564102, 4.802688153584798]\n",
      "j=2: max_bits=14\n"
     ]
    },
    {
     "name": "stderr",
     "output_type": "stream",
     "text": [
      "156it [09:03,  3.48s/it]\n",
      "3it [41:30, 751.10s/it]"
     ]
    },
    {
     "name": "stdout",
     "output_type": "stream",
     "text": [
      "j=2: row=['qat', 50, 4, 5, 14, 0.8928285256410257, 0.8090945512820513, 0.8090945512820513, 3.194890900452932]\n",
      "j=3: max_bits=14\n"
     ]
    },
    {
     "name": "stderr",
     "output_type": "stream",
     "text": [
      "156it [08:34,  3.30s/it]\n",
      "4it [50:23, 664.84s/it]"
     ]
    },
    {
     "name": "stdout",
     "output_type": "stream",
     "text": [
      "j=3: row=['qat', 50, 4, 4, 14, 0.8902243589743589, 0.27333733974358976, 0.25951522435897434, 2.738588531812032]\n",
      "x.bit_width=10 > lsbs_to_remove=11\n"
     ]
    },
    {
     "name": "stderr",
     "output_type": "stream",
     "text": [
      "5it [50:35, 429.47s/it]"
     ]
    },
    {
     "name": "stdout",
     "output_type": "stream",
     "text": [
      "j=4: row=['qat', 50, 4, <Exactness.APPROXIMATE: 1>, -1, -1, -1, -1, -1]\n",
      "x.bit_width=10 > lsbs_to_remove=12\n"
     ]
    },
    {
     "name": "stderr",
     "output_type": "stream",
     "text": [
      "6it [50:47, 507.89s/it]\n"
     ]
    },
    {
     "name": "stdout",
     "output_type": "stream",
     "text": [
      "j=5: row=['qat', 50, 4, <Exactness.EXACT: 0>, -1, -1, -1, -1, -1]\n",
      "nb_layers=50, bits=5, compile_type='ptq', compile_function=<function compile_torch_model at 0x7fbb7f5ea290>\n"
     ]
    },
    {
     "name": "stderr",
     "output_type": "stream",
     "text": [
      "0it [00:00, ?it/s]"
     ]
    },
    {
     "name": "stdout",
     "output_type": "stream",
     "text": [
      "j=0: max_bits=15\n"
     ]
    },
    {
     "name": "stderr",
     "output_type": "stream",
     "text": [
      "156it [13:39,  5.26s/it]\n",
      "1it [13:54, 834.78s/it]"
     ]
    },
    {
     "name": "stdout",
     "output_type": "stream",
     "text": [
      "j=0: row=['ptq', 50, 5, 7, 15, 0.969551282051282, 0.9380008012820513, 0.9354967948717948, 8.782243152459463]\n",
      "j=1: max_bits=15\n"
     ]
    },
    {
     "name": "stderr",
     "output_type": "stream",
     "text": [
      "156it [13:24,  5.16s/it]\n",
      "2it [27:34, 825.70s/it]"
     ]
    },
    {
     "name": "stdout",
     "output_type": "stream",
     "text": [
      "j=1: row=['ptq', 50, 5, 6, 15, 0.9636418269230769, 0.9043469551282052, 0.9039463141025641, 8.528247785568237]\n",
      "j=2: max_bits=15\n"
     ]
    },
    {
     "name": "stderr",
     "output_type": "stream",
     "text": [
      "156it [09:20,  3.59s/it]\n",
      "3it [37:07, 710.30s/it]"
     ]
    },
    {
     "name": "stdout",
     "output_type": "stream",
     "text": [
      "j=2: row=['ptq', 50, 5, 5, 15, 0.967948717948718, 0.3075921474358974, 0.3075921474358974, 4.473695894082387]\n",
      "j=3: max_bits=15\n"
     ]
    },
    {
     "name": "stderr",
     "output_type": "stream",
     "text": [
      "156it [08:50,  3.40s/it]\n",
      "4it [46:12, 645.01s/it]"
     ]
    },
    {
     "name": "stdout",
     "output_type": "stream",
     "text": [
      "j=3: row=['ptq', 50, 5, 4, 15, 0.9688501602564102, 0.17908653846153846, 0.1711738782051282, 3.9235528707504272]\n",
      "j=4: max_bits=15\n"
     ]
    },
    {
     "name": "stderr",
     "output_type": "stream",
     "text": [
      "156it [08:42,  3.35s/it]\n",
      "5it [55:07, 605.35s/it]"
     ]
    },
    {
     "name": "stdout",
     "output_type": "stream",
     "text": [
      "j=4: row=['ptq', 50, 5, <Exactness.APPROXIMATE: 1>, 15, 0.9677483974358975, 0.09825721153846154, 0.09825721153846154, 3.812394960721334]\n",
      "j=5: max_bits=13\n"
     ]
    },
    {
     "name": "stderr",
     "output_type": "stream",
     "text": [
      "156it [08:59,  3.46s/it]\n",
      "6it [1:04:20, 643.38s/it]"
     ]
    },
    {
     "name": "stdout",
     "output_type": "stream",
     "text": [
      "j=5: row=['ptq', 50, 5, <Exactness.EXACT: 0>, 13, 0.9669471153846154, 0.08914262820512821, 0.08914262820512821, 4.108425911267599]\n"
     ]
    },
    {
     "name": "stderr",
     "output_type": "stream",
     "text": [
      "\n"
     ]
    }
   ],
   "source": [
    "for bits in [4]:  # 3\n",
    "\n",
    "    nb_layers = 50\n",
    "    param[\"dir\"] = f\"./checkpoints/MNIST/NLP_{nb_layers}/\"\n",
    "    checkpoint = torch.load(\n",
    "        f\"checkpoints/MNIST/NLP_{nb_layers}/fp32/MNIST_fp32_state_dict.pt\", map_location=device\n",
    "    )\n",
    "    fp32_mnist = Fp32MNIST(param[\"output_size\"], nb_layers=nb_layers).to(device)\n",
    "    fp32_mnist.load_state_dict(checkpoint)\n",
    "\n",
    "    path = f\"checkpoints/MNIST/NLP_{nb_layers}/quant_mnist_{bits=}/MNIST_quant_mnist_{bits=}_state_dict.pt\"\n",
    "    quant_mnist = QuantMNIST(bit=bits, nb_layers=nb_layers).to(\"cpu\")\n",
    "    quant_mnist.load_state_dict(torch.load(path, map_location=device))\n",
    "\n",
    "    history = run(fp32_mnist, quant_mnist, \"qat\", data_calibration, test_loader, bits=None)\n",
    "\n",
    "    history = run(fp32_mnist, quant_mnist, \"ptq\", data_calibration, test_loader, bits=5)"
   ]
  },
  {
   "cell_type": "code",
   "execution_count": 12,
   "metadata": {},
   "outputs": [
    {
     "name": "stderr",
     "output_type": "stream",
     "text": [
      "0it [00:00, ?it/s]"
     ]
    },
    {
     "name": "stdout",
     "output_type": "stream",
     "text": [
      "j=0: max_bits=14\n"
     ]
    },
    {
     "name": "stderr",
     "output_type": "stream",
     "text": []
    }
   ],
   "source": [
    "run(fp32_mnist, quant_mnist, \"qat\", data_calibration, test_loader, bits=None)"
   ]
  },
  {
   "cell_type": "code",
   "execution_count": 33,
   "metadata": {},
   "outputs": [],
   "source": [
    "for n, p in list(fp32_mnist.named_parameters())[:-1]:\n",
    "    p.requires_grad = False"
   ]
  },
  {
   "cell_type": "code",
   "execution_count": 35,
   "metadata": {},
   "outputs": [
    {
     "name": "stdout",
     "output_type": "stream",
     "text": [
      "cuda\n",
      "Epoch  0: Train loss = 0.4400 VS Test loss = 0.6064 - Accuracy train: 0.8924 VS Accuracy test: 0.8232\n",
      "Epoch  1: Train loss = 0.4486 VS Test loss = 0.6250 - Accuracy train: 0.8914 VS Accuracy test: 0.7844\n",
      "Epoch  2: Train loss = 0.4293 VS Test loss = 0.6240 - Accuracy train: 0.8962 VS Accuracy test: 0.7443\n",
      " 30%|███       | 3/10 [05:24<12:37, 108.27s/it]\n"
     ]
    },
    {
     "ename": "KeyboardInterrupt",
     "evalue": "",
     "output_type": "error",
     "traceback": [
      "\u001b[0;31m---------------------------------------------------------------------------\u001b[0m",
      "\u001b[0;31mKeyboardInterrupt\u001b[0m                         Traceback (most recent call last)",
      "Cell \u001b[0;32mIn[35], line 10\u001b[0m\n\u001b[1;32m      7\u001b[0m param[\u001b[38;5;124m\"\u001b[39m\u001b[38;5;124mmilestones\u001b[39m\u001b[38;5;124m\"\u001b[39m] \u001b[38;5;241m=\u001b[39m []\n\u001b[1;32m      8\u001b[0m param[\u001b[38;5;124m\"\u001b[39m\u001b[38;5;124mgamma\u001b[39m\u001b[38;5;124m\"\u001b[39m] \u001b[38;5;241m=\u001b[39m \u001b[38;5;241m0.1\u001b[39m\n\u001b[0;32m---> 10\u001b[0m quant_mnist \u001b[38;5;241m=\u001b[39m \u001b[43mtrain\u001b[49m\u001b[43m(\u001b[49m\u001b[43mquant_mnist\u001b[49m\u001b[38;5;241;43m.\u001b[39;49m\u001b[43mto\u001b[49m\u001b[43m(\u001b[49m\u001b[43mdevice\u001b[49m\u001b[43m)\u001b[49m\u001b[43m,\u001b[49m\u001b[43m \u001b[49m\u001b[43mtrain_loader\u001b[49m\u001b[43m,\u001b[49m\u001b[43m \u001b[49m\u001b[43mtest_loader\u001b[49m\u001b[43m,\u001b[49m\u001b[43m \u001b[49m\u001b[43mparam\u001b[49m\u001b[43m,\u001b[49m\u001b[43m \u001b[49m\u001b[43mdevice\u001b[49m\u001b[38;5;241;43m=\u001b[39;49m\u001b[43mdevice\u001b[49m\u001b[43m)\u001b[49m\n",
      "File \u001b[0;32m~/Desktop/Zama/concrete-internal/use_case_examples/cifar/cifar_brevitas_finetuning/cifar_utils.py:414\u001b[0m, in \u001b[0;36mtrain\u001b[0;34m(model, train_loader, test_loader, param, step, device)\u001b[0m\n\u001b[1;32m    412\u001b[0m \u001b[39mfor\u001b[39;00m x, y \u001b[39min\u001b[39;00m test_loader:\n\u001b[1;32m    413\u001b[0m     x, y \u001b[39m=\u001b[39m x\u001b[39m.\u001b[39mto(device), y\u001b[39m.\u001b[39mto(device)\n\u001b[0;32m--> 414\u001b[0m     yhat \u001b[39m=\u001b[39m model(x)\n\u001b[1;32m    415\u001b[0m     loss_test \u001b[39m=\u001b[39m param[\u001b[39m\"\u001b[39m\u001b[39mcriterion\u001b[39m\u001b[39m\"\u001b[39m](yhat, y)\n\u001b[1;32m    416\u001b[0m     loss_batch_test\u001b[39m.\u001b[39mappend(loss_test\u001b[39m.\u001b[39mitem())\n",
      "File \u001b[0;32m~/Desktop/Zama/concrete-internal/.venv/lib/python3.10/site-packages/torch/nn/modules/module.py:1194\u001b[0m, in \u001b[0;36mModule._call_impl\u001b[0;34m(self, *input, **kwargs)\u001b[0m\n\u001b[1;32m   1190\u001b[0m \u001b[39m# If we don't have any hooks, we want to skip the rest of the logic in\u001b[39;00m\n\u001b[1;32m   1191\u001b[0m \u001b[39m# this function, and just call forward.\u001b[39;00m\n\u001b[1;32m   1192\u001b[0m \u001b[39mif\u001b[39;00m \u001b[39mnot\u001b[39;00m (\u001b[39mself\u001b[39m\u001b[39m.\u001b[39m_backward_hooks \u001b[39mor\u001b[39;00m \u001b[39mself\u001b[39m\u001b[39m.\u001b[39m_forward_hooks \u001b[39mor\u001b[39;00m \u001b[39mself\u001b[39m\u001b[39m.\u001b[39m_forward_pre_hooks \u001b[39mor\u001b[39;00m _global_backward_hooks\n\u001b[1;32m   1193\u001b[0m         \u001b[39mor\u001b[39;00m _global_forward_hooks \u001b[39mor\u001b[39;00m _global_forward_pre_hooks):\n\u001b[0;32m-> 1194\u001b[0m     \u001b[39mreturn\u001b[39;00m forward_call(\u001b[39m*\u001b[39;49m\u001b[39minput\u001b[39;49m, \u001b[39m*\u001b[39;49m\u001b[39m*\u001b[39;49mkwargs)\n\u001b[1;32m   1195\u001b[0m \u001b[39m# Do not call functions when jit is used\u001b[39;00m\n\u001b[1;32m   1196\u001b[0m full_backward_hooks, non_full_backward_hooks \u001b[39m=\u001b[39m [], []\n",
      "Cell \u001b[0;32mIn[5], line 75\u001b[0m, in \u001b[0;36mQuantMNIST.forward\u001b[0;34m(self, x)\u001b[0m\n\u001b[1;32m     73\u001b[0m x \u001b[38;5;241m=\u001b[39m torch\u001b[38;5;241m.\u001b[39mflatten(x, \u001b[38;5;241m1\u001b[39m)\n\u001b[1;32m     74\u001b[0m x \u001b[38;5;241m=\u001b[39m \u001b[38;5;28mself\u001b[39m\u001b[38;5;241m.\u001b[39midentity2(x)\n\u001b[0;32m---> 75\u001b[0m x \u001b[38;5;241m=\u001b[39m \u001b[38;5;28;43mself\u001b[39;49m\u001b[38;5;241;43m.\u001b[39;49m\u001b[43mlinears\u001b[49m\u001b[43m(\u001b[49m\u001b[43mx\u001b[49m\u001b[43m)\u001b[49m\n\u001b[1;32m     76\u001b[0m \u001b[38;5;28;01mreturn\u001b[39;00m x\u001b[38;5;241m.\u001b[39mvalue\n",
      "File \u001b[0;32m~/Desktop/Zama/concrete-internal/.venv/lib/python3.10/site-packages/torch/nn/modules/module.py:1194\u001b[0m, in \u001b[0;36mModule._call_impl\u001b[0;34m(self, *input, **kwargs)\u001b[0m\n\u001b[1;32m   1190\u001b[0m \u001b[39m# If we don't have any hooks, we want to skip the rest of the logic in\u001b[39;00m\n\u001b[1;32m   1191\u001b[0m \u001b[39m# this function, and just call forward.\u001b[39;00m\n\u001b[1;32m   1192\u001b[0m \u001b[39mif\u001b[39;00m \u001b[39mnot\u001b[39;00m (\u001b[39mself\u001b[39m\u001b[39m.\u001b[39m_backward_hooks \u001b[39mor\u001b[39;00m \u001b[39mself\u001b[39m\u001b[39m.\u001b[39m_forward_hooks \u001b[39mor\u001b[39;00m \u001b[39mself\u001b[39m\u001b[39m.\u001b[39m_forward_pre_hooks \u001b[39mor\u001b[39;00m _global_backward_hooks\n\u001b[1;32m   1193\u001b[0m         \u001b[39mor\u001b[39;00m _global_forward_hooks \u001b[39mor\u001b[39;00m _global_forward_pre_hooks):\n\u001b[0;32m-> 1194\u001b[0m     \u001b[39mreturn\u001b[39;00m forward_call(\u001b[39m*\u001b[39;49m\u001b[39minput\u001b[39;49m, \u001b[39m*\u001b[39;49m\u001b[39m*\u001b[39;49mkwargs)\n\u001b[1;32m   1195\u001b[0m \u001b[39m# Do not call functions when jit is used\u001b[39;00m\n\u001b[1;32m   1196\u001b[0m full_backward_hooks, non_full_backward_hooks \u001b[39m=\u001b[39m [], []\n",
      "File \u001b[0;32m~/Desktop/Zama/concrete-internal/.venv/lib/python3.10/site-packages/torch/nn/modules/container.py:204\u001b[0m, in \u001b[0;36mSequential.forward\u001b[0;34m(self, input)\u001b[0m\n\u001b[1;32m    202\u001b[0m \u001b[39mdef\u001b[39;00m \u001b[39mforward\u001b[39m(\u001b[39mself\u001b[39m, \u001b[39minput\u001b[39m):\n\u001b[1;32m    203\u001b[0m     \u001b[39mfor\u001b[39;00m module \u001b[39min\u001b[39;00m \u001b[39mself\u001b[39m:\n\u001b[0;32m--> 204\u001b[0m         \u001b[39minput\u001b[39m \u001b[39m=\u001b[39m module(\u001b[39minput\u001b[39;49m)\n\u001b[1;32m    205\u001b[0m     \u001b[39mreturn\u001b[39;00m \u001b[39minput\u001b[39m\n",
      "File \u001b[0;32m~/Desktop/Zama/concrete-internal/.venv/lib/python3.10/site-packages/torch/nn/modules/module.py:1194\u001b[0m, in \u001b[0;36mModule._call_impl\u001b[0;34m(self, *input, **kwargs)\u001b[0m\n\u001b[1;32m   1190\u001b[0m \u001b[39m# If we don't have any hooks, we want to skip the rest of the logic in\u001b[39;00m\n\u001b[1;32m   1191\u001b[0m \u001b[39m# this function, and just call forward.\u001b[39;00m\n\u001b[1;32m   1192\u001b[0m \u001b[39mif\u001b[39;00m \u001b[39mnot\u001b[39;00m (\u001b[39mself\u001b[39m\u001b[39m.\u001b[39m_backward_hooks \u001b[39mor\u001b[39;00m \u001b[39mself\u001b[39m\u001b[39m.\u001b[39m_forward_hooks \u001b[39mor\u001b[39;00m \u001b[39mself\u001b[39m\u001b[39m.\u001b[39m_forward_pre_hooks \u001b[39mor\u001b[39;00m _global_backward_hooks\n\u001b[1;32m   1193\u001b[0m         \u001b[39mor\u001b[39;00m _global_forward_hooks \u001b[39mor\u001b[39;00m _global_forward_pre_hooks):\n\u001b[0;32m-> 1194\u001b[0m     \u001b[39mreturn\u001b[39;00m forward_call(\u001b[39m*\u001b[39;49m\u001b[39minput\u001b[39;49m, \u001b[39m*\u001b[39;49m\u001b[39m*\u001b[39;49mkwargs)\n\u001b[1;32m   1195\u001b[0m \u001b[39m# Do not call functions when jit is used\u001b[39;00m\n\u001b[1;32m   1196\u001b[0m full_backward_hooks, non_full_backward_hooks \u001b[39m=\u001b[39m [], []\n",
      "File \u001b[0;32m~/Desktop/Zama/concrete-internal/.venv/lib/python3.10/site-packages/torch/nn/modules/batchnorm.py:143\u001b[0m, in \u001b[0;36m_BatchNorm.forward\u001b[0;34m(self, input)\u001b[0m\n\u001b[1;32m    138\u001b[0m \u001b[39mself\u001b[39m\u001b[39m.\u001b[39m_check_input_dim(\u001b[39minput\u001b[39m)\n\u001b[1;32m    140\u001b[0m \u001b[39m# exponential_average_factor is set to self.momentum\u001b[39;00m\n\u001b[1;32m    141\u001b[0m \u001b[39m# (when it is available) only so that it gets updated\u001b[39;00m\n\u001b[1;32m    142\u001b[0m \u001b[39m# in ONNX graph when this node is exported to ONNX.\u001b[39;00m\n\u001b[0;32m--> 143\u001b[0m \u001b[39mif\u001b[39;00m \u001b[39mself\u001b[39m\u001b[39m.\u001b[39mmomentum \u001b[39mis\u001b[39;00m \u001b[39mNone\u001b[39;00m:\n\u001b[1;32m    144\u001b[0m     exponential_average_factor \u001b[39m=\u001b[39m \u001b[39m0.0\u001b[39m\n\u001b[1;32m    145\u001b[0m \u001b[39melse\u001b[39;00m:\n",
      "\u001b[0;31mKeyboardInterrupt\u001b[0m: "
     ]
    }
   ],
   "source": [
    "device = \"cuda\" if torch.cuda.is_available() else \"cpu\"\n",
    "print(device)\n",
    "if run:\n",
    "    param[\"training\"] = f\"quant_mnist_{bits=}\"\n",
    "    param[\"epochs\"] = 30\n",
    "    param[\"lr\"] = 0.1\n",
    "    param[\"milestones\"] = [3, 5, 10, 20]\n",
    "    param[\"gamma\"] = 0.1\n",
    "\n",
    "    quant_mnist = train(quant_mnist.to(device), train_loader, test_loader, param, device=device)"
   ]
  },
  {
   "cell_type": "code",
   "execution_count": 24,
   "metadata": {},
   "outputs": [
    {
     "data": {
      "text/plain": [
       "0.09705528846153846"
      ]
     },
     "execution_count": 24,
     "metadata": {},
     "output_type": "execute_result"
    }
   ],
   "source": [
    "quant_mnist = QuantMNIST(bit=bits, nb_layers=nb_layers).to(\"cpu\")\n",
    "\n",
    "quant_mnist = mapping_keys(checkpoint, quant_mnist, device=\"cpu\")\n",
    "acc_before_ft = torch_inference(quant_mnist, test_loader, device=device)\n",
    "\n",
    "acc_before_ft"
   ]
  },
  {
   "cell_type": "code",
   "execution_count": 18,
   "metadata": {},
   "outputs": [
    {
     "name": "stdout",
     "output_type": "stream",
     "text": [
      "checkpoints/MNIST/NLP_50/quant_mnist_bits=4/MNIST_quant_mnist_bits=4_state_dict.pt\n",
      "With 4-bits and 50-nb_layers: acc_after_ft_train=73.681% vs acc_after_ft_test=73.578%\n",
      "Maximum bit-width in the circuit: 14\n",
      "\n"
     ]
    }
   ],
   "source": [
    "path = (\n",
    "    f\"checkpoints/MNIST/NLP_{nb_layers}/quant_mnist_{bits=}/MNIST_quant_mnist_{bits=}_state_dict.pt\"\n",
    ")\n",
    "print(path)\n",
    "quant_mnist = QuantMNIST(bit=bits, nb_layers=nb_layers).to(\"cpu\")\n",
    "quant_mnist.load_state_dict(torch.load(path, map_location=device))\n",
    "\n",
    "acc_after_ft_train = torch_inference(quant_mnist, train_loader, device=device)\n",
    "acc_after_ft_test = torch_inference(quant_mnist, test_loader, device=device)\n",
    "\n",
    "print(\n",
    "    f\"With {quant_mnist.bit}-bits and {quant_mnist.nb_layers}-nb_layers: \"\n",
    "    f\"{acc_after_ft_train=:.3%} vs {acc_after_ft_test=:.3%}\"\n",
    ")\n",
    "\n",
    "qmodel = fhe_compatibility(quant_mnist, data_calibration, rounding_threshold_bits=bits)\n",
    "print(f\"Maximum bit-width in the circuit: {qmodel.fhe_circuit.graph.maximum_integer_bit_width()}\\n\")"
   ]
  },
  {
   "cell_type": "code",
   "execution_count": 17,
   "metadata": {},
   "outputs": [
    {
     "name": "stdout",
     "output_type": "stream",
     "text": [
      "Epoch  0: Train loss = 0.4610 VS Test loss = 0.6144 - Accuracy train: 0.8876 VS Accuracy test: 0.7494\n",
      "Epoch  1: Train loss = 0.4565 VS Test loss = 0.5531 - Accuracy train: 0.8889 VS Accuracy test: 0.8294\n",
      "Epoch  2: Train loss = 0.4495 VS Test loss = 0.4926 - Accuracy train: 0.8930 VS Accuracy test: 0.8483\n",
      "Epoch  3: Train loss = 0.4567 VS Test loss = 0.6339 - Accuracy train: 0.8899 VS Accuracy test: 0.8384\n",
      "Epoch  4: Train loss = 0.4601 VS Test loss = 0.8759 - Accuracy train: 0.8886 VS Accuracy test: 0.7358\n",
      "100%|██████████| 5/5 [07:12<00:00, 86.40s/it]\n",
      "Save in: checkpoints/MNIST/NLP_50/quant_mnist_bits=4/MNIST_quant_mnist_bits=4_state_dict.pt\n"
     ]
    }
   ],
   "source": [
    "# if run:\n",
    "#     param[\"training\"] = f\"quant_mnist_{bits=}\"\n",
    "#     param[\"epochs\"] = 5\n",
    "#     param[\"lr\"] = 0.1\n",
    "#     param[\"milestones\"] = [1, 3]\n",
    "#     param[\"gamma\"] = 0.1\n",
    "\n",
    "#     quant_mnist_20 = train(quant_mnist_20, train_loader, test_loader, param, device=device)\n",
    "\n",
    "\n",
    "# for n, p in list(fp32_mnist.named_parameters())[:-1]:\n",
    "#         p.requires_grad = False\n",
    "\n",
    "assert str(quant_mnist.nb_layers) in param[\"dir\"]\n",
    "\n",
    "if run:\n",
    "    param[\"training\"] = f\"quant_mnist_{bits=}\"\n",
    "    param[\"epochs\"] = 5\n",
    "    param[\"lr\"] = 0.00000001\n",
    "    param[\"milestones\"] = []\n",
    "    param[\"gamma\"] = 0.1\n",
    "    quant_mnist = train(quant_mnist, train_loader, test_loader, param, device=device)"
   ]
  },
  {
   "cell_type": "code",
   "execution_count": null,
   "metadata": {},
   "outputs": [],
   "source": []
  },
  {
   "cell_type": "code",
   "execution_count": null,
   "metadata": {},
   "outputs": [],
   "source": []
  },
  {
   "cell_type": "code",
   "execution_count": 15,
   "metadata": {},
   "outputs": [
    {
     "name": "stdout",
     "output_type": "stream",
     "text": [
      "With 50-nb_layers: acc_after_ft_train=98.012% vs acc_after_ft_test=96.855%\n"
     ]
    }
   ],
   "source": [
    "nb_layers = 50\n",
    "\n",
    "param[\"dir\"] = f\"./checkpoints/MNIST/NLP_{nb_layers}/\"\n",
    "\n",
    "fp32_mnist = Fp32MNIST(param[\"output_size\"], nb_layers=nb_layers).to(device)\n",
    "checkpoint = torch.load(\n",
    "    f\"checkpoints/MNIST/NLP_{nb_layers}/fp32/MNIST_fp32_state_dict.pt\", map_location=device\n",
    ")\n",
    "fp32_mnist.load_state_dict(checkpoint)\n",
    "\n",
    "acc_after_ft_train = torch_inference(fp32_mnist, train_loader, device=device)\n",
    "acc_after_ft_test = torch_inference(fp32_mnist, test_loader, device=device)\n",
    "\n",
    "print(\n",
    "    f\"With {fp32_mnist.nb_layers}-nb_layers: \"\n",
    "    f\"{acc_after_ft_train=:.3%} vs {acc_after_ft_test=:.3%}\"\n",
    ")"
   ]
  },
  {
   "cell_type": "code",
   "execution_count": 51,
   "metadata": {},
   "outputs": [
    {
     "name": "stdout",
     "output_type": "stream",
     "text": [
      "Accuracy before fine-tuning: acc_before_ft=9.696%\n",
      "Maximum bit-width in the circuit: 14\n",
      "\n"
     ]
    }
   ],
   "source": [
    "bits, run, nb_layers = 4, True, 50\n",
    "\n",
    "quant_mnist = QuantMNIST(bit=bits, output_size=param[\"output_size\"], nb_layers=nb_layers).to(\"cpu\")\n",
    "quant_mnist = mapping_keys(checkpoint, quant_mnist, device=\"cpu\")\n",
    "acc_before_ft = torch_inference(quant_mnist, test_loader, device=device)\n",
    "\n",
    "\"\"\"\n",
    "Accuracy before fine-tuning: acc_before_ft=10.286%\n",
    "Maximum bit-width in the circuit: 16\n",
    "\"\"\"\n",
    "\n",
    "print(f\"Accuracy before fine-tuning: {acc_before_ft=:.3%}\")\n",
    "qmodel = fhe_compatibility(quant_mnist, data_calibration, rounding_threshold_bits=bits)\n",
    "print(f\"Maximum bit-width in the circuit: {qmodel.fhe_circuit.graph.maximum_integer_bit_width()}\\n\")"
   ]
  },
  {
   "cell_type": "code",
   "execution_count": 52,
   "metadata": {},
   "outputs": [
    {
     "name": "stdout",
     "output_type": "stream",
     "text": [
      "checkpoints/MNIST/NLP_50/quant_mnist_bits=4/MNIST_quant_mnist_bits=4_state_dict.pt\n"
     ]
    },
    {
     "data": {
      "text/plain": [
       "<All keys matched successfully>"
      ]
     },
     "execution_count": 52,
     "metadata": {},
     "output_type": "execute_result"
    }
   ],
   "source": [
    "path = (\n",
    "    f\"checkpoints/MNIST/NLP_{nb_layers}/quant_mnist_{bits=}/MNIST_quant_mnist_{bits=}_state_dict.pt\"\n",
    ")\n",
    "print(path)\n",
    "quant_mnist = QuantMNIST(bit=bits, nb_layers=nb_layers).to(\"cpu\")\n",
    "quant_mnist.load_state_dict(torch.load(path, map_location=device))\n",
    "\n",
    "# acc_after_ft_train = torch_inference(quant_mnist, train_loader, device=device)\n",
    "# acc_after_ft_test  = torch_inference(quant_mnist, test_loader, device=device)\n",
    "\n",
    "# print(\n",
    "#     f\"With {quant_mnist.bit}-bits and {quant_mnist.nb_layers}-nb_layers: \"\n",
    "#     f\"{acc_after_ft_train=:.3%} vs {acc_after_ft_test=:.3%}\"\n",
    "#     )\n",
    "\n",
    "# qmodel = fhe_compatibility(quant_mnist, data_calibration, rounding_threshold_bits=bits)\n",
    "# print(f\"Maximum bit-width in the circuit: {qmodel.fhe_circuit.graph.maximum_integer_bit_width()}\\n\")"
   ]
  },
  {
   "cell_type": "code",
   "execution_count": 54,
   "metadata": {},
   "outputs": [
    {
     "name": "stdout",
     "output_type": "stream",
     "text": [
      "Epoch  0: Train loss = 0.4400 VS Test loss = 0.6100 - Accuracy train: 0.8940 VS Accuracy test: 0.8411\n",
      "Epoch  1: Train loss = 0.4530 VS Test loss = 0.3802 - Accuracy train: 0.8917 VS Accuracy test: 0.9366\n",
      "Epoch  2: Train loss = 0.4523 VS Test loss = 0.5532 - Accuracy train: 0.8917 VS Accuracy test: 0.7930\n",
      "Epoch  3: Train loss = 0.4462 VS Test loss = 0.4610 - Accuracy train: 0.8922 VS Accuracy test: 0.9114\n",
      "Epoch  4: Train loss = 0.4488 VS Test loss = 0.5657 - Accuracy train: 0.8912 VS Accuracy test: 0.7489\n",
      "Epoch  5: Train loss = 0.4541 VS Test loss = 0.4020 - Accuracy train: 0.8917 VS Accuracy test: 0.9104\n",
      "Epoch  6: Train loss = 0.4468 VS Test loss = 0.5325 - Accuracy train: 0.8920 VS Accuracy test: 0.8685\n",
      "Epoch  7: Train loss = 0.4451 VS Test loss = 0.4936 - Accuracy train: 0.8929 VS Accuracy test: 0.8282\n",
      "Epoch  8: Train loss = 0.4484 VS Test loss = 0.5095 - Accuracy train: 0.8922 VS Accuracy test: 0.8144\n",
      "Epoch  9: Train loss = 0.4426 VS Test loss = 0.5891 - Accuracy train: 0.8925 VS Accuracy test: 0.7720\n",
      "Epoch 10: Train loss = 0.4487 VS Test loss = 0.4339 - Accuracy train: 0.8924 VS Accuracy test: 0.9341\n",
      "Epoch 11: Train loss = 0.4450 VS Test loss = 0.5444 - Accuracy train: 0.8921 VS Accuracy test: 0.8189\n",
      "Epoch 12: Train loss = 0.4442 VS Test loss = 0.5472 - Accuracy train: 0.8927 VS Accuracy test: 0.8343\n",
      "Epoch 13: Train loss = 0.4475 VS Test loss = 0.4131 - Accuracy train: 0.8922 VS Accuracy test: 0.9317\n",
      "Epoch 14: Train loss = 0.4479 VS Test loss = 0.5178 - Accuracy train: 0.8931 VS Accuracy test: 0.8151\n",
      "100%|██████████| 15/15 [22:17<00:00, 89.16s/it]\n",
      "Save in: checkpoints/MNIST/NLP_50/quant_mnist_bits=4/MNIST_quant_mnist_bits=4_state_dict.pt\n"
     ]
    }
   ],
   "source": [
    "assert str(quant_mnist.nb_layers) in param[\"dir\"]\n",
    "\n",
    "if run:\n",
    "    param[\"training\"] = f\"quant_mnist_{bits=}\"\n",
    "    param[\"epochs\"] = 5\n",
    "    param[\"lr\"] = 0.000001\n",
    "    param[\"milestones\"] = []\n",
    "    param[\"gamma\"] = 0.1\n",
    "    quant_mnist = train(quant_mnist, train_loader, test_loader, param, device=device)"
   ]
  },
  {
   "cell_type": "code",
   "execution_count": 19,
   "metadata": {},
   "outputs": [
    {
     "name": "stdout",
     "output_type": "stream",
     "text": [
      "Maximum bit-width in the circuit: 14\n",
      "\n"
     ]
    }
   ],
   "source": [
    "qmodel = fhe_compatibility(quant_mnist, data_calibration, rounding_threshold_bits=bits)\n",
    "print(f\"Maximum bit-width in the circuit: {qmodel.fhe_circuit.graph.maximum_integer_bit_width()}\\n\")"
   ]
  },
  {
   "cell_type": "markdown",
   "metadata": {},
   "source": [
    "## MNIST 100"
   ]
  },
  {
   "cell_type": "code",
   "execution_count": 19,
   "metadata": {},
   "outputs": [],
   "source": [
    "nb_layers = 100\n",
    "\n",
    "param[\"dir\"] = f\"./checkpoints/MNIST/NLP_{nb_layers}/\"\n",
    "\n",
    "fp32_mnist = Fp32MNIST(nb_layers=nb_layers).to(device)\n",
    "\n",
    "# checkpoint = torch.load(f\"checkpoints/MNIST/NLP_{nb_layers}/fp32/MNIST_fp32_state_dict.pt\", map_location=device)\n",
    "\n",
    "# fp32_mnist.load_state_dict(checkpoint)\n",
    "\n",
    "# acc_after_ft_train = torch_inference(fp32_mnist, train_loader, device=device)\n",
    "# acc_after_ft_test  = torch_inference(fp32_mnist, test_loader, device=device)\n",
    "\n",
    "# print(\n",
    "#     f\"With {fp32_mnist.nb_layers}-nb_layers: \"\n",
    "#     f\"{acc_after_ft_train=:.3%} vs {acc_after_ft_test=:.3%}\"\n",
    "#     )\n",
    "\n",
    "\n",
    "for n, p in list(fp32_mnist.named_parameters()):\n",
    "    p.requires_grad = False\n",
    "\n",
    "# for n, p in list(fp32_mnist.named_parameters())[0:2]:\n",
    "#         p.requires_grad = True\n",
    "\n",
    "for n, p in list(fp32_mnist.named_parameters())[-1:]:\n",
    "    p.requires_grad = True"
   ]
  },
  {
   "cell_type": "code",
   "execution_count": 20,
   "metadata": {},
   "outputs": [
    {
     "name": "stdout",
     "output_type": "stream",
     "text": [
      "Epoch  0: Train loss = 2.4618 VS Test loss = 6525.8071 - Accuracy train: 0.0978 VS Accuracy test: 0.1087\n",
      "Epoch  1: Train loss = 2.4637 VS Test loss = 5.4402 - Accuracy train: 0.1001 VS Accuracy test: 0.0889\n",
      "Epoch  2: Train loss = 2.4636 VS Test loss = 5.0099 - Accuracy train: 0.0984 VS Accuracy test: 0.0976\n",
      "Epoch  3: Train loss = nan VS Test loss = nan - Accuracy train: 0.0974 VS Accuracy test: 0.0980\n",
      "Epoch  4: Train loss = nan VS Test loss = nan - Accuracy train: 0.0987 VS Accuracy test: 0.0981\n",
      "Epoch  5: Train loss = nan VS Test loss = nan - Accuracy train: 0.0988 VS Accuracy test: 0.0982\n",
      "Epoch  6: Train loss = nan VS Test loss = nan - Accuracy train: 0.0988 VS Accuracy test: 0.0982\n",
      " 35%|███▌      | 7/20 [06:05<11:18, 52.16s/it]\n"
     ]
    },
    {
     "ename": "KeyboardInterrupt",
     "evalue": "",
     "output_type": "error",
     "traceback": [
      "\u001b[0;31m---------------------------------------------------------------------------\u001b[0m",
      "\u001b[0;31mKeyboardInterrupt\u001b[0m                         Traceback (most recent call last)",
      "Cell \u001b[0;32mIn[20], line 22\u001b[0m\n\u001b[1;32m     19\u001b[0m param[\u001b[38;5;124m\"\u001b[39m\u001b[38;5;124mmilestones\u001b[39m\u001b[38;5;124m\"\u001b[39m] \u001b[38;5;241m=\u001b[39m [\u001b[38;5;241m4\u001b[39m, \u001b[38;5;241m15\u001b[39m]\n\u001b[1;32m     20\u001b[0m param[\u001b[38;5;124m\"\u001b[39m\u001b[38;5;124mgamma\u001b[39m\u001b[38;5;124m\"\u001b[39m] \u001b[38;5;241m=\u001b[39m \u001b[38;5;241m0.1\u001b[39m\n\u001b[0;32m---> 22\u001b[0m fp32_mnist \u001b[38;5;241m=\u001b[39m \u001b[43mtrain\u001b[49m\u001b[43m(\u001b[49m\u001b[43mfp32_mnist\u001b[49m\u001b[43m,\u001b[49m\u001b[43m \u001b[49m\u001b[43mtrain_loader\u001b[49m\u001b[43m,\u001b[49m\u001b[43m \u001b[49m\u001b[43mtest_loader\u001b[49m\u001b[43m,\u001b[49m\u001b[43m \u001b[49m\u001b[43mparam\u001b[49m\u001b[43m,\u001b[49m\u001b[43m \u001b[49m\u001b[43mdevice\u001b[49m\u001b[38;5;241;43m=\u001b[39;49m\u001b[43mdevice\u001b[49m\u001b[43m)\u001b[49m\n",
      "File \u001b[0;32m~/Desktop/Zama/concrete-internal/use_case_examples/cifar/cifar_brevitas_finetuning/cifar_utils.py:387\u001b[0m, in \u001b[0;36mtrain\u001b[0;34m(model, train_loader, test_loader, param, step, device)\u001b[0m\n\u001b[1;32m    384\u001b[0m model\u001b[39m.\u001b[39mtrain()\n\u001b[1;32m    385\u001b[0m loss_batch_train, accuracy_batch_train \u001b[39m=\u001b[39m [], []\n\u001b[0;32m--> 387\u001b[0m \u001b[39mfor\u001b[39;00m x, y \u001b[39min\u001b[39;00m train_loader:\n\u001b[1;32m    388\u001b[0m     x, y \u001b[39m=\u001b[39m x\u001b[39m.\u001b[39mto(device), y\u001b[39m.\u001b[39mto(device)\n\u001b[1;32m    390\u001b[0m     optimizer\u001b[39m.\u001b[39mzero_grad()\n",
      "File \u001b[0;32m~/Desktop/Zama/concrete-internal/.venv/lib/python3.10/site-packages/torch/utils/data/dataloader.py:628\u001b[0m, in \u001b[0;36m_BaseDataLoaderIter.__next__\u001b[0;34m(self)\u001b[0m\n\u001b[1;32m    625\u001b[0m \u001b[39mif\u001b[39;00m \u001b[39mself\u001b[39m\u001b[39m.\u001b[39m_sampler_iter \u001b[39mis\u001b[39;00m \u001b[39mNone\u001b[39;00m:\n\u001b[1;32m    626\u001b[0m     \u001b[39m# TODO(https://github.com/pytorch/pytorch/issues/76750)\u001b[39;00m\n\u001b[1;32m    627\u001b[0m     \u001b[39mself\u001b[39m\u001b[39m.\u001b[39m_reset()  \u001b[39m# type: ignore[call-arg]\u001b[39;00m\n\u001b[0;32m--> 628\u001b[0m data \u001b[39m=\u001b[39m \u001b[39mself\u001b[39;49m\u001b[39m.\u001b[39;49m_next_data()\n\u001b[1;32m    629\u001b[0m \u001b[39mself\u001b[39m\u001b[39m.\u001b[39m_num_yielded \u001b[39m+\u001b[39m\u001b[39m=\u001b[39m \u001b[39m1\u001b[39m\n\u001b[1;32m    630\u001b[0m \u001b[39mif\u001b[39;00m \u001b[39mself\u001b[39m\u001b[39m.\u001b[39m_dataset_kind \u001b[39m==\u001b[39m _DatasetKind\u001b[39m.\u001b[39mIterable \u001b[39mand\u001b[39;00m \\\n\u001b[1;32m    631\u001b[0m         \u001b[39mself\u001b[39m\u001b[39m.\u001b[39m_IterableDataset_len_called \u001b[39mis\u001b[39;00m \u001b[39mnot\u001b[39;00m \u001b[39mNone\u001b[39;00m \u001b[39mand\u001b[39;00m \\\n\u001b[1;32m    632\u001b[0m         \u001b[39mself\u001b[39m\u001b[39m.\u001b[39m_num_yielded \u001b[39m>\u001b[39m \u001b[39mself\u001b[39m\u001b[39m.\u001b[39m_IterableDataset_len_called:\n",
      "File \u001b[0;32m~/Desktop/Zama/concrete-internal/.venv/lib/python3.10/site-packages/torch/utils/data/dataloader.py:671\u001b[0m, in \u001b[0;36m_SingleProcessDataLoaderIter._next_data\u001b[0;34m(self)\u001b[0m\n\u001b[1;32m    669\u001b[0m \u001b[39mdef\u001b[39;00m \u001b[39m_next_data\u001b[39m(\u001b[39mself\u001b[39m):\n\u001b[1;32m    670\u001b[0m     index \u001b[39m=\u001b[39m \u001b[39mself\u001b[39m\u001b[39m.\u001b[39m_next_index()  \u001b[39m# may raise StopIteration\u001b[39;00m\n\u001b[0;32m--> 671\u001b[0m     data \u001b[39m=\u001b[39m \u001b[39mself\u001b[39;49m\u001b[39m.\u001b[39;49m_dataset_fetcher\u001b[39m.\u001b[39;49mfetch(index)  \u001b[39m# may raise StopIteration\u001b[39;00m\n\u001b[1;32m    672\u001b[0m     \u001b[39mif\u001b[39;00m \u001b[39mself\u001b[39m\u001b[39m.\u001b[39m_pin_memory:\n\u001b[1;32m    673\u001b[0m         data \u001b[39m=\u001b[39m _utils\u001b[39m.\u001b[39mpin_memory\u001b[39m.\u001b[39mpin_memory(data, \u001b[39mself\u001b[39m\u001b[39m.\u001b[39m_pin_memory_device)\n",
      "File \u001b[0;32m~/Desktop/Zama/concrete-internal/.venv/lib/python3.10/site-packages/torch/utils/data/_utils/fetch.py:58\u001b[0m, in \u001b[0;36m_MapDatasetFetcher.fetch\u001b[0;34m(self, possibly_batched_index)\u001b[0m\n\u001b[1;32m     56\u001b[0m         data \u001b[39m=\u001b[39m \u001b[39mself\u001b[39m\u001b[39m.\u001b[39mdataset\u001b[39m.\u001b[39m__getitems__(possibly_batched_index)\n\u001b[1;32m     57\u001b[0m     \u001b[39melse\u001b[39;00m:\n\u001b[0;32m---> 58\u001b[0m         data \u001b[39m=\u001b[39m [\u001b[39mself\u001b[39m\u001b[39m.\u001b[39mdataset[idx] \u001b[39mfor\u001b[39;00m idx \u001b[39min\u001b[39;00m possibly_batched_index]\n\u001b[1;32m     59\u001b[0m \u001b[39melse\u001b[39;00m:\n\u001b[1;32m     60\u001b[0m     data \u001b[39m=\u001b[39m \u001b[39mself\u001b[39m\u001b[39m.\u001b[39mdataset[possibly_batched_index]\n",
      "File \u001b[0;32m~/Desktop/Zama/concrete-internal/.venv/lib/python3.10/site-packages/torch/utils/data/_utils/fetch.py:58\u001b[0m, in \u001b[0;36m<listcomp>\u001b[0;34m(.0)\u001b[0m\n\u001b[1;32m     56\u001b[0m         data \u001b[39m=\u001b[39m \u001b[39mself\u001b[39m\u001b[39m.\u001b[39mdataset\u001b[39m.\u001b[39m__getitems__(possibly_batched_index)\n\u001b[1;32m     57\u001b[0m     \u001b[39melse\u001b[39;00m:\n\u001b[0;32m---> 58\u001b[0m         data \u001b[39m=\u001b[39m [\u001b[39mself\u001b[39;49m\u001b[39m.\u001b[39;49mdataset[idx] \u001b[39mfor\u001b[39;00m idx \u001b[39min\u001b[39;00m possibly_batched_index]\n\u001b[1;32m     59\u001b[0m \u001b[39melse\u001b[39;00m:\n\u001b[1;32m     60\u001b[0m     data \u001b[39m=\u001b[39m \u001b[39mself\u001b[39m\u001b[39m.\u001b[39mdataset[possibly_batched_index]\n",
      "File \u001b[0;32m~/Desktop/Zama/concrete-internal/.venv/lib/python3.10/site-packages/torchvision/datasets/mnist.py:145\u001b[0m, in \u001b[0;36mMNIST.__getitem__\u001b[0;34m(self, index)\u001b[0m\n\u001b[1;32m    142\u001b[0m img \u001b[39m=\u001b[39m Image\u001b[39m.\u001b[39mfromarray(img\u001b[39m.\u001b[39mnumpy(), mode\u001b[39m=\u001b[39m\u001b[39m\"\u001b[39m\u001b[39mL\u001b[39m\u001b[39m\"\u001b[39m)\n\u001b[1;32m    144\u001b[0m \u001b[39mif\u001b[39;00m \u001b[39mself\u001b[39m\u001b[39m.\u001b[39mtransform \u001b[39mis\u001b[39;00m \u001b[39mnot\u001b[39;00m \u001b[39mNone\u001b[39;00m:\n\u001b[0;32m--> 145\u001b[0m     img \u001b[39m=\u001b[39m \u001b[39mself\u001b[39;49m\u001b[39m.\u001b[39;49mtransform(img)\n\u001b[1;32m    147\u001b[0m \u001b[39mif\u001b[39;00m \u001b[39mself\u001b[39m\u001b[39m.\u001b[39mtarget_transform \u001b[39mis\u001b[39;00m \u001b[39mnot\u001b[39;00m \u001b[39mNone\u001b[39;00m:\n\u001b[1;32m    148\u001b[0m     target \u001b[39m=\u001b[39m \u001b[39mself\u001b[39m\u001b[39m.\u001b[39mtarget_transform(target)\n",
      "File \u001b[0;32m~/Desktop/Zama/concrete-internal/.venv/lib/python3.10/site-packages/torchvision/transforms/transforms.py:95\u001b[0m, in \u001b[0;36mCompose.__call__\u001b[0;34m(self, img)\u001b[0m\n\u001b[1;32m     93\u001b[0m \u001b[39mdef\u001b[39;00m \u001b[39m__call__\u001b[39m(\u001b[39mself\u001b[39m, img):\n\u001b[1;32m     94\u001b[0m     \u001b[39mfor\u001b[39;00m t \u001b[39min\u001b[39;00m \u001b[39mself\u001b[39m\u001b[39m.\u001b[39mtransforms:\n\u001b[0;32m---> 95\u001b[0m         img \u001b[39m=\u001b[39m t(img)\n\u001b[1;32m     96\u001b[0m     \u001b[39mreturn\u001b[39;00m img\n",
      "File \u001b[0;32m~/Desktop/Zama/concrete-internal/.venv/lib/python3.10/site-packages/torch/nn/modules/module.py:1194\u001b[0m, in \u001b[0;36mModule._call_impl\u001b[0;34m(self, *input, **kwargs)\u001b[0m\n\u001b[1;32m   1190\u001b[0m \u001b[39m# If we don't have any hooks, we want to skip the rest of the logic in\u001b[39;00m\n\u001b[1;32m   1191\u001b[0m \u001b[39m# this function, and just call forward.\u001b[39;00m\n\u001b[1;32m   1192\u001b[0m \u001b[39mif\u001b[39;00m \u001b[39mnot\u001b[39;00m (\u001b[39mself\u001b[39m\u001b[39m.\u001b[39m_backward_hooks \u001b[39mor\u001b[39;00m \u001b[39mself\u001b[39m\u001b[39m.\u001b[39m_forward_hooks \u001b[39mor\u001b[39;00m \u001b[39mself\u001b[39m\u001b[39m.\u001b[39m_forward_pre_hooks \u001b[39mor\u001b[39;00m _global_backward_hooks\n\u001b[1;32m   1193\u001b[0m         \u001b[39mor\u001b[39;00m _global_forward_hooks \u001b[39mor\u001b[39;00m _global_forward_pre_hooks):\n\u001b[0;32m-> 1194\u001b[0m     \u001b[39mreturn\u001b[39;00m forward_call(\u001b[39m*\u001b[39;49m\u001b[39minput\u001b[39;49m, \u001b[39m*\u001b[39;49m\u001b[39m*\u001b[39;49mkwargs)\n\u001b[1;32m   1195\u001b[0m \u001b[39m# Do not call functions when jit is used\u001b[39;00m\n\u001b[1;32m   1196\u001b[0m full_backward_hooks, non_full_backward_hooks \u001b[39m=\u001b[39m [], []\n",
      "File \u001b[0;32m~/Desktop/Zama/concrete-internal/.venv/lib/python3.10/site-packages/torchvision/transforms/transforms.py:1799\u001b[0m, in \u001b[0;36mGaussianBlur.forward\u001b[0;34m(self, img)\u001b[0m\n\u001b[1;32m   1791\u001b[0m \u001b[39m\u001b[39m\u001b[39m\"\"\"\u001b[39;00m\n\u001b[1;32m   1792\u001b[0m \u001b[39mArgs:\u001b[39;00m\n\u001b[1;32m   1793\u001b[0m \u001b[39m    img (PIL Image or Tensor): image to be blurred.\u001b[39;00m\n\u001b[0;32m   (...)\u001b[0m\n\u001b[1;32m   1796\u001b[0m \u001b[39m    PIL Image or Tensor: Gaussian blurred image\u001b[39;00m\n\u001b[1;32m   1797\u001b[0m \u001b[39m\"\"\"\u001b[39;00m\n\u001b[1;32m   1798\u001b[0m sigma \u001b[39m=\u001b[39m \u001b[39mself\u001b[39m\u001b[39m.\u001b[39mget_params(\u001b[39mself\u001b[39m\u001b[39m.\u001b[39msigma[\u001b[39m0\u001b[39m], \u001b[39mself\u001b[39m\u001b[39m.\u001b[39msigma[\u001b[39m1\u001b[39m])\n\u001b[0;32m-> 1799\u001b[0m \u001b[39mreturn\u001b[39;00m F\u001b[39m.\u001b[39;49mgaussian_blur(img, \u001b[39mself\u001b[39;49m\u001b[39m.\u001b[39;49mkernel_size, [sigma, sigma])\n",
      "File \u001b[0;32m~/Desktop/Zama/concrete-internal/.venv/lib/python3.10/site-packages/torchvision/transforms/functional.py:1366\u001b[0m, in \u001b[0;36mgaussian_blur\u001b[0;34m(img, kernel_size, sigma)\u001b[0m\n\u001b[1;32m   1362\u001b[0m         \u001b[39mraise\u001b[39;00m \u001b[39mTypeError\u001b[39;00m(\u001b[39mf\u001b[39m\u001b[39m\"\u001b[39m\u001b[39mimg should be PIL Image or Tensor. Got \u001b[39m\u001b[39m{\u001b[39;00m\u001b[39mtype\u001b[39m(img)\u001b[39m}\u001b[39;00m\u001b[39m\"\u001b[39m)\n\u001b[1;32m   1364\u001b[0m     t_img \u001b[39m=\u001b[39m pil_to_tensor(img)\n\u001b[0;32m-> 1366\u001b[0m output \u001b[39m=\u001b[39m F_t\u001b[39m.\u001b[39;49mgaussian_blur(t_img, kernel_size, sigma)\n\u001b[1;32m   1368\u001b[0m \u001b[39mif\u001b[39;00m \u001b[39mnot\u001b[39;00m \u001b[39misinstance\u001b[39m(img, torch\u001b[39m.\u001b[39mTensor):\n\u001b[1;32m   1369\u001b[0m     output \u001b[39m=\u001b[39m to_pil_image(output, mode\u001b[39m=\u001b[39mimg\u001b[39m.\u001b[39mmode)\n",
      "File \u001b[0;32m~/Desktop/Zama/concrete-internal/.venv/lib/python3.10/site-packages/torchvision/transforms/functional_tensor.py:755\u001b[0m, in \u001b[0;36mgaussian_blur\u001b[0;34m(img, kernel_size, sigma)\u001b[0m\n\u001b[1;32m    752\u001b[0m _assert_image_tensor(img)\n\u001b[1;32m    754\u001b[0m dtype \u001b[39m=\u001b[39m img\u001b[39m.\u001b[39mdtype \u001b[39mif\u001b[39;00m torch\u001b[39m.\u001b[39mis_floating_point(img) \u001b[39melse\u001b[39;00m torch\u001b[39m.\u001b[39mfloat32\n\u001b[0;32m--> 755\u001b[0m kernel \u001b[39m=\u001b[39m _get_gaussian_kernel2d(kernel_size, sigma, dtype\u001b[39m=\u001b[39;49mdtype, device\u001b[39m=\u001b[39;49mimg\u001b[39m.\u001b[39;49mdevice)\n\u001b[1;32m    756\u001b[0m kernel \u001b[39m=\u001b[39m kernel\u001b[39m.\u001b[39mexpand(img\u001b[39m.\u001b[39mshape[\u001b[39m-\u001b[39m\u001b[39m3\u001b[39m], \u001b[39m1\u001b[39m, kernel\u001b[39m.\u001b[39mshape[\u001b[39m0\u001b[39m], kernel\u001b[39m.\u001b[39mshape[\u001b[39m1\u001b[39m])\n\u001b[1;32m    758\u001b[0m img, need_cast, need_squeeze, out_dtype \u001b[39m=\u001b[39m _cast_squeeze_in(\n\u001b[1;32m    759\u001b[0m     img,\n\u001b[1;32m    760\u001b[0m     [\n\u001b[1;32m    761\u001b[0m         kernel\u001b[39m.\u001b[39mdtype,\n\u001b[1;32m    762\u001b[0m     ],\n\u001b[1;32m    763\u001b[0m )\n",
      "File \u001b[0;32m~/Desktop/Zama/concrete-internal/.venv/lib/python3.10/site-packages/torchvision/transforms/functional_tensor.py:742\u001b[0m, in \u001b[0;36m_get_gaussian_kernel2d\u001b[0;34m(kernel_size, sigma, dtype, device)\u001b[0m\n\u001b[1;32m    739\u001b[0m \u001b[39mdef\u001b[39;00m \u001b[39m_get_gaussian_kernel2d\u001b[39m(\n\u001b[1;32m    740\u001b[0m     kernel_size: List[\u001b[39mint\u001b[39m], sigma: List[\u001b[39mfloat\u001b[39m], dtype: torch\u001b[39m.\u001b[39mdtype, device: torch\u001b[39m.\u001b[39mdevice\n\u001b[1;32m    741\u001b[0m ) \u001b[39m-\u001b[39m\u001b[39m>\u001b[39m Tensor:\n\u001b[0;32m--> 742\u001b[0m     kernel1d_x \u001b[39m=\u001b[39m _get_gaussian_kernel1d(kernel_size[\u001b[39m0\u001b[39;49m], sigma[\u001b[39m0\u001b[39;49m])\u001b[39m.\u001b[39mto(device, dtype\u001b[39m=\u001b[39mdtype)\n\u001b[1;32m    743\u001b[0m     kernel1d_y \u001b[39m=\u001b[39m _get_gaussian_kernel1d(kernel_size[\u001b[39m1\u001b[39m], sigma[\u001b[39m1\u001b[39m])\u001b[39m.\u001b[39mto(device, dtype\u001b[39m=\u001b[39mdtype)\n\u001b[1;32m    744\u001b[0m     kernel2d \u001b[39m=\u001b[39m torch\u001b[39m.\u001b[39mmm(kernel1d_y[:, \u001b[39mNone\u001b[39;00m], kernel1d_x[\u001b[39mNone\u001b[39;00m, :])\n",
      "File \u001b[0;32m~/Desktop/Zama/concrete-internal/.venv/lib/python3.10/site-packages/torchvision/transforms/functional_tensor.py:733\u001b[0m, in \u001b[0;36m_get_gaussian_kernel1d\u001b[0;34m(kernel_size, sigma)\u001b[0m\n\u001b[1;32m    730\u001b[0m ksize_half \u001b[39m=\u001b[39m (kernel_size \u001b[39m-\u001b[39m \u001b[39m1\u001b[39m) \u001b[39m*\u001b[39m \u001b[39m0.5\u001b[39m\n\u001b[1;32m    732\u001b[0m x \u001b[39m=\u001b[39m torch\u001b[39m.\u001b[39mlinspace(\u001b[39m-\u001b[39mksize_half, ksize_half, steps\u001b[39m=\u001b[39mkernel_size)\n\u001b[0;32m--> 733\u001b[0m pdf \u001b[39m=\u001b[39m torch\u001b[39m.\u001b[39;49mexp(\u001b[39m-\u001b[39;49m\u001b[39m0.5\u001b[39;49m \u001b[39m*\u001b[39;49m (x \u001b[39m/\u001b[39;49m sigma)\u001b[39m.\u001b[39;49mpow(\u001b[39m2\u001b[39;49m))\n\u001b[1;32m    734\u001b[0m kernel1d \u001b[39m=\u001b[39m pdf \u001b[39m/\u001b[39m pdf\u001b[39m.\u001b[39msum()\n\u001b[1;32m    736\u001b[0m \u001b[39mreturn\u001b[39;00m kernel1d\n",
      "\u001b[0;31mKeyboardInterrupt\u001b[0m: "
     ]
    }
   ],
   "source": [
    "# for name in fp32_mnist:\n",
    "#     if name in mnist_nlp50 and fp32_mnist[name].size() == mnist_nlp50[name].size():\n",
    "#         mnist_nlp50[name].copy_(fp32_mnist[name])\n",
    "\n",
    "# fp32_mnist.load_state_dict(checkpoint)\n",
    "\n",
    "for n, p in list(fp32_mnist.named_parameters())[0:95]:\n",
    "    p.requires_grad = True\n",
    "\n",
    "# for n, p in list(fp32_mnist.named_parameters())[]:\n",
    "#         p.requires_grad = True\n",
    "\n",
    "run = 1\n",
    "\n",
    "if run:\n",
    "    param[\"training\"] = \"fp32\"\n",
    "    param[\"epochs\"] = 20\n",
    "    param[\"lr\"] = 0.1\n",
    "    param[\"milestones\"] = [4, 15]\n",
    "    param[\"gamma\"] = 0.1\n",
    "\n",
    "    fp32_mnist = train(fp32_mnist, train_loader, test_loader, param, device=device)"
   ]
  },
  {
   "cell_type": "code",
   "execution_count": null,
   "metadata": {},
   "outputs": [],
   "source": []
  }
 ],
 "metadata": {
  "execution": {
   "timeout": 10800
  },
  "kernelspec": {
   "display_name": "Python 3.10.12 ('.venv': poetry)",
   "language": "python",
   "name": "python3"
  },
  "language_info": {
   "name": "python",
   "version": "3.10.12"
  },
  "vscode": {
   "interpreter": {
    "hash": "1069ca3ee43010eb0dc75ae1023d43c37aff1ecf2400458a3da60effb006872e"
   }
  }
 },
 "nbformat": 4,
 "nbformat_minor": 2
}
